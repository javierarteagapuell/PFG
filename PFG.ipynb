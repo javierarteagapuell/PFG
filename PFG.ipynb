{
  "cells": [
    {
      "cell_type": "markdown",
      "source": [
        "**PFG JAVIER ARTEAGA**"
      ],
      "metadata": {
        "id": "yWasFXITAvLT"
      }
    },
    {
      "cell_type": "markdown",
      "source": [
        "Este Proyecto Fin de Grado tiene como objetivo emplear técnicas de Machine Learning con el fin de conseguir una clasificación de los datos.\n",
        "\n",
        "Se verán distintos algoritmos de clasificación clásica centrándose en el algoritmo Support Vector Machine (SVM), LogisticRegression (LR) y AdaBoost y comparando como se desempeñan en este caso.\n",
        "\n",
        "La clasificación en este proyecto no va a ser únicamente clásica, se introducirán conceptos cuánticos con el fin de implementar un algoritmo de clasificación de QSVM, Quantum Support Vector Machine y Neuronal Network (cuántico).\n",
        "\n",
        "Se verá en profundidad cómo funciona estos algoritmos y por último se veran cuales de los algoritmos, clásico o cuántico son capaces de alcanzar la precisión del modelo.\n",
        "\n",
        "Esto se va aplicar a un caso de uso en relación con los accidentes de tráfico, en concreto se pordrá ver si en un accidente va a ver víctimas mortales o no, esto de categoriza en la variable 'muertos', la cual es nuestra variable objetivo"
      ],
      "metadata": {
        "id": "v3vTWvNhA4L-"
      }
    },
    {
      "cell_type": "markdown",
      "metadata": {
        "id": "XdIh2Kfd1VGc"
      },
      "source": [
        "#LIBRERIAS"
      ]
    },
    {
      "cell_type": "markdown",
      "source": [
        "Se cargan todas las librerias usadas durante el proyecto"
      ],
      "metadata": {
        "id": "g8xA5aTH-IoS"
      }
    },
    {
      "cell_type": "code",
      "execution_count": 2,
      "metadata": {
        "id": "xbC_hP6-DiKG"
      },
      "outputs": [],
      "source": [
        "import numpy as np\n",
        "import pandas as pd\n",
        "\n",
        "import matplotlib.pyplot as plt\n",
        "\n",
        "from keras import models\n",
        "from keras import layers\n",
        "\n",
        "from sklearn.linear_model import LogisticRegression\n",
        "from sklearn.svm import SVC\n",
        "from sklearn.linear_model import SGDClassifier\n",
        "from sklearn.tree import DecisionTreeClassifier\n",
        "from sklearn.ensemble import RandomForestClassifier, GradientBoostingClassifier, AdaBoostClassifier\n",
        "\n",
        "from sklearn.metrics import accuracy_score\n",
        "from sklearn.metrics import confusion_matrix\n",
        "\n",
        "from sklearn.preprocessing import StandardScaler\n",
        "from sklearn.model_selection import train_test_split\n",
        "from sklearn.preprocessing import MinMaxScaler\n",
        "import torch\n",
        "import torch.nn as nn\n",
        "%matplotlib inline"
      ]
    },
    {
      "cell_type": "markdown",
      "metadata": {
        "id": "t1k1n2sH_wzA"
      },
      "source": [
        "#PREPROCESAMIENTO"
      ]
    },
    {
      "cell_type": "markdown",
      "metadata": {
        "id": "0oQdED9wxL6Y"
      },
      "source": [
        "##Cargar BBDD"
      ]
    },
    {
      "cell_type": "markdown",
      "metadata": {
        "id": "s4Ey1I-QxSXE"
      },
      "source": [
        "Se carga la base de datos de accidentes de tráfico de California"
      ]
    },
    {
      "cell_type": "code",
      "execution_count": 3,
      "metadata": {
        "colab": {
          "base_uri": "https://localhost:8080/",
          "height": 0
        },
        "id": "8dvKSczaxn85",
        "outputId": "d0decefe-ee3d-45b8-97f8-2bd41f96e78c"
      },
      "outputs": [
        {
          "output_type": "execute_result",
          "data": {
            "text/plain": [
              "        ID        zona  county_road_area  interstate  stateroute  autopista  \\\n",
              "0  3858022      fresno                 0           0           0          0   \n",
              "1  3858022      fresno                 0           0           0          0   \n",
              "2  3858022      fresno                 0           0           0          0   \n",
              "3  3858022      fresno                 0           0           0          0   \n",
              "4  3899450  losangeles                 0           1           0          0   \n",
              "\n",
              "   notchp    num        calle  mal_tiempo  ...  insurance  cellphone   marca  \\\n",
              "0       1  1STST  EASTCLINTON         0.0  ...        1.0        NaN   dodge   \n",
              "1       1  1STST  EASTCLINTON         0.0  ...        1.0        NaN   dodge   \n",
              "2       1  1STST  EASTCLINTON         0.0  ...        1.0        NaN  nissan   \n",
              "3       1  1STST  EASTCLINTON         0.0  ...        1.0        NaN  nissan   \n",
              "4       0  RT710     CARSONST         0.0  ...        1.0        0.0  toyota   \n",
              "\n",
              "   piel_clara  asiatico  hispano  conductor_victima  pasajero_victima  \\\n",
              "0         0.0       0.0      0.0                1.0               0.0   \n",
              "1         0.0       0.0      0.0                1.0               0.0   \n",
              "2         0.0       0.0      1.0                1.0               0.0   \n",
              "3         0.0       0.0      1.0                1.0               0.0   \n",
              "4         0.0       0.0      0.0                1.0               0.0   \n",
              "\n",
              "   victimas_heridas  muertos  \n",
              "0                 0        0  \n",
              "1                 0        0  \n",
              "2                 0        0  \n",
              "3                 0        0  \n",
              "4                 1        0  \n",
              "\n",
              "[5 rows x 43 columns]"
            ],
            "text/html": [
              "\n",
              "  <div id=\"df-08fa5038-e58a-4057-96e5-3a9c1c086b47\" class=\"colab-df-container\">\n",
              "    <div>\n",
              "<style scoped>\n",
              "    .dataframe tbody tr th:only-of-type {\n",
              "        vertical-align: middle;\n",
              "    }\n",
              "\n",
              "    .dataframe tbody tr th {\n",
              "        vertical-align: top;\n",
              "    }\n",
              "\n",
              "    .dataframe thead th {\n",
              "        text-align: right;\n",
              "    }\n",
              "</style>\n",
              "<table border=\"1\" class=\"dataframe\">\n",
              "  <thead>\n",
              "    <tr style=\"text-align: right;\">\n",
              "      <th></th>\n",
              "      <th>ID</th>\n",
              "      <th>zona</th>\n",
              "      <th>county_road_area</th>\n",
              "      <th>interstate</th>\n",
              "      <th>stateroute</th>\n",
              "      <th>autopista</th>\n",
              "      <th>notchp</th>\n",
              "      <th>num</th>\n",
              "      <th>calle</th>\n",
              "      <th>mal_tiempo</th>\n",
              "      <th>...</th>\n",
              "      <th>insurance</th>\n",
              "      <th>cellphone</th>\n",
              "      <th>marca</th>\n",
              "      <th>piel_clara</th>\n",
              "      <th>asiatico</th>\n",
              "      <th>hispano</th>\n",
              "      <th>conductor_victima</th>\n",
              "      <th>pasajero_victima</th>\n",
              "      <th>victimas_heridas</th>\n",
              "      <th>muertos</th>\n",
              "    </tr>\n",
              "  </thead>\n",
              "  <tbody>\n",
              "    <tr>\n",
              "      <th>0</th>\n",
              "      <td>3858022</td>\n",
              "      <td>fresno</td>\n",
              "      <td>0</td>\n",
              "      <td>0</td>\n",
              "      <td>0</td>\n",
              "      <td>0</td>\n",
              "      <td>1</td>\n",
              "      <td>1STST</td>\n",
              "      <td>EASTCLINTON</td>\n",
              "      <td>0.0</td>\n",
              "      <td>...</td>\n",
              "      <td>1.0</td>\n",
              "      <td>NaN</td>\n",
              "      <td>dodge</td>\n",
              "      <td>0.0</td>\n",
              "      <td>0.0</td>\n",
              "      <td>0.0</td>\n",
              "      <td>1.0</td>\n",
              "      <td>0.0</td>\n",
              "      <td>0</td>\n",
              "      <td>0</td>\n",
              "    </tr>\n",
              "    <tr>\n",
              "      <th>1</th>\n",
              "      <td>3858022</td>\n",
              "      <td>fresno</td>\n",
              "      <td>0</td>\n",
              "      <td>0</td>\n",
              "      <td>0</td>\n",
              "      <td>0</td>\n",
              "      <td>1</td>\n",
              "      <td>1STST</td>\n",
              "      <td>EASTCLINTON</td>\n",
              "      <td>0.0</td>\n",
              "      <td>...</td>\n",
              "      <td>1.0</td>\n",
              "      <td>NaN</td>\n",
              "      <td>dodge</td>\n",
              "      <td>0.0</td>\n",
              "      <td>0.0</td>\n",
              "      <td>0.0</td>\n",
              "      <td>1.0</td>\n",
              "      <td>0.0</td>\n",
              "      <td>0</td>\n",
              "      <td>0</td>\n",
              "    </tr>\n",
              "    <tr>\n",
              "      <th>2</th>\n",
              "      <td>3858022</td>\n",
              "      <td>fresno</td>\n",
              "      <td>0</td>\n",
              "      <td>0</td>\n",
              "      <td>0</td>\n",
              "      <td>0</td>\n",
              "      <td>1</td>\n",
              "      <td>1STST</td>\n",
              "      <td>EASTCLINTON</td>\n",
              "      <td>0.0</td>\n",
              "      <td>...</td>\n",
              "      <td>1.0</td>\n",
              "      <td>NaN</td>\n",
              "      <td>nissan</td>\n",
              "      <td>0.0</td>\n",
              "      <td>0.0</td>\n",
              "      <td>1.0</td>\n",
              "      <td>1.0</td>\n",
              "      <td>0.0</td>\n",
              "      <td>0</td>\n",
              "      <td>0</td>\n",
              "    </tr>\n",
              "    <tr>\n",
              "      <th>3</th>\n",
              "      <td>3858022</td>\n",
              "      <td>fresno</td>\n",
              "      <td>0</td>\n",
              "      <td>0</td>\n",
              "      <td>0</td>\n",
              "      <td>0</td>\n",
              "      <td>1</td>\n",
              "      <td>1STST</td>\n",
              "      <td>EASTCLINTON</td>\n",
              "      <td>0.0</td>\n",
              "      <td>...</td>\n",
              "      <td>1.0</td>\n",
              "      <td>NaN</td>\n",
              "      <td>nissan</td>\n",
              "      <td>0.0</td>\n",
              "      <td>0.0</td>\n",
              "      <td>1.0</td>\n",
              "      <td>1.0</td>\n",
              "      <td>0.0</td>\n",
              "      <td>0</td>\n",
              "      <td>0</td>\n",
              "    </tr>\n",
              "    <tr>\n",
              "      <th>4</th>\n",
              "      <td>3899450</td>\n",
              "      <td>losangeles</td>\n",
              "      <td>0</td>\n",
              "      <td>1</td>\n",
              "      <td>0</td>\n",
              "      <td>0</td>\n",
              "      <td>0</td>\n",
              "      <td>RT710</td>\n",
              "      <td>CARSONST</td>\n",
              "      <td>0.0</td>\n",
              "      <td>...</td>\n",
              "      <td>1.0</td>\n",
              "      <td>0.0</td>\n",
              "      <td>toyota</td>\n",
              "      <td>0.0</td>\n",
              "      <td>0.0</td>\n",
              "      <td>0.0</td>\n",
              "      <td>1.0</td>\n",
              "      <td>0.0</td>\n",
              "      <td>1</td>\n",
              "      <td>0</td>\n",
              "    </tr>\n",
              "  </tbody>\n",
              "</table>\n",
              "<p>5 rows × 43 columns</p>\n",
              "</div>\n",
              "    <div class=\"colab-df-buttons\">\n",
              "\n",
              "  <div class=\"colab-df-container\">\n",
              "    <button class=\"colab-df-convert\" onclick=\"convertToInteractive('df-08fa5038-e58a-4057-96e5-3a9c1c086b47')\"\n",
              "            title=\"Convert this dataframe to an interactive table.\"\n",
              "            style=\"display:none;\">\n",
              "\n",
              "  <svg xmlns=\"http://www.w3.org/2000/svg\" height=\"24px\" viewBox=\"0 -960 960 960\">\n",
              "    <path d=\"M120-120v-720h720v720H120Zm60-500h600v-160H180v160Zm220 220h160v-160H400v160Zm0 220h160v-160H400v160ZM180-400h160v-160H180v160Zm440 0h160v-160H620v160ZM180-180h160v-160H180v160Zm440 0h160v-160H620v160Z\"/>\n",
              "  </svg>\n",
              "    </button>\n",
              "\n",
              "  <style>\n",
              "    .colab-df-container {\n",
              "      display:flex;\n",
              "      gap: 12px;\n",
              "    }\n",
              "\n",
              "    .colab-df-convert {\n",
              "      background-color: #E8F0FE;\n",
              "      border: none;\n",
              "      border-radius: 50%;\n",
              "      cursor: pointer;\n",
              "      display: none;\n",
              "      fill: #1967D2;\n",
              "      height: 32px;\n",
              "      padding: 0 0 0 0;\n",
              "      width: 32px;\n",
              "    }\n",
              "\n",
              "    .colab-df-convert:hover {\n",
              "      background-color: #E2EBFA;\n",
              "      box-shadow: 0px 1px 2px rgba(60, 64, 67, 0.3), 0px 1px 3px 1px rgba(60, 64, 67, 0.15);\n",
              "      fill: #174EA6;\n",
              "    }\n",
              "\n",
              "    .colab-df-buttons div {\n",
              "      margin-bottom: 4px;\n",
              "    }\n",
              "\n",
              "    [theme=dark] .colab-df-convert {\n",
              "      background-color: #3B4455;\n",
              "      fill: #D2E3FC;\n",
              "    }\n",
              "\n",
              "    [theme=dark] .colab-df-convert:hover {\n",
              "      background-color: #434B5C;\n",
              "      box-shadow: 0px 1px 3px 1px rgba(0, 0, 0, 0.15);\n",
              "      filter: drop-shadow(0px 1px 2px rgba(0, 0, 0, 0.3));\n",
              "      fill: #FFFFFF;\n",
              "    }\n",
              "  </style>\n",
              "\n",
              "    <script>\n",
              "      const buttonEl =\n",
              "        document.querySelector('#df-08fa5038-e58a-4057-96e5-3a9c1c086b47 button.colab-df-convert');\n",
              "      buttonEl.style.display =\n",
              "        google.colab.kernel.accessAllowed ? 'block' : 'none';\n",
              "\n",
              "      async function convertToInteractive(key) {\n",
              "        const element = document.querySelector('#df-08fa5038-e58a-4057-96e5-3a9c1c086b47');\n",
              "        const dataTable =\n",
              "          await google.colab.kernel.invokeFunction('convertToInteractive',\n",
              "                                                    [key], {});\n",
              "        if (!dataTable) return;\n",
              "\n",
              "        const docLinkHtml = 'Like what you see? Visit the ' +\n",
              "          '<a target=\"_blank\" href=https://colab.research.google.com/notebooks/data_table.ipynb>data table notebook</a>'\n",
              "          + ' to learn more about interactive tables.';\n",
              "        element.innerHTML = '';\n",
              "        dataTable['output_type'] = 'display_data';\n",
              "        await google.colab.output.renderOutput(dataTable, element);\n",
              "        const docLink = document.createElement('div');\n",
              "        docLink.innerHTML = docLinkHtml;\n",
              "        element.appendChild(docLink);\n",
              "      }\n",
              "    </script>\n",
              "  </div>\n",
              "\n",
              "\n",
              "<div id=\"df-172718fa-7b47-4e80-a6c1-8b8c491fcce4\">\n",
              "  <button class=\"colab-df-quickchart\" onclick=\"quickchart('df-172718fa-7b47-4e80-a6c1-8b8c491fcce4')\"\n",
              "            title=\"Suggest charts\"\n",
              "            style=\"display:none;\">\n",
              "\n",
              "<svg xmlns=\"http://www.w3.org/2000/svg\" height=\"24px\"viewBox=\"0 0 24 24\"\n",
              "     width=\"24px\">\n",
              "    <g>\n",
              "        <path d=\"M19 3H5c-1.1 0-2 .9-2 2v14c0 1.1.9 2 2 2h14c1.1 0 2-.9 2-2V5c0-1.1-.9-2-2-2zM9 17H7v-7h2v7zm4 0h-2V7h2v10zm4 0h-2v-4h2v4z\"/>\n",
              "    </g>\n",
              "</svg>\n",
              "  </button>\n",
              "\n",
              "<style>\n",
              "  .colab-df-quickchart {\n",
              "      --bg-color: #E8F0FE;\n",
              "      --fill-color: #1967D2;\n",
              "      --hover-bg-color: #E2EBFA;\n",
              "      --hover-fill-color: #174EA6;\n",
              "      --disabled-fill-color: #AAA;\n",
              "      --disabled-bg-color: #DDD;\n",
              "  }\n",
              "\n",
              "  [theme=dark] .colab-df-quickchart {\n",
              "      --bg-color: #3B4455;\n",
              "      --fill-color: #D2E3FC;\n",
              "      --hover-bg-color: #434B5C;\n",
              "      --hover-fill-color: #FFFFFF;\n",
              "      --disabled-bg-color: #3B4455;\n",
              "      --disabled-fill-color: #666;\n",
              "  }\n",
              "\n",
              "  .colab-df-quickchart {\n",
              "    background-color: var(--bg-color);\n",
              "    border: none;\n",
              "    border-radius: 50%;\n",
              "    cursor: pointer;\n",
              "    display: none;\n",
              "    fill: var(--fill-color);\n",
              "    height: 32px;\n",
              "    padding: 0;\n",
              "    width: 32px;\n",
              "  }\n",
              "\n",
              "  .colab-df-quickchart:hover {\n",
              "    background-color: var(--hover-bg-color);\n",
              "    box-shadow: 0 1px 2px rgba(60, 64, 67, 0.3), 0 1px 3px 1px rgba(60, 64, 67, 0.15);\n",
              "    fill: var(--button-hover-fill-color);\n",
              "  }\n",
              "\n",
              "  .colab-df-quickchart-complete:disabled,\n",
              "  .colab-df-quickchart-complete:disabled:hover {\n",
              "    background-color: var(--disabled-bg-color);\n",
              "    fill: var(--disabled-fill-color);\n",
              "    box-shadow: none;\n",
              "  }\n",
              "\n",
              "  .colab-df-spinner {\n",
              "    border: 2px solid var(--fill-color);\n",
              "    border-color: transparent;\n",
              "    border-bottom-color: var(--fill-color);\n",
              "    animation:\n",
              "      spin 1s steps(1) infinite;\n",
              "  }\n",
              "\n",
              "  @keyframes spin {\n",
              "    0% {\n",
              "      border-color: transparent;\n",
              "      border-bottom-color: var(--fill-color);\n",
              "      border-left-color: var(--fill-color);\n",
              "    }\n",
              "    20% {\n",
              "      border-color: transparent;\n",
              "      border-left-color: var(--fill-color);\n",
              "      border-top-color: var(--fill-color);\n",
              "    }\n",
              "    30% {\n",
              "      border-color: transparent;\n",
              "      border-left-color: var(--fill-color);\n",
              "      border-top-color: var(--fill-color);\n",
              "      border-right-color: var(--fill-color);\n",
              "    }\n",
              "    40% {\n",
              "      border-color: transparent;\n",
              "      border-right-color: var(--fill-color);\n",
              "      border-top-color: var(--fill-color);\n",
              "    }\n",
              "    60% {\n",
              "      border-color: transparent;\n",
              "      border-right-color: var(--fill-color);\n",
              "    }\n",
              "    80% {\n",
              "      border-color: transparent;\n",
              "      border-right-color: var(--fill-color);\n",
              "      border-bottom-color: var(--fill-color);\n",
              "    }\n",
              "    90% {\n",
              "      border-color: transparent;\n",
              "      border-bottom-color: var(--fill-color);\n",
              "    }\n",
              "  }\n",
              "</style>\n",
              "\n",
              "  <script>\n",
              "    async function quickchart(key) {\n",
              "      const quickchartButtonEl =\n",
              "        document.querySelector('#' + key + ' button');\n",
              "      quickchartButtonEl.disabled = true;  // To prevent multiple clicks.\n",
              "      quickchartButtonEl.classList.add('colab-df-spinner');\n",
              "      try {\n",
              "        const charts = await google.colab.kernel.invokeFunction(\n",
              "            'suggestCharts', [key], {});\n",
              "      } catch (error) {\n",
              "        console.error('Error during call to suggestCharts:', error);\n",
              "      }\n",
              "      quickchartButtonEl.classList.remove('colab-df-spinner');\n",
              "      quickchartButtonEl.classList.add('colab-df-quickchart-complete');\n",
              "    }\n",
              "    (() => {\n",
              "      let quickchartButtonEl =\n",
              "        document.querySelector('#df-172718fa-7b47-4e80-a6c1-8b8c491fcce4 button');\n",
              "      quickchartButtonEl.style.display =\n",
              "        google.colab.kernel.accessAllowed ? 'block' : 'none';\n",
              "    })();\n",
              "  </script>\n",
              "</div>\n",
              "    </div>\n",
              "  </div>\n"
            ],
            "application/vnd.google.colaboratory.intrinsic+json": {
              "type": "dataframe",
              "variable_name": "data"
            }
          },
          "metadata": {},
          "execution_count": 3
        }
      ],
      "source": [
        "data = pd.read_csv('tablafinal.csv', sep=';',encoding='latin-1')\n",
        "data.head()"
      ]
    },
    {
      "cell_type": "markdown",
      "metadata": {
        "id": "SptlxNdexZcM"
      },
      "source": [
        "Consta de un conjunto de datos de 10k datos\n",
        "\n",
        "- Training -> accidentes: con diversa información sobre los accidentes y su ocurrencia\n",
        "\n",
        "- Output -> muertos: Muestra los clientes que no han sobrevivido al accidente."
      ]
    },
    {
      "cell_type": "markdown",
      "metadata": {
        "id": "QFfVaGZ5x9Er"
      },
      "source": [
        "## Reconocimiento de variables"
      ]
    },
    {
      "cell_type": "markdown",
      "source": [
        "Se muestrean todas las columnas para verlas mejor visualmente\n",
        "\n"
      ],
      "metadata": {
        "id": "zpXaBteHrGve"
      }
    },
    {
      "cell_type": "code",
      "execution_count": 4,
      "metadata": {
        "colab": {
          "base_uri": "https://localhost:8080/"
        },
        "id": "BItFVwAnn6K5",
        "outputId": "c014ebc7-46b7-427a-b467-e7b989a288c3"
      },
      "outputs": [
        {
          "output_type": "execute_result",
          "data": {
            "text/plain": [
              "Index(['ID', 'zona', 'county_road_area', 'interstate', 'stateroute',\n",
              "       'autopista', 'notchp', 'num', 'calle', 'mal_tiempo', 'buen_tiempo',\n",
              "       'alta_vel', 'mal_giro/dir', 'alcohol', 'mal_cmbio_linea',\n",
              "       'peaton_incumplimiento', 'por_señales', 'otra_causa', 'floor_dry',\n",
              "       'floor_wet', 'tow_away', 'pedestrian_collision', 'bicycle_collision',\n",
              "       'truck_collision', 'motorcycle_collision',\n",
              "       'complaint_of_pain_injury_count', 'collision_time', 'collision_date',\n",
              "       'party_count', 'male', 'victim_age', 'air_bag', 'car_belt', 'insurance',\n",
              "       'cellphone', 'marca', 'piel_clara', 'asiatico', 'hispano',\n",
              "       'conductor_victima', 'pasajero_victima', 'victimas_heridas', 'muertos'],\n",
              "      dtype='object')"
            ]
          },
          "metadata": {},
          "execution_count": 4
        }
      ],
      "source": [
        "data.columns"
      ]
    },
    {
      "cell_type": "markdown",
      "source": [
        "Se muestra la forma de este dataset"
      ],
      "metadata": {
        "id": "vbz3yvs_rPBR"
      }
    },
    {
      "cell_type": "code",
      "execution_count": 5,
      "metadata": {
        "colab": {
          "base_uri": "https://localhost:8080/"
        },
        "id": "IR0FWTVT_3Pm",
        "outputId": "cff66b2a-ff6d-4ee8-d3b6-95b0dc3916a5"
      },
      "outputs": [
        {
          "output_type": "execute_result",
          "data": {
            "text/plain": [
              "(10000, 43)"
            ]
          },
          "metadata": {},
          "execution_count": 5
        }
      ],
      "source": [
        "data.shape"
      ]
    },
    {
      "cell_type": "markdown",
      "metadata": {
        "id": "DrZMBVRBySJv"
      },
      "source": [
        "## Datos faltantes"
      ]
    },
    {
      "cell_type": "markdown",
      "metadata": {
        "id": "EQDyKCzIyWXv"
      },
      "source": [
        "Se observa si hay NA en los datos"
      ]
    },
    {
      "cell_type": "code",
      "execution_count": 6,
      "metadata": {
        "colab": {
          "base_uri": "https://localhost:8080/"
        },
        "id": "gv-ERZ1N_3VQ",
        "outputId": "d7bc1ffe-26dc-4094-f082-c0544d1ec7e1"
      },
      "outputs": [
        {
          "output_type": "execute_result",
          "data": {
            "text/plain": [
              "ID                                   0\n",
              "zona                                 0\n",
              "county_road_area                     0\n",
              "interstate                           0\n",
              "stateroute                           0\n",
              "autopista                            0\n",
              "notchp                               0\n",
              "num                                  0\n",
              "calle                                0\n",
              "mal_tiempo                          37\n",
              "buen_tiempo                         37\n",
              "alta_vel                           399\n",
              "mal_giro/dir                       399\n",
              "alcohol                            399\n",
              "mal_cmbio_linea                    399\n",
              "peaton_incumplimiento              399\n",
              "por_señales                        399\n",
              "otra_causa                         399\n",
              "floor_dry                           49\n",
              "floor_wet                           49\n",
              "tow_away                             0\n",
              "pedestrian_collision                 1\n",
              "bicycle_collision                    1\n",
              "truck_collision                      1\n",
              "motorcycle_collision                 1\n",
              "complaint_of_pain_injury_count       0\n",
              "collision_time                      13\n",
              "collision_date                       0\n",
              "party_count                          0\n",
              "male                               636\n",
              "victim_age                         692\n",
              "air_bag                           1426\n",
              "car_belt                          1755\n",
              "insurance                         1281\n",
              "cellphone                         1271\n",
              "marca                              980\n",
              "piel_clara                         902\n",
              "asiatico                           902\n",
              "hispano                            902\n",
              "conductor_victima                   91\n",
              "pasajero_victima                    91\n",
              "victimas_heridas                     0\n",
              "muertos                              0\n",
              "dtype: int64"
            ]
          },
          "metadata": {},
          "execution_count": 6
        }
      ],
      "source": [
        "data.isna().sum()"
      ]
    },
    {
      "cell_type": "markdown",
      "source": [
        "Se pasan las variables categóricas a numéricas para mejor trato de los datos"
      ],
      "metadata": {
        "id": "zdfPxvaWr4Gj"
      }
    },
    {
      "cell_type": "code",
      "execution_count": 7,
      "metadata": {
        "id": "QHvFA2MeS4SB"
      },
      "outputs": [],
      "source": [
        "# Asegúrate de que las horas estén en formato datetime\n",
        "data['collision_time'] = pd.to_datetime(data['collision_time'], format='%H:%M:%S')\n",
        "data['Dia'] = data['collision_time'].apply(lambda x: '1' if 6 <= x.hour < 18 else '0').astype(int)\n",
        "\n",
        "data['collision_date'] = pd.to_datetime(data['collision_date'], format='%d/%m/%Y')\n",
        "data['verano'] = data['collision_date'].dt.month.isin([6, 7, 8]).astype(int)"
      ]
    },
    {
      "cell_type": "markdown",
      "source": [
        "Se muestrean los formatos de las columnas"
      ],
      "metadata": {
        "id": "OUXDiI9msO2u"
      }
    },
    {
      "cell_type": "code",
      "execution_count": 8,
      "metadata": {
        "colab": {
          "base_uri": "https://localhost:8080/"
        },
        "id": "ZarcKftRwZS3",
        "outputId": "3b93e094-8b94-44b1-d853-9ddbaf4c6e72"
      },
      "outputs": [
        {
          "output_type": "stream",
          "name": "stdout",
          "text": [
            "ID                                         int64\n",
            "zona                                      object\n",
            "county_road_area                           int64\n",
            "interstate                                 int64\n",
            "stateroute                                 int64\n",
            "autopista                                  int64\n",
            "notchp                                     int64\n",
            "num                                       object\n",
            "calle                                     object\n",
            "mal_tiempo                               float64\n",
            "buen_tiempo                              float64\n",
            "alta_vel                                 float64\n",
            "mal_giro/dir                             float64\n",
            "alcohol                                  float64\n",
            "mal_cmbio_linea                          float64\n",
            "peaton_incumplimiento                    float64\n",
            "por_señales                              float64\n",
            "otra_causa                               float64\n",
            "floor_dry                                float64\n",
            "floor_wet                                float64\n",
            "tow_away                                   int64\n",
            "pedestrian_collision                     float64\n",
            "bicycle_collision                        float64\n",
            "truck_collision                          float64\n",
            "motorcycle_collision                     float64\n",
            "complaint_of_pain_injury_count             int64\n",
            "collision_time                    datetime64[ns]\n",
            "collision_date                    datetime64[ns]\n",
            "party_count                                int64\n",
            "male                                     float64\n",
            "victim_age                               float64\n",
            "air_bag                                  float64\n",
            "car_belt                                 float64\n",
            "insurance                                float64\n",
            "cellphone                                float64\n",
            "marca                                     object\n",
            "piel_clara                               float64\n",
            "asiatico                                 float64\n",
            "hispano                                  float64\n",
            "conductor_victima                        float64\n",
            "pasajero_victima                         float64\n",
            "victimas_heridas                           int64\n",
            "muertos                                    int64\n",
            "Dia                                        int64\n",
            "verano                                     int64\n",
            "dtype: object\n"
          ]
        }
      ],
      "source": [
        "print(data.dtypes)"
      ]
    },
    {
      "cell_type": "markdown",
      "source": [
        "Se eliminan ciertas variables no númericas"
      ],
      "metadata": {
        "id": "cQr7m7CzsXEv"
      }
    },
    {
      "cell_type": "code",
      "execution_count": 9,
      "metadata": {
        "id": "wZpbexFfmE--"
      },
      "outputs": [],
      "source": [
        "data = data.drop(['collision_time','zona','num','calle','marca','collision_date','ID'], axis=1)"
      ]
    },
    {
      "cell_type": "markdown",
      "source": [
        "Se cuenta la cantidad de ocurrencias de cada valor único en la columna objetivo"
      ],
      "metadata": {
        "id": "vKOooxAJsdRJ"
      }
    },
    {
      "cell_type": "code",
      "execution_count": 10,
      "metadata": {
        "colab": {
          "base_uri": "https://localhost:8080/"
        },
        "id": "6PemMvg0J27y",
        "outputId": "7fb4f2f7-db14-445a-cc9c-30cfb18a4817"
      },
      "outputs": [
        {
          "output_type": "stream",
          "name": "stdout",
          "text": [
            "muertos\n",
            "0    9575\n",
            "1     425\n",
            "Name: count, dtype: int64\n"
          ]
        }
      ],
      "source": [
        "valores_muertos = data['muertos'].value_counts()\n",
        "print(valores_muertos)"
      ]
    },
    {
      "cell_type": "markdown",
      "metadata": {
        "id": "cAVNsTEe9ktW"
      },
      "source": [
        "## VARIABLES SELECCIONADAS"
      ]
    },
    {
      "cell_type": "markdown",
      "source": [
        "Se agrupa los datos del DataFrame data por los valores únicos en la columna 'muertos' y se calcula la varianza de cada grupo resultante para todas las columnas numéricas en el DataFrame."
      ],
      "metadata": {
        "id": "_acGOvbgtG9V"
      }
    },
    {
      "cell_type": "code",
      "execution_count": 11,
      "metadata": {
        "colab": {
          "base_uri": "https://localhost:8080/",
          "height": 0
        },
        "id": "evxArPixyR4o",
        "outputId": "78f04526-bd5a-4e73-8dee-5c3c2b513ffb"
      },
      "outputs": [
        {
          "output_type": "execute_result",
          "data": {
            "text/plain": [
              "         county_road_area  interstate  stateroute  autopista    notchp  \\\n",
              "muertos                                                                  \n",
              "0                0.103540    0.151292    0.117653   0.043371  0.249826   \n",
              "1                0.192286    0.094895    0.161787   0.049201  0.236437   \n",
              "\n",
              "         mal_tiempo  buen_tiempo  alta_vel  mal_giro/dir   alcohol  ...  \\\n",
              "muertos                                                             ...   \n",
              "0          0.084821     0.084821  0.235307      0.223049  0.096523  ...   \n",
              "1          0.094209     0.094209  0.166930      0.238377  0.204904  ...   \n",
              "\n",
              "         insurance  cellphone  piel_clara  asiatico   hispano  \\\n",
              "muertos                                                         \n",
              "0         0.065117   0.014732    0.241653  0.057025  0.237099   \n",
              "1         0.141519   0.013367    0.249398  0.031523  0.239574   \n",
              "\n",
              "         conductor_victima  pasajero_victima  victimas_heridas       Dia  \\\n",
              "muertos                                                                    \n",
              "0                 0.049380          0.022661          6.201984  0.186115   \n",
              "1                 0.105849          0.093030          1.624895  0.248890   \n",
              "\n",
              "           verano  \n",
              "muertos            \n",
              "0        0.112512  \n",
              "1        0.004695  \n",
              "\n",
              "[2 rows x 37 columns]"
            ],
            "text/html": [
              "\n",
              "  <div id=\"df-4098cd28-8386-4f4d-aa66-7b59412bc6aa\" class=\"colab-df-container\">\n",
              "    <div>\n",
              "<style scoped>\n",
              "    .dataframe tbody tr th:only-of-type {\n",
              "        vertical-align: middle;\n",
              "    }\n",
              "\n",
              "    .dataframe tbody tr th {\n",
              "        vertical-align: top;\n",
              "    }\n",
              "\n",
              "    .dataframe thead th {\n",
              "        text-align: right;\n",
              "    }\n",
              "</style>\n",
              "<table border=\"1\" class=\"dataframe\">\n",
              "  <thead>\n",
              "    <tr style=\"text-align: right;\">\n",
              "      <th></th>\n",
              "      <th>county_road_area</th>\n",
              "      <th>interstate</th>\n",
              "      <th>stateroute</th>\n",
              "      <th>autopista</th>\n",
              "      <th>notchp</th>\n",
              "      <th>mal_tiempo</th>\n",
              "      <th>buen_tiempo</th>\n",
              "      <th>alta_vel</th>\n",
              "      <th>mal_giro/dir</th>\n",
              "      <th>alcohol</th>\n",
              "      <th>...</th>\n",
              "      <th>insurance</th>\n",
              "      <th>cellphone</th>\n",
              "      <th>piel_clara</th>\n",
              "      <th>asiatico</th>\n",
              "      <th>hispano</th>\n",
              "      <th>conductor_victima</th>\n",
              "      <th>pasajero_victima</th>\n",
              "      <th>victimas_heridas</th>\n",
              "      <th>Dia</th>\n",
              "      <th>verano</th>\n",
              "    </tr>\n",
              "    <tr>\n",
              "      <th>muertos</th>\n",
              "      <th></th>\n",
              "      <th></th>\n",
              "      <th></th>\n",
              "      <th></th>\n",
              "      <th></th>\n",
              "      <th></th>\n",
              "      <th></th>\n",
              "      <th></th>\n",
              "      <th></th>\n",
              "      <th></th>\n",
              "      <th></th>\n",
              "      <th></th>\n",
              "      <th></th>\n",
              "      <th></th>\n",
              "      <th></th>\n",
              "      <th></th>\n",
              "      <th></th>\n",
              "      <th></th>\n",
              "      <th></th>\n",
              "      <th></th>\n",
              "      <th></th>\n",
              "    </tr>\n",
              "  </thead>\n",
              "  <tbody>\n",
              "    <tr>\n",
              "      <th>0</th>\n",
              "      <td>0.103540</td>\n",
              "      <td>0.151292</td>\n",
              "      <td>0.117653</td>\n",
              "      <td>0.043371</td>\n",
              "      <td>0.249826</td>\n",
              "      <td>0.084821</td>\n",
              "      <td>0.084821</td>\n",
              "      <td>0.235307</td>\n",
              "      <td>0.223049</td>\n",
              "      <td>0.096523</td>\n",
              "      <td>...</td>\n",
              "      <td>0.065117</td>\n",
              "      <td>0.014732</td>\n",
              "      <td>0.241653</td>\n",
              "      <td>0.057025</td>\n",
              "      <td>0.237099</td>\n",
              "      <td>0.049380</td>\n",
              "      <td>0.022661</td>\n",
              "      <td>6.201984</td>\n",
              "      <td>0.186115</td>\n",
              "      <td>0.112512</td>\n",
              "    </tr>\n",
              "    <tr>\n",
              "      <th>1</th>\n",
              "      <td>0.192286</td>\n",
              "      <td>0.094895</td>\n",
              "      <td>0.161787</td>\n",
              "      <td>0.049201</td>\n",
              "      <td>0.236437</td>\n",
              "      <td>0.094209</td>\n",
              "      <td>0.094209</td>\n",
              "      <td>0.166930</td>\n",
              "      <td>0.238377</td>\n",
              "      <td>0.204904</td>\n",
              "      <td>...</td>\n",
              "      <td>0.141519</td>\n",
              "      <td>0.013367</td>\n",
              "      <td>0.249398</td>\n",
              "      <td>0.031523</td>\n",
              "      <td>0.239574</td>\n",
              "      <td>0.105849</td>\n",
              "      <td>0.093030</td>\n",
              "      <td>1.624895</td>\n",
              "      <td>0.248890</td>\n",
              "      <td>0.004695</td>\n",
              "    </tr>\n",
              "  </tbody>\n",
              "</table>\n",
              "<p>2 rows × 37 columns</p>\n",
              "</div>\n",
              "    <div class=\"colab-df-buttons\">\n",
              "\n",
              "  <div class=\"colab-df-container\">\n",
              "    <button class=\"colab-df-convert\" onclick=\"convertToInteractive('df-4098cd28-8386-4f4d-aa66-7b59412bc6aa')\"\n",
              "            title=\"Convert this dataframe to an interactive table.\"\n",
              "            style=\"display:none;\">\n",
              "\n",
              "  <svg xmlns=\"http://www.w3.org/2000/svg\" height=\"24px\" viewBox=\"0 -960 960 960\">\n",
              "    <path d=\"M120-120v-720h720v720H120Zm60-500h600v-160H180v160Zm220 220h160v-160H400v160Zm0 220h160v-160H400v160ZM180-400h160v-160H180v160Zm440 0h160v-160H620v160ZM180-180h160v-160H180v160Zm440 0h160v-160H620v160Z\"/>\n",
              "  </svg>\n",
              "    </button>\n",
              "\n",
              "  <style>\n",
              "    .colab-df-container {\n",
              "      display:flex;\n",
              "      gap: 12px;\n",
              "    }\n",
              "\n",
              "    .colab-df-convert {\n",
              "      background-color: #E8F0FE;\n",
              "      border: none;\n",
              "      border-radius: 50%;\n",
              "      cursor: pointer;\n",
              "      display: none;\n",
              "      fill: #1967D2;\n",
              "      height: 32px;\n",
              "      padding: 0 0 0 0;\n",
              "      width: 32px;\n",
              "    }\n",
              "\n",
              "    .colab-df-convert:hover {\n",
              "      background-color: #E2EBFA;\n",
              "      box-shadow: 0px 1px 2px rgba(60, 64, 67, 0.3), 0px 1px 3px 1px rgba(60, 64, 67, 0.15);\n",
              "      fill: #174EA6;\n",
              "    }\n",
              "\n",
              "    .colab-df-buttons div {\n",
              "      margin-bottom: 4px;\n",
              "    }\n",
              "\n",
              "    [theme=dark] .colab-df-convert {\n",
              "      background-color: #3B4455;\n",
              "      fill: #D2E3FC;\n",
              "    }\n",
              "\n",
              "    [theme=dark] .colab-df-convert:hover {\n",
              "      background-color: #434B5C;\n",
              "      box-shadow: 0px 1px 3px 1px rgba(0, 0, 0, 0.15);\n",
              "      filter: drop-shadow(0px 1px 2px rgba(0, 0, 0, 0.3));\n",
              "      fill: #FFFFFF;\n",
              "    }\n",
              "  </style>\n",
              "\n",
              "    <script>\n",
              "      const buttonEl =\n",
              "        document.querySelector('#df-4098cd28-8386-4f4d-aa66-7b59412bc6aa button.colab-df-convert');\n",
              "      buttonEl.style.display =\n",
              "        google.colab.kernel.accessAllowed ? 'block' : 'none';\n",
              "\n",
              "      async function convertToInteractive(key) {\n",
              "        const element = document.querySelector('#df-4098cd28-8386-4f4d-aa66-7b59412bc6aa');\n",
              "        const dataTable =\n",
              "          await google.colab.kernel.invokeFunction('convertToInteractive',\n",
              "                                                    [key], {});\n",
              "        if (!dataTable) return;\n",
              "\n",
              "        const docLinkHtml = 'Like what you see? Visit the ' +\n",
              "          '<a target=\"_blank\" href=https://colab.research.google.com/notebooks/data_table.ipynb>data table notebook</a>'\n",
              "          + ' to learn more about interactive tables.';\n",
              "        element.innerHTML = '';\n",
              "        dataTable['output_type'] = 'display_data';\n",
              "        await google.colab.output.renderOutput(dataTable, element);\n",
              "        const docLink = document.createElement('div');\n",
              "        docLink.innerHTML = docLinkHtml;\n",
              "        element.appendChild(docLink);\n",
              "      }\n",
              "    </script>\n",
              "  </div>\n",
              "\n",
              "\n",
              "<div id=\"df-4cacd2d5-a48f-425f-bf8c-5fc874189958\">\n",
              "  <button class=\"colab-df-quickchart\" onclick=\"quickchart('df-4cacd2d5-a48f-425f-bf8c-5fc874189958')\"\n",
              "            title=\"Suggest charts\"\n",
              "            style=\"display:none;\">\n",
              "\n",
              "<svg xmlns=\"http://www.w3.org/2000/svg\" height=\"24px\"viewBox=\"0 0 24 24\"\n",
              "     width=\"24px\">\n",
              "    <g>\n",
              "        <path d=\"M19 3H5c-1.1 0-2 .9-2 2v14c0 1.1.9 2 2 2h14c1.1 0 2-.9 2-2V5c0-1.1-.9-2-2-2zM9 17H7v-7h2v7zm4 0h-2V7h2v10zm4 0h-2v-4h2v4z\"/>\n",
              "    </g>\n",
              "</svg>\n",
              "  </button>\n",
              "\n",
              "<style>\n",
              "  .colab-df-quickchart {\n",
              "      --bg-color: #E8F0FE;\n",
              "      --fill-color: #1967D2;\n",
              "      --hover-bg-color: #E2EBFA;\n",
              "      --hover-fill-color: #174EA6;\n",
              "      --disabled-fill-color: #AAA;\n",
              "      --disabled-bg-color: #DDD;\n",
              "  }\n",
              "\n",
              "  [theme=dark] .colab-df-quickchart {\n",
              "      --bg-color: #3B4455;\n",
              "      --fill-color: #D2E3FC;\n",
              "      --hover-bg-color: #434B5C;\n",
              "      --hover-fill-color: #FFFFFF;\n",
              "      --disabled-bg-color: #3B4455;\n",
              "      --disabled-fill-color: #666;\n",
              "  }\n",
              "\n",
              "  .colab-df-quickchart {\n",
              "    background-color: var(--bg-color);\n",
              "    border: none;\n",
              "    border-radius: 50%;\n",
              "    cursor: pointer;\n",
              "    display: none;\n",
              "    fill: var(--fill-color);\n",
              "    height: 32px;\n",
              "    padding: 0;\n",
              "    width: 32px;\n",
              "  }\n",
              "\n",
              "  .colab-df-quickchart:hover {\n",
              "    background-color: var(--hover-bg-color);\n",
              "    box-shadow: 0 1px 2px rgba(60, 64, 67, 0.3), 0 1px 3px 1px rgba(60, 64, 67, 0.15);\n",
              "    fill: var(--button-hover-fill-color);\n",
              "  }\n",
              "\n",
              "  .colab-df-quickchart-complete:disabled,\n",
              "  .colab-df-quickchart-complete:disabled:hover {\n",
              "    background-color: var(--disabled-bg-color);\n",
              "    fill: var(--disabled-fill-color);\n",
              "    box-shadow: none;\n",
              "  }\n",
              "\n",
              "  .colab-df-spinner {\n",
              "    border: 2px solid var(--fill-color);\n",
              "    border-color: transparent;\n",
              "    border-bottom-color: var(--fill-color);\n",
              "    animation:\n",
              "      spin 1s steps(1) infinite;\n",
              "  }\n",
              "\n",
              "  @keyframes spin {\n",
              "    0% {\n",
              "      border-color: transparent;\n",
              "      border-bottom-color: var(--fill-color);\n",
              "      border-left-color: var(--fill-color);\n",
              "    }\n",
              "    20% {\n",
              "      border-color: transparent;\n",
              "      border-left-color: var(--fill-color);\n",
              "      border-top-color: var(--fill-color);\n",
              "    }\n",
              "    30% {\n",
              "      border-color: transparent;\n",
              "      border-left-color: var(--fill-color);\n",
              "      border-top-color: var(--fill-color);\n",
              "      border-right-color: var(--fill-color);\n",
              "    }\n",
              "    40% {\n",
              "      border-color: transparent;\n",
              "      border-right-color: var(--fill-color);\n",
              "      border-top-color: var(--fill-color);\n",
              "    }\n",
              "    60% {\n",
              "      border-color: transparent;\n",
              "      border-right-color: var(--fill-color);\n",
              "    }\n",
              "    80% {\n",
              "      border-color: transparent;\n",
              "      border-right-color: var(--fill-color);\n",
              "      border-bottom-color: var(--fill-color);\n",
              "    }\n",
              "    90% {\n",
              "      border-color: transparent;\n",
              "      border-bottom-color: var(--fill-color);\n",
              "    }\n",
              "  }\n",
              "</style>\n",
              "\n",
              "  <script>\n",
              "    async function quickchart(key) {\n",
              "      const quickchartButtonEl =\n",
              "        document.querySelector('#' + key + ' button');\n",
              "      quickchartButtonEl.disabled = true;  // To prevent multiple clicks.\n",
              "      quickchartButtonEl.classList.add('colab-df-spinner');\n",
              "      try {\n",
              "        const charts = await google.colab.kernel.invokeFunction(\n",
              "            'suggestCharts', [key], {});\n",
              "      } catch (error) {\n",
              "        console.error('Error during call to suggestCharts:', error);\n",
              "      }\n",
              "      quickchartButtonEl.classList.remove('colab-df-spinner');\n",
              "      quickchartButtonEl.classList.add('colab-df-quickchart-complete');\n",
              "    }\n",
              "    (() => {\n",
              "      let quickchartButtonEl =\n",
              "        document.querySelector('#df-4cacd2d5-a48f-425f-bf8c-5fc874189958 button');\n",
              "      quickchartButtonEl.style.display =\n",
              "        google.colab.kernel.accessAllowed ? 'block' : 'none';\n",
              "    })();\n",
              "  </script>\n",
              "</div>\n",
              "    </div>\n",
              "  </div>\n"
            ],
            "application/vnd.google.colaboratory.intrinsic+json": {
              "type": "dataframe",
              "variable_name": "varianza_por_muertos"
            }
          },
          "metadata": {},
          "execution_count": 11
        }
      ],
      "source": [
        "varianza_por_muertos = data.groupby('muertos').var()\n",
        "\n",
        "varianza_por_muertos"
      ]
    },
    {
      "cell_type": "markdown",
      "metadata": {
        "id": "TPJJ54QV0tm7"
      },
      "source": [
        "La varianza de las columnas 'mal_tiempo', 'buen_tiempo', 'muertos' para la categoría 'muertos' igual a 1 es mayor que para la categoría 'muertos' igual a 0. Esto indica que estas variables tienen una variabilidad más alta entre los casos donde hay muertos en comparación con los casos donde no los hay."
      ]
    },
    {
      "cell_type": "code",
      "source": [
        "import seaborn as sns\n",
        "import matplotlib.pyplot as plt\n",
        "\n",
        "# Calcula la matriz de covarianza entre todas las columnas\n",
        "covarianza_total = data.cov()\n",
        "\n",
        "# Filtra la covarianza solo para la variable objetivo 'muertos'\n",
        "covarianza_con_muertos = covarianza_total['muertos']\n",
        "\n",
        "# Elimina la covarianza de 'muertos' consigo mismo\n",
        "covarianza_con_muertos = covarianza_con_muertos.drop('muertos')\n",
        "\n",
        "# Crea un mapa de calor de la covarianza\n",
        "plt.figure(figsize=(10,8))\n",
        "sns.heatmap(covarianza_con_muertos.to_frame(), annot=True, cmap='coolwarm', cbar=True)\n",
        "plt.title('Matriz de Covarianza con respecto a la variable objetivo \"muertos\"')\n",
        "plt.xlabel('Variables')\n",
        "plt.ylabel('Variable Objetivo')\n",
        "plt.show()\n"
      ],
      "metadata": {
        "colab": {
          "base_uri": "https://localhost:8080/",
          "height": 0
        },
        "id": "HnwMFMa1huuO",
        "outputId": "fdfdab41-74ee-4f37-dfe1-ce8cc78ae63a"
      },
      "execution_count": 12,
      "outputs": [
        {
          "output_type": "display_data",
          "data": {
            "text/plain": [
              "<Figure size 1000x800 with 2 Axes>"
            ],
            "image/png": "[encoded data removed]"
          },
          "metadata": {}
        }
      ]
    },
    {
      "cell_type": "markdown",
      "source": [
        "LA COVARIANZA NO NOS APORTA MUCHO POR ESO SE PROCEDE A CALCULAR LA CORRELACIÓN"
      ],
      "metadata": {
        "id": "n93VNaEeiGSO"
      }
    },
    {
      "cell_type": "markdown",
      "source": [
        "Se calcula la correlación de las distintas variables respecto con la variable objetivo"
      ],
      "metadata": {
        "id": "eO2QZ5zbtt_4"
      }
    },
    {
      "cell_type": "code",
      "source": [
        "import matplotlib.pyplot as plt\n",
        "import seaborn as sns\n",
        "\n",
        "# Calcula la matriz de correlación entre todas las columnas\n",
        "correlacion_total = data.corr()\n",
        "\n",
        "# Filtra la correlación solo para la variable objetivo 'muertos'\n",
        "correlacion_con_muertos = correlacion_total['muertos']\n",
        "\n",
        "# Elimina la correlación de 'muertos' consigo mismo\n",
        "correlacion_con_muertos = correlacion_con_muertos.drop('muertos')\n",
        "\n",
        "# Ordena los valores de correlación de mayor a menor\n",
        "correlacion_con_muertos = correlacion_con_muertos.sort_values(ascending=False)\n",
        "\n",
        "# Graficar\n",
        "plt.figure(figsize=(10,6))\n",
        "sns.barplot(x=correlacion_con_muertos.values, y=correlacion_con_muertos.index, orient='h', palette='viridis')\n",
        "plt.xlabel('Correlación con \"muertos\"')\n",
        "plt.ylabel('Variables')\n",
        "plt.title('Correlación con la variable objetivo \"muertos\"')\n",
        "plt.show()"
      ],
      "metadata": {
        "colab": {
          "base_uri": "https://localhost:8080/",
          "height": 0
        },
        "id": "W2nljxS_hLL7",
        "outputId": "25a0abb1-912f-40f4-dac0-a3e23239087c"
      },
      "execution_count": 13,
      "outputs": [
        {
          "output_type": "stream",
          "name": "stderr",
          "text": [
            "<ipython-input-13-ba45f2489522>:18: FutureWarning: \n",
            "\n",
            "Passing `palette` without assigning `hue` is deprecated and will be removed in v0.14.0. Assign the `y` variable to `hue` and set `legend=False` for the same effect.\n",
            "\n",
            "  sns.barplot(x=correlacion_con_muertos.values, y=correlacion_con_muertos.index, orient='h', palette='viridis')\n"
          ]
        },
        {
          "output_type": "display_data",
          "data": {
            "text/plain": [
              "<Figure size 1000x600 with 1 Axes>"
            ],
            "image/png": "[encoded data removed]"
          },
          "metadata": {}
        }
      ]
    },
    {
      "cell_type": "markdown",
      "source": [
        "Se escogen las 15 columnas que tienen mayor correlación con la variable objetivo (muertos)\n",
        "\n",
        "A partir de ahora solo se usaran exclusivamente  16 variables ya que tratar con todas podría ser algo ineficiente computacionalmente."
      ],
      "metadata": {
        "id": "4SV2viEet93Z"
      }
    },
    {
      "cell_type": "code",
      "execution_count": 14,
      "metadata": {
        "colab": {
          "base_uri": "https://localhost:8080/"
        },
        "id": "m9bO0hgmUBot",
        "outputId": "e9913fe8-1f8a-4df7-c72b-47197bef2234"
      },
      "outputs": [
        {
          "output_type": "execute_result",
          "data": {
            "text/plain": [
              "Dia                               0.135247\n",
              "alcohol                           0.111094\n",
              "air_bag                           0.108952\n",
              "pasajero_victima                  0.101071\n",
              "county_road_area                  0.086843\n",
              "verano                            0.076220\n",
              "complaint_of_pain_injury_count    0.070707\n",
              "insurance                         0.070457\n",
              "alta_vel                          0.069142\n",
              "conductor_victima                 0.060354\n",
              "victimas_heridas                  0.049161\n",
              "peaton_incumplimiento             0.049084\n",
              "party_count                       0.044985\n",
              "notchp                            0.042260\n",
              "interstate                        0.041745\n",
              "Name: muertos, dtype: float64"
            ]
          },
          "metadata": {},
          "execution_count": 14
        }
      ],
      "source": [
        "# Ordena las correlaciones por valor absoluto en orden descendente\n",
        "correlacion_absoluta = correlacion_con_muertos.abs().sort_values(ascending=False)\n",
        "\n",
        "# Selecciona las 17 características con mayor correlación\n",
        "caracteristicas_seleccionadas = correlacion_absoluta[1:16]  # Excluye la correlación con \"muertos\"\n",
        "\n",
        "caracteristicas_seleccionadas"
      ]
    },
    {
      "cell_type": "markdown",
      "metadata": {
        "id": "nzmMAKW9118h"
      },
      "source": [
        "AFECTAN POSITIVAMENTE: ALCOHOL, AIR BAG, PASAJERO_VICTIMAS\n",
        "\n",
        "AFECTAN NEGATIVAMENTE: DIA, CINTURON"
      ]
    },
    {
      "cell_type": "code",
      "execution_count": 15,
      "metadata": {
        "id": "l2Z64VvSQZ8o"
      },
      "outputs": [],
      "source": [
        "data = data[['notchp', 'county_road_area', 'alta_vel','alcohol',\n",
        "             'peaton_incumplimiento', 'complaint_of_pain_injury_count',\n",
        "             'Dia', 'verano', 'party_count','air_bag', 'car_belt', 'insurance',\n",
        "            'conductor_victima', 'pasajero_victima', 'victimas_heridas', 'muertos']]"
      ]
    },
    {
      "cell_type": "markdown",
      "metadata": {
        "id": "yJ43lHehsRk0"
      },
      "source": [
        "QUITAR LOS VALORES NULOS"
      ]
    },
    {
      "cell_type": "code",
      "execution_count": 16,
      "metadata": {
        "id": "QaBZrXDCJsG9"
      },
      "outputs": [],
      "source": [
        "data=data.dropna()"
      ]
    },
    {
      "cell_type": "markdown",
      "source": [
        "Se vuelve a muestrear la forma del dataset restante"
      ],
      "metadata": {
        "id": "hQpa9g8n-Vwz"
      }
    },
    {
      "cell_type": "code",
      "execution_count": 17,
      "metadata": {
        "colab": {
          "base_uri": "https://localhost:8080/"
        },
        "id": "0rs_UsObW-dT",
        "outputId": "ce8c2334-34f7-4c78-ec34-81e24243432c"
      },
      "outputs": [
        {
          "output_type": "execute_result",
          "data": {
            "text/plain": [
              "(7531, 16)"
            ]
          },
          "metadata": {},
          "execution_count": 17
        }
      ],
      "source": [
        "data.shape"
      ]
    },
    {
      "cell_type": "markdown",
      "metadata": {
        "id": "GlOFP9WJ0M3v"
      },
      "source": [
        "Se escogen 300 muestras de las cuales 150 representan que haya muertos y 150 reprentan que no ha habido muertos"
      ]
    },
    {
      "cell_type": "code",
      "execution_count": 18,
      "metadata": {
        "id": "X6LNE4XmJsPJ"
      },
      "outputs": [],
      "source": [
        "Muertosno=data[data['muertos']==0].sample(n=150, random_state=1)\n",
        "Muertossi=data[data['muertos']==1].sample(n=150, random_state=1)\n",
        "\n",
        "data = pd.concat([Muertosno, Muertossi],axis=0)"
      ]
    },
    {
      "cell_type": "markdown",
      "source": [
        "Se comprueba que la dimension de nuestros datos es la correcta"
      ],
      "metadata": {
        "id": "Pe-8kF_muzx-"
      }
    },
    {
      "cell_type": "code",
      "execution_count": 19,
      "metadata": {
        "colab": {
          "base_uri": "https://localhost:8080/"
        },
        "id": "drc_2l505NMv",
        "outputId": "2cef5039-bfd7-4b62-8e38-6faf01af3583"
      },
      "outputs": [
        {
          "output_type": "execute_result",
          "data": {
            "text/plain": [
              "(300, 16)"
            ]
          },
          "metadata": {},
          "execution_count": 19
        }
      ],
      "source": [
        "data.shape"
      ]
    },
    {
      "cell_type": "markdown",
      "metadata": {
        "id": "1LNWPrbY98sp"
      },
      "source": [
        "## DIVISIÓN DATOS"
      ]
    },
    {
      "cell_type": "markdown",
      "metadata": {
        "id": "YbPQE7BC4H0x"
      },
      "source": [
        "Sacar la variable objetivo y dividir nuestros datos según\n",
        "datos de entrenamiento y datos de test"
      ]
    },
    {
      "cell_type": "code",
      "execution_count": 20,
      "metadata": {
        "colab": {
          "base_uri": "https://localhost:8080/"
        },
        "id": "LFJBkVf_OvF4",
        "outputId": "a848a68c-d855-4bac-d9c5-5361661c9229"
      },
      "outputs": [
        {
          "output_type": "execute_result",
          "data": {
            "text/plain": [
              "((240, 15), (240,))"
            ]
          },
          "metadata": {},
          "execution_count": 20
        }
      ],
      "source": [
        "X = data.drop('muertos', axis=1)\n",
        "Y = data['muertos']\n",
        "\n",
        "x_train, x_test, y_train, y_test = train_test_split(X, Y, test_size=0.2)\n",
        "\n",
        "scaler = MinMaxScaler()\n",
        "#scaler = MinMaxScaler(feature_range=(-1, 1))\n",
        "\n",
        "\n",
        "# Normalizar los datos de entrenamiento\n",
        "x_train = scaler.fit_transform(x_train)\n",
        "\n",
        "# Transformar los datos de prueba usando el mismo escalador\n",
        "x_test = scaler.transform(x_test)\n",
        "\n",
        "x_train.shape, y_train.shape"
      ]
    },
    {
      "cell_type": "markdown",
      "source": [
        "Datos de Test"
      ],
      "metadata": {
        "id": "FoWgopL9-whX"
      }
    },
    {
      "cell_type": "code",
      "execution_count": 21,
      "metadata": {
        "colab": {
          "base_uri": "https://localhost:8080/"
        },
        "id": "rh8L4hJvOyvS",
        "outputId": "5a051d67-2c0c-4596-8a88-4dd35dbe7cca"
      },
      "outputs": [
        {
          "output_type": "execute_result",
          "data": {
            "text/plain": [
              "((60, 15), (60,))"
            ]
          },
          "metadata": {},
          "execution_count": 21
        }
      ],
      "source": [
        "x_test.shape, y_test.shape"
      ]
    },
    {
      "cell_type": "markdown",
      "metadata": {
        "id": "iLqmYb0AOz0q"
      },
      "source": [
        "Comprobación de que hay el mismo numero de 1 y 0 en la columna objetivo, en este caso muertos"
      ]
    },
    {
      "cell_type": "code",
      "execution_count": 22,
      "metadata": {
        "colab": {
          "base_uri": "https://localhost:8080/"
        },
        "id": "LkbGPf5ZK5h1",
        "outputId": "9a8dbb59-3015-446b-ae2e-b665d37b8d5e"
      },
      "outputs": [
        {
          "output_type": "stream",
          "name": "stdout",
          "text": [
            "muertos\n",
            "0    150\n",
            "1    150\n",
            "Name: count, dtype: int64\n"
          ]
        }
      ],
      "source": [
        "valores_muertos = data['muertos'].value_counts()\n",
        "print(valores_muertos)"
      ]
    },
    {
      "cell_type": "markdown",
      "source": [
        "Se describen los datos"
      ],
      "metadata": {
        "id": "cQ5KYilLu_yS"
      }
    },
    {
      "cell_type": "code",
      "execution_count": 23,
      "metadata": {
        "colab": {
          "base_uri": "https://localhost:8080/",
          "height": 0
        },
        "id": "rupdYKCOwNSA",
        "outputId": "53b42e67-14c6-4d5d-ec78-d0ab98a0fee5"
      },
      "outputs": [
        {
          "output_type": "execute_result",
          "data": {
            "text/plain": [
              "           notchp  county_road_area    alta_vel     alcohol  \\\n",
              "count  300.000000        300.000000  300.000000  300.000000   \n",
              "mean     0.343333          0.240000    0.303333    0.200000   \n",
              "std      0.475615          0.427797    0.460466    0.400668   \n",
              "min      0.000000          0.000000    0.000000    0.000000   \n",
              "25%      0.000000          0.000000    0.000000    0.000000   \n",
              "50%      0.000000          0.000000    0.000000    0.000000   \n",
              "75%      1.000000          0.000000    1.000000    0.000000   \n",
              "max      1.000000          1.000000    1.000000    1.000000   \n",
              "\n",
              "       peaton_incumplimiento  complaint_of_pain_injury_count         Dia  \\\n",
              "count             300.000000                      300.000000  300.000000   \n",
              "mean                0.046667                        0.643333    0.620000   \n",
              "std                 0.211276                        1.741522    0.486197   \n",
              "min                 0.000000                        0.000000    0.000000   \n",
              "25%                 0.000000                        0.000000    0.000000   \n",
              "50%                 0.000000                        0.000000    1.000000   \n",
              "75%                 0.000000                        1.000000    1.000000   \n",
              "max                 1.000000                       25.000000    1.000000   \n",
              "\n",
              "           verano  party_count     air_bag    car_belt   insurance  \\\n",
              "count  300.000000   300.000000  300.000000  300.000000  300.000000   \n",
              "mean     0.053333     1.653333    0.326667    0.880000    0.890000   \n",
              "std      0.225073     0.809531    0.469778    0.325504    0.313413   \n",
              "min      0.000000     1.000000    0.000000    0.000000    0.000000   \n",
              "25%      0.000000     1.000000    0.000000    1.000000    1.000000   \n",
              "50%      0.000000     1.000000    0.000000    1.000000    1.000000   \n",
              "75%      0.000000     2.000000    1.000000    1.000000    1.000000   \n",
              "max      1.000000     5.000000    1.000000    1.000000    1.000000   \n",
              "\n",
              "       conductor_victima  pasajero_victima  victimas_heridas     muertos  \n",
              "count              300.0             300.0        300.000000  300.000000  \n",
              "mean                 1.0               0.0          1.180000    0.500000  \n",
              "std                  0.0               0.0          1.945993    0.500835  \n",
              "min                  1.0               0.0          0.000000    0.000000  \n",
              "25%                  1.0               0.0          0.000000    0.000000  \n",
              "50%                  1.0               0.0          1.000000    0.500000  \n",
              "75%                  1.0               0.0          2.000000    1.000000  \n",
              "max                  1.0               0.0         25.000000    1.000000  "
            ],
            "text/html": [
              "\n",
              "  <div id=\"df-c011c423-d9c2-42d0-9197-d7a28ed79c2d\" class=\"colab-df-container\">\n",
              "    <div>\n",
              "<style scoped>\n",
              "    .dataframe tbody tr th:only-of-type {\n",
              "        vertical-align: middle;\n",
              "    }\n",
              "\n",
              "    .dataframe tbody tr th {\n",
              "        vertical-align: top;\n",
              "    }\n",
              "\n",
              "    .dataframe thead th {\n",
              "        text-align: right;\n",
              "    }\n",
              "</style>\n",
              "<table border=\"1\" class=\"dataframe\">\n",
              "  <thead>\n",
              "    <tr style=\"text-align: right;\">\n",
              "      <th></th>\n",
              "      <th>notchp</th>\n",
              "      <th>county_road_area</th>\n",
              "      <th>alta_vel</th>\n",
              "      <th>alcohol</th>\n",
              "      <th>peaton_incumplimiento</th>\n",
              "      <th>complaint_of_pain_injury_count</th>\n",
              "      <th>Dia</th>\n",
              "      <th>verano</th>\n",
              "      <th>party_count</th>\n",
              "      <th>air_bag</th>\n",
              "      <th>car_belt</th>\n",
              "      <th>insurance</th>\n",
              "      <th>conductor_victima</th>\n",
              "      <th>pasajero_victima</th>\n",
              "      <th>victimas_heridas</th>\n",
              "      <th>muertos</th>\n",
              "    </tr>\n",
              "  </thead>\n",
              "  <tbody>\n",
              "    <tr>\n",
              "      <th>count</th>\n",
              "      <td>300.000000</td>\n",
              "      <td>300.000000</td>\n",
              "      <td>300.000000</td>\n",
              "      <td>300.000000</td>\n",
              "      <td>300.000000</td>\n",
              "      <td>300.000000</td>\n",
              "      <td>300.000000</td>\n",
              "      <td>300.000000</td>\n",
              "      <td>300.000000</td>\n",
              "      <td>300.000000</td>\n",
              "      <td>300.000000</td>\n",
              "      <td>300.000000</td>\n",
              "      <td>300.0</td>\n",
              "      <td>300.0</td>\n",
              "      <td>300.000000</td>\n",
              "      <td>300.000000</td>\n",
              "    </tr>\n",
              "    <tr>\n",
              "      <th>mean</th>\n",
              "      <td>0.343333</td>\n",
              "      <td>0.240000</td>\n",
              "      <td>0.303333</td>\n",
              "      <td>0.200000</td>\n",
              "      <td>0.046667</td>\n",
              "      <td>0.643333</td>\n",
              "      <td>0.620000</td>\n",
              "      <td>0.053333</td>\n",
              "      <td>1.653333</td>\n",
              "      <td>0.326667</td>\n",
              "      <td>0.880000</td>\n",
              "      <td>0.890000</td>\n",
              "      <td>1.0</td>\n",
              "      <td>0.0</td>\n",
              "      <td>1.180000</td>\n",
              "      <td>0.500000</td>\n",
              "    </tr>\n",
              "    <tr>\n",
              "      <th>std</th>\n",
              "      <td>0.475615</td>\n",
              "      <td>0.427797</td>\n",
              "      <td>0.460466</td>\n",
              "      <td>0.400668</td>\n",
              "      <td>0.211276</td>\n",
              "      <td>1.741522</td>\n",
              "      <td>0.486197</td>\n",
              "      <td>0.225073</td>\n",
              "      <td>0.809531</td>\n",
              "      <td>0.469778</td>\n",
              "      <td>0.325504</td>\n",
              "      <td>0.313413</td>\n",
              "      <td>0.0</td>\n",
              "      <td>0.0</td>\n",
              "      <td>1.945993</td>\n",
              "      <td>0.500835</td>\n",
              "    </tr>\n",
              "    <tr>\n",
              "      <th>min</th>\n",
              "      <td>0.000000</td>\n",
              "      <td>0.000000</td>\n",
              "      <td>0.000000</td>\n",
              "      <td>0.000000</td>\n",
              "      <td>0.000000</td>\n",
              "      <td>0.000000</td>\n",
              "      <td>0.000000</td>\n",
              "      <td>0.000000</td>\n",
              "      <td>1.000000</td>\n",
              "      <td>0.000000</td>\n",
              "      <td>0.000000</td>\n",
              "      <td>0.000000</td>\n",
              "      <td>1.0</td>\n",
              "      <td>0.0</td>\n",
              "      <td>0.000000</td>\n",
              "      <td>0.000000</td>\n",
              "    </tr>\n",
              "    <tr>\n",
              "      <th>25%</th>\n",
              "      <td>0.000000</td>\n",
              "      <td>0.000000</td>\n",
              "      <td>0.000000</td>\n",
              "      <td>0.000000</td>\n",
              "      <td>0.000000</td>\n",
              "      <td>0.000000</td>\n",
              "      <td>0.000000</td>\n",
              "      <td>0.000000</td>\n",
              "      <td>1.000000</td>\n",
              "      <td>0.000000</td>\n",
              "      <td>1.000000</td>\n",
              "      <td>1.000000</td>\n",
              "      <td>1.0</td>\n",
              "      <td>0.0</td>\n",
              "      <td>0.000000</td>\n",
              "      <td>0.000000</td>\n",
              "    </tr>\n",
              "    <tr>\n",
              "      <th>50%</th>\n",
              "      <td>0.000000</td>\n",
              "      <td>0.000000</td>\n",
              "      <td>0.000000</td>\n",
              "      <td>0.000000</td>\n",
              "      <td>0.000000</td>\n",
              "      <td>0.000000</td>\n",
              "      <td>1.000000</td>\n",
              "      <td>0.000000</td>\n",
              "      <td>1.000000</td>\n",
              "      <td>0.000000</td>\n",
              "      <td>1.000000</td>\n",
              "      <td>1.000000</td>\n",
              "      <td>1.0</td>\n",
              "      <td>0.0</td>\n",
              "      <td>1.000000</td>\n",
              "      <td>0.500000</td>\n",
              "    </tr>\n",
              "    <tr>\n",
              "      <th>75%</th>\n",
              "      <td>1.000000</td>\n",
              "      <td>0.000000</td>\n",
              "      <td>1.000000</td>\n",
              "      <td>0.000000</td>\n",
              "      <td>0.000000</td>\n",
              "      <td>1.000000</td>\n",
              "      <td>1.000000</td>\n",
              "      <td>0.000000</td>\n",
              "      <td>2.000000</td>\n",
              "      <td>1.000000</td>\n",
              "      <td>1.000000</td>\n",
              "      <td>1.000000</td>\n",
              "      <td>1.0</td>\n",
              "      <td>0.0</td>\n",
              "      <td>2.000000</td>\n",
              "      <td>1.000000</td>\n",
              "    </tr>\n",
              "    <tr>\n",
              "      <th>max</th>\n",
              "      <td>1.000000</td>\n",
              "      <td>1.000000</td>\n",
              "      <td>1.000000</td>\n",
              "      <td>1.000000</td>\n",
              "      <td>1.000000</td>\n",
              "      <td>25.000000</td>\n",
              "      <td>1.000000</td>\n",
              "      <td>1.000000</td>\n",
              "      <td>5.000000</td>\n",
              "      <td>1.000000</td>\n",
              "      <td>1.000000</td>\n",
              "      <td>1.000000</td>\n",
              "      <td>1.0</td>\n",
              "      <td>0.0</td>\n",
              "      <td>25.000000</td>\n",
              "      <td>1.000000</td>\n",
              "    </tr>\n",
              "  </tbody>\n",
              "</table>\n",
              "</div>\n",
              "    <div class=\"colab-df-buttons\">\n",
              "\n",
              "  <div class=\"colab-df-container\">\n",
              "    <button class=\"colab-df-convert\" onclick=\"convertToInteractive('df-c011c423-d9c2-42d0-9197-d7a28ed79c2d')\"\n",
              "            title=\"Convert this dataframe to an interactive table.\"\n",
              "            style=\"display:none;\">\n",
              "\n",
              "  <svg xmlns=\"http://www.w3.org/2000/svg\" height=\"24px\" viewBox=\"0 -960 960 960\">\n",
              "    <path d=\"M120-120v-720h720v720H120Zm60-500h600v-160H180v160Zm220 220h160v-160H400v160Zm0 220h160v-160H400v160ZM180-400h160v-160H180v160Zm440 0h160v-160H620v160ZM180-180h160v-160H180v160Zm440 0h160v-160H620v160Z\"/>\n",
              "  </svg>\n",
              "    </button>\n",
              "\n",
              "  <style>\n",
              "    .colab-df-container {\n",
              "      display:flex;\n",
              "      gap: 12px;\n",
              "    }\n",
              "\n",
              "    .colab-df-convert {\n",
              "      background-color: #E8F0FE;\n",
              "      border: none;\n",
              "      border-radius: 50%;\n",
              "      cursor: pointer;\n",
              "      display: none;\n",
              "      fill: #1967D2;\n",
              "      height: 32px;\n",
              "      padding: 0 0 0 0;\n",
              "      width: 32px;\n",
              "    }\n",
              "\n",
              "    .colab-df-convert:hover {\n",
              "      background-color: #E2EBFA;\n",
              "      box-shadow: 0px 1px 2px rgba(60, 64, 67, 0.3), 0px 1px 3px 1px rgba(60, 64, 67, 0.15);\n",
              "      fill: #174EA6;\n",
              "    }\n",
              "\n",
              "    .colab-df-buttons div {\n",
              "      margin-bottom: 4px;\n",
              "    }\n",
              "\n",
              "    [theme=dark] .colab-df-convert {\n",
              "      background-color: #3B4455;\n",
              "      fill: #D2E3FC;\n",
              "    }\n",
              "\n",
              "    [theme=dark] .colab-df-convert:hover {\n",
              "      background-color: #434B5C;\n",
              "      box-shadow: 0px 1px 3px 1px rgba(0, 0, 0, 0.15);\n",
              "      filter: drop-shadow(0px 1px 2px rgba(0, 0, 0, 0.3));\n",
              "      fill: #FFFFFF;\n",
              "    }\n",
              "  </style>\n",
              "\n",
              "    <script>\n",
              "      const buttonEl =\n",
              "        document.querySelector('#df-c011c423-d9c2-42d0-9197-d7a28ed79c2d button.colab-df-convert');\n",
              "      buttonEl.style.display =\n",
              "        google.colab.kernel.accessAllowed ? 'block' : 'none';\n",
              "\n",
              "      async function convertToInteractive(key) {\n",
              "        const element = document.querySelector('#df-c011c423-d9c2-42d0-9197-d7a28ed79c2d');\n",
              "        const dataTable =\n",
              "          await google.colab.kernel.invokeFunction('convertToInteractive',\n",
              "                                                    [key], {});\n",
              "        if (!dataTable) return;\n",
              "\n",
              "        const docLinkHtml = 'Like what you see? Visit the ' +\n",
              "          '<a target=\"_blank\" href=https://colab.research.google.com/notebooks/data_table.ipynb>data table notebook</a>'\n",
              "          + ' to learn more about interactive tables.';\n",
              "        element.innerHTML = '';\n",
              "        dataTable['output_type'] = 'display_data';\n",
              "        await google.colab.output.renderOutput(dataTable, element);\n",
              "        const docLink = document.createElement('div');\n",
              "        docLink.innerHTML = docLinkHtml;\n",
              "        element.appendChild(docLink);\n",
              "      }\n",
              "    </script>\n",
              "  </div>\n",
              "\n",
              "\n",
              "<div id=\"df-34df96c1-d20e-4df3-b866-e83ab91ff695\">\n",
              "  <button class=\"colab-df-quickchart\" onclick=\"quickchart('df-34df96c1-d20e-4df3-b866-e83ab91ff695')\"\n",
              "            title=\"Suggest charts\"\n",
              "            style=\"display:none;\">\n",
              "\n",
              "<svg xmlns=\"http://www.w3.org/2000/svg\" height=\"24px\"viewBox=\"0 0 24 24\"\n",
              "     width=\"24px\">\n",
              "    <g>\n",
              "        <path d=\"M19 3H5c-1.1 0-2 .9-2 2v14c0 1.1.9 2 2 2h14c1.1 0 2-.9 2-2V5c0-1.1-.9-2-2-2zM9 17H7v-7h2v7zm4 0h-2V7h2v10zm4 0h-2v-4h2v4z\"/>\n",
              "    </g>\n",
              "</svg>\n",
              "  </button>\n",
              "\n",
              "<style>\n",
              "  .colab-df-quickchart {\n",
              "      --bg-color: #E8F0FE;\n",
              "      --fill-color: #1967D2;\n",
              "      --hover-bg-color: #E2EBFA;\n",
              "      --hover-fill-color: #174EA6;\n",
              "      --disabled-fill-color: #AAA;\n",
              "      --disabled-bg-color: #DDD;\n",
              "  }\n",
              "\n",
              "  [theme=dark] .colab-df-quickchart {\n",
              "      --bg-color: #3B4455;\n",
              "      --fill-color: #D2E3FC;\n",
              "      --hover-bg-color: #434B5C;\n",
              "      --hover-fill-color: #FFFFFF;\n",
              "      --disabled-bg-color: #3B4455;\n",
              "      --disabled-fill-color: #666;\n",
              "  }\n",
              "\n",
              "  .colab-df-quickchart {\n",
              "    background-color: var(--bg-color);\n",
              "    border: none;\n",
              "    border-radius: 50%;\n",
              "    cursor: pointer;\n",
              "    display: none;\n",
              "    fill: var(--fill-color);\n",
              "    height: 32px;\n",
              "    padding: 0;\n",
              "    width: 32px;\n",
              "  }\n",
              "\n",
              "  .colab-df-quickchart:hover {\n",
              "    background-color: var(--hover-bg-color);\n",
              "    box-shadow: 0 1px 2px rgba(60, 64, 67, 0.3), 0 1px 3px 1px rgba(60, 64, 67, 0.15);\n",
              "    fill: var(--button-hover-fill-color);\n",
              "  }\n",
              "\n",
              "  .colab-df-quickchart-complete:disabled,\n",
              "  .colab-df-quickchart-complete:disabled:hover {\n",
              "    background-color: var(--disabled-bg-color);\n",
              "    fill: var(--disabled-fill-color);\n",
              "    box-shadow: none;\n",
              "  }\n",
              "\n",
              "  .colab-df-spinner {\n",
              "    border: 2px solid var(--fill-color);\n",
              "    border-color: transparent;\n",
              "    border-bottom-color: var(--fill-color);\n",
              "    animation:\n",
              "      spin 1s steps(1) infinite;\n",
              "  }\n",
              "\n",
              "  @keyframes spin {\n",
              "    0% {\n",
              "      border-color: transparent;\n",
              "      border-bottom-color: var(--fill-color);\n",
              "      border-left-color: var(--fill-color);\n",
              "    }\n",
              "    20% {\n",
              "      border-color: transparent;\n",
              "      border-left-color: var(--fill-color);\n",
              "      border-top-color: var(--fill-color);\n",
              "    }\n",
              "    30% {\n",
              "      border-color: transparent;\n",
              "      border-left-color: var(--fill-color);\n",
              "      border-top-color: var(--fill-color);\n",
              "      border-right-color: var(--fill-color);\n",
              "    }\n",
              "    40% {\n",
              "      border-color: transparent;\n",
              "      border-right-color: var(--fill-color);\n",
              "      border-top-color: var(--fill-color);\n",
              "    }\n",
              "    60% {\n",
              "      border-color: transparent;\n",
              "      border-right-color: var(--fill-color);\n",
              "    }\n",
              "    80% {\n",
              "      border-color: transparent;\n",
              "      border-right-color: var(--fill-color);\n",
              "      border-bottom-color: var(--fill-color);\n",
              "    }\n",
              "    90% {\n",
              "      border-color: transparent;\n",
              "      border-bottom-color: var(--fill-color);\n",
              "    }\n",
              "  }\n",
              "</style>\n",
              "\n",
              "  <script>\n",
              "    async function quickchart(key) {\n",
              "      const quickchartButtonEl =\n",
              "        document.querySelector('#' + key + ' button');\n",
              "      quickchartButtonEl.disabled = true;  // To prevent multiple clicks.\n",
              "      quickchartButtonEl.classList.add('colab-df-spinner');\n",
              "      try {\n",
              "        const charts = await google.colab.kernel.invokeFunction(\n",
              "            'suggestCharts', [key], {});\n",
              "      } catch (error) {\n",
              "        console.error('Error during call to suggestCharts:', error);\n",
              "      }\n",
              "      quickchartButtonEl.classList.remove('colab-df-spinner');\n",
              "      quickchartButtonEl.classList.add('colab-df-quickchart-complete');\n",
              "    }\n",
              "    (() => {\n",
              "      let quickchartButtonEl =\n",
              "        document.querySelector('#df-34df96c1-d20e-4df3-b866-e83ab91ff695 button');\n",
              "      quickchartButtonEl.style.display =\n",
              "        google.colab.kernel.accessAllowed ? 'block' : 'none';\n",
              "    })();\n",
              "  </script>\n",
              "</div>\n",
              "    </div>\n",
              "  </div>\n"
            ],
            "application/vnd.google.colaboratory.intrinsic+json": {
              "type": "dataframe",
              "summary": "{\n  \"name\": \"data\",\n  \"rows\": 8,\n  \"fields\": [\n    {\n      \"column\": \"notchp\",\n      \"properties\": {\n        \"dtype\": \"number\",\n        \"std\": 105.92445398011067,\n        \"min\": 0.0,\n        \"max\": 300.0,\n        \"num_unique_values\": 5,\n        \"samples\": [\n          0.3433333333333333,\n          1.0,\n          0.4756149572016584\n        ],\n        \"semantic_type\": \"\",\n        \"description\": \"\"\n      }\n    },\n    {\n      \"column\": \"county_road_area\",\n      \"properties\": {\n        \"dtype\": \"number\",\n        \"std\": 105.98234904442039,\n        \"min\": 0.0,\n        \"max\": 300.0,\n        \"num_unique_values\": 5,\n        \"samples\": [\n          0.24,\n          1.0,\n          0.4277967197686491\n        ],\n        \"semantic_type\": \"\",\n        \"description\": \"\"\n      }\n    },\n    {\n      \"column\": \"alta_vel\",\n      \"properties\": {\n        \"dtype\": \"number\",\n        \"std\": 105.92724205306361,\n        \"min\": 0.0,\n        \"max\": 300.0,\n        \"num_unique_values\": 5,\n        \"samples\": [\n          0.30333333333333334,\n          1.0,\n          0.4604660525025122\n        ],\n        \"semantic_type\": \"\",\n        \"description\": \"\"\n      }\n    },\n    {\n      \"column\": \"alcohol\",\n      \"properties\": {\n        \"dtype\": \"number\",\n        \"std\": 105.98573363724667,\n        \"min\": 0.0,\n        \"max\": 300.0,\n        \"num_unique_values\": 5,\n        \"samples\": [\n          0.2,\n          1.0,\n          0.40066833797650675\n        ],\n        \"semantic_type\": \"\",\n        \"description\": \"\"\n      }\n    },\n    {\n      \"column\": \"peaton_incumplimiento\",\n      \"properties\": {\n        \"dtype\": \"number\",\n        \"std\": 106.00303451807898,\n        \"min\": 0.0,\n        \"max\": 300.0,\n        \"num_unique_values\": 5,\n        \"samples\": [\n          0.04666666666666667,\n          1.0,\n          0.21127631471468894\n        ],\n        \"semantic_type\": \"\",\n        \"description\": \"\"\n      }\n    },\n    {\n      \"column\": \"complaint_of_pain_injury_count\",\n      \"properties\": {\n        \"dtype\": \"number\",\n        \"std\": 104.98290346015524,\n        \"min\": 0.0,\n        \"max\": 300.0,\n        \"num_unique_values\": 6,\n        \"samples\": [\n          300.0,\n          0.6433333333333333,\n          25.0\n        ],\n        \"semantic_type\": \"\",\n        \"description\": \"\"\n      }\n    },\n    {\n      \"column\": \"Dia\",\n      \"properties\": {\n        \"dtype\": \"number\",\n        \"std\": 105.85944075050195,\n        \"min\": 0.0,\n        \"max\": 300.0,\n        \"num_unique_values\": 5,\n        \"samples\": [\n          0.62,\n          1.0,\n          0.4861974494649481\n        ],\n        \"semantic_type\": \"\",\n        \"description\": \"\"\n      }\n    },\n    {\n      \"column\": \"verano\",\n      \"properties\": {\n        \"dtype\": \"number\",\n        \"std\": 106.00200048974732,\n        \"min\": 0.0,\n        \"max\": 300.0,\n        \"num_unique_values\": 5,\n        \"samples\": [\n          0.05333333333333334,\n          1.0,\n          0.2250727616773127\n        ],\n        \"semantic_type\": \"\",\n        \"description\": \"\"\n      }\n    },\n    {\n      \"column\": \"party_count\",\n      \"properties\": {\n        \"dtype\": \"number\",\n        \"std\": 105.44548941979507,\n        \"min\": 0.8095307420330274,\n        \"max\": 300.0,\n        \"num_unique_values\": 6,\n        \"samples\": [\n          300.0,\n          1.6533333333333333,\n          5.0\n        ],\n        \"semantic_type\": \"\",\n        \"description\": \"\"\n      }\n    },\n    {\n      \"column\": \"air_bag\",\n      \"properties\": {\n        \"dtype\": \"number\",\n        \"std\": 105.92559150761791,\n        \"min\": 0.0,\n        \"max\": 300.0,\n        \"num_unique_values\": 5,\n        \"samples\": [\n          0.32666666666666666,\n          1.0,\n          0.46977781223159737\n        ],\n        \"semantic_type\": \"\",\n        \"description\": \"\"\n      }\n    },\n    {\n      \"column\": \"car_belt\",\n      \"properties\": {\n        \"dtype\": \"number\",\n        \"std\": 105.80378089133072,\n        \"min\": 0.0,\n        \"max\": 300.0,\n        \"num_unique_values\": 5,\n        \"samples\": [\n          0.88,\n          1.0,\n          0.32550449652428004\n        ],\n        \"semantic_type\": \"\",\n        \"description\": \"\"\n      }\n    },\n    {\n      \"column\": \"insurance\",\n      \"properties\": {\n        \"dtype\": \"number\",\n        \"std\": 105.80389538374207,\n        \"min\": 0.0,\n        \"max\": 300.0,\n        \"num_unique_values\": 5,\n        \"samples\": [\n          0.89,\n          1.0,\n          0.3134125472108031\n        ],\n        \"semantic_type\": \"\",\n        \"description\": \"\"\n      }\n    },\n    {\n      \"column\": \"conductor_victima\",\n      \"properties\": {\n        \"dtype\": \"number\",\n        \"std\": 105.76355029701192,\n        \"min\": 0.0,\n        \"max\": 300.0,\n        \"num_unique_values\": 3,\n        \"samples\": [\n          300.0,\n          1.0,\n          0.0\n        ],\n        \"semantic_type\": \"\",\n        \"description\": \"\"\n      }\n    },\n    {\n      \"column\": \"pasajero_victima\",\n      \"properties\": {\n        \"dtype\": \"number\",\n        \"std\": 106.06601717798213,\n        \"min\": 0.0,\n        \"max\": 300.0,\n        \"num_unique_values\": 2,\n        \"samples\": [\n          0.0,\n          300.0\n        ],\n        \"semantic_type\": \"\",\n        \"description\": \"\"\n      }\n    },\n    {\n      \"column\": \"victimas_heridas\",\n      \"properties\": {\n        \"dtype\": \"number\",\n        \"std\": 104.83294627029171,\n        \"min\": 0.0,\n        \"max\": 300.0,\n        \"num_unique_values\": 7,\n        \"samples\": [\n          300.0,\n          1.18\n        ],\n        \"semantic_type\": \"\",\n        \"description\": \"\"\n      }\n    },\n    {\n      \"column\": \"muertos\",\n      \"properties\": {\n        \"dtype\": \"number\",\n        \"std\": 105.88987284529772,\n        \"min\": 0.0,\n        \"max\": 300.0,\n        \"num_unique_values\": 5,\n        \"samples\": [\n          0.5,\n          1.0\n        ],\n        \"semantic_type\": \"\",\n        \"description\": \"\"\n      }\n    }\n  ]\n}"
            }
          },
          "metadata": {},
          "execution_count": 23
        }
      ],
      "source": [
        "data.describe()"
      ]
    },
    {
      "cell_type": "markdown",
      "metadata": {
        "id": "nVDy2djy8YiF"
      },
      "source": [
        "# MODELOS CLÁSICOS"
      ]
    },
    {
      "cell_type": "markdown",
      "metadata": {
        "id": "Lg8fqJdkbt_D"
      },
      "source": [
        "### CLASIFICADOR CLÁSICO CON EPOCHS NEU NET BUENO"
      ]
    },
    {
      "cell_type": "markdown",
      "source": [
        "Se quita la variable objetivo"
      ],
      "metadata": {
        "id": "a_rG3VA1-4wF"
      }
    },
    {
      "cell_type": "code",
      "execution_count": 23,
      "metadata": {
        "id": "VHP39PdFBu-w"
      },
      "outputs": [],
      "source": [
        "X = data.drop(['muertos'],axis=1).values\n",
        "Y = data['muertos'].values"
      ]
    },
    {
      "cell_type": "markdown",
      "source": [
        "Se escalan los datos con StadardScaler aunque también se ha probado MinMaxScaler"
      ],
      "metadata": {
        "id": "lY1xwa1K-58q"
      }
    },
    {
      "cell_type": "code",
      "execution_count": 24,
      "metadata": {
        "id": "L6m1ul-XB12n"
      },
      "outputs": [],
      "source": [
        "#scaler = MinMaxScaler() entre 0 y pi\n",
        "scaler = StandardScaler()\n",
        "x_train, x_test, y_train, y_test = train_test_split(X, Y, test_size=0.2)"
      ]
    },
    {
      "cell_type": "code",
      "execution_count": 25,
      "metadata": {
        "id": "B1MR9uXrBxeo"
      },
      "outputs": [],
      "source": [
        "# Normalizar los datos de entrenamiento\n",
        "x_train = scaler.fit_transform(x_train)\n",
        "\n",
        "# Transformar los datos de prueba usando el mismo escalador\n",
        "x_test = scaler.transform(x_test)"
      ]
    },
    {
      "cell_type": "code",
      "execution_count": 26,
      "metadata": {
        "id": "-z8eGcxhBwFG"
      },
      "outputs": [],
      "source": [
        "x_train = torch.FloatTensor(x_train)\n",
        "x_test = torch.FloatTensor(x_test)\n",
        "y_train = torch.LongTensor(y_train)\n",
        "y_test = torch.LongTensor(y_test)"
      ]
    },
    {
      "cell_type": "code",
      "execution_count": 27,
      "metadata": {
        "id": "L5XBHzoqtNFA"
      },
      "outputs": [],
      "source": [
        "class NeuralNetworkClassificationModel(nn.Module):\n",
        "    def __init__(self,input_dim,output_dim):\n",
        "        super(NeuralNetworkClassificationModel,self).__init__()\n",
        "        self.input_layer    = nn.Linear(input_dim,15)\n",
        "        self.hidden_layer1  = nn.Linear(15,2)  #hemos bajado el número de capas\n",
        "        self.hidden_layer2  = nn.Linear(2,15)  #hemos bajado el número de capas\n",
        "        self.output_layer   = nn.Linear(15,output_dim)\n",
        "        self.relu = nn.ReLU()\n",
        "        #self.qnn=TorchConnector(qnn)\n",
        "        self.hidden_layer3=nn.Linear(1,1)\n",
        "\n",
        "    def forward(self,x):\n",
        "        out =  self.relu(self.input_layer(x))\n",
        "        out =  self.relu(self.hidden_layer1(out))\n",
        "        out =  self.relu(self.hidden_layer2(out))\n",
        "        out =  self.output_layer(out)\n",
        "        return out"
      ]
    },
    {
      "cell_type": "code",
      "execution_count": 28,
      "metadata": {
        "id": "OgWwh7zxswFG"
      },
      "outputs": [],
      "source": [
        "input_dim  = 15  #nº columnas quitando la columna objetivo\n",
        "output_dim = 2  #nº de las posibles salidas dentro de la columna objetivo"
      ]
    },
    {
      "cell_type": "code",
      "execution_count": 45,
      "metadata": {
        "id": "WdqW41E6s651"
      },
      "outputs": [],
      "source": [
        "num_epochs = 200\n",
        "train_losses = np.zeros(num_epochs)\n",
        "test_losses  = np.zeros(num_epochs)"
      ]
    },
    {
      "cell_type": "code",
      "execution_count": 30,
      "metadata": {
        "id": "haCUhBbc1iFU"
      },
      "outputs": [],
      "source": [
        "def get_accuracy_multiclass(pred_arr, original_arr):\n",
        "    pred_arr = pred_arr.detach().numpy()  # Usar detach() para obtener una copia del tensor sin gradiente\n",
        "    original_arr = original_arr.detach().numpy()  # Usar detach() para obtener una copia del tensor sin gradiente\n",
        "\n",
        "    final_pred = np.argmax(pred_arr, axis=1)\n",
        "    count = np.sum(final_pred == original_arr)\n",
        "    return count / len(final_pred)\n"
      ]
    },
    {
      "cell_type": "code",
      "execution_count": 48,
      "metadata": {
        "colab": {
          "base_uri": "https://localhost:8080/"
        },
        "id": "W9HroZyQzbF0",
        "outputId": "7ad37faa-3dbb-4882-bf69-d134d308b05f"
      },
      "outputs": [
        {
          "output_type": "stream",
          "name": "stdout",
          "text": [
            "Learning Rate: 0.1\n",
            "Final Training Accuracy: 91.25%\n",
            "Final Test Accuracy: 78.333%\n",
            "Learning Rate: 0.01\n",
            "Final Training Accuracy: 93.75%\n",
            "Final Test Accuracy: 73.333%\n",
            "Learning Rate: 0.02\n",
            "Final Training Accuracy: 93.333%\n",
            "Final Test Accuracy: 81.667%\n",
            "Learning Rate: 0.001\n",
            "Final Training Accuracy: 87.5%\n",
            "Final Test Accuracy: 78.333%\n",
            "Final Train Accuracies: [0.9125, 0.9375, 0.9333333333333333, 0.875]\n",
            "Final Test Accuracies: [0.7833333333333333, 0.7333333333333333, 0.8166666666666667, 0.7833333333333333]\n"
          ]
        }
      ],
      "source": [
        "import matplotlib.pyplot as plt\n",
        "\n",
        "def train_network(model, optimizer, criterion, X_train, y_train, X_test, y_test, num_epochs):\n",
        "    train_losses = []\n",
        "    test_losses = []\n",
        "    train_accuracies = []\n",
        "    test_accuracies = []\n",
        "\n",
        "    for epoch in range(num_epochs):\n",
        "        optimizer.zero_grad()\n",
        "        output_train = model(X_train)\n",
        "        loss_train = criterion(output_train, y_train)\n",
        "        loss_train.backward()\n",
        "        optimizer.step()\n",
        "\n",
        "        output_test = model(X_test)\n",
        "        loss_test = criterion(output_test, y_test)\n",
        "\n",
        "        # Calcular accuracy en cada época\n",
        "        train_accuracy = get_accuracy_multiclass(output_train, y_train)\n",
        "        test_accuracy = get_accuracy_multiclass(output_test, y_test)\n",
        "\n",
        "        train_losses.append(loss_train.item())\n",
        "        test_losses.append(loss_test.item())\n",
        "        train_accuracies.append(train_accuracy)\n",
        "        test_accuracies.append(test_accuracy)\n",
        "\n",
        "        # if (epoch + 1) % 50 == 0:\n",
        "        #     print(f\"Epoch {epoch+1}/{num_epochs}, Train Loss: {loss_train.item():.4f}, Test Loss: {loss_test.item():.4f}, Train Accuracy: {train_accuracy:.4f}, Test Accuracy: {test_accuracy:.4f}\")\n",
        "\n",
        "    return train_losses, test_losses, train_accuracies, test_accuracies\n",
        "\n",
        "learning_rates = [0.1, 0.01, 0.02, 0.001]\n",
        "accuracies_train = []\n",
        "accuracies_test = []\n",
        "\n",
        "criterion = nn.CrossEntropyLoss()\n",
        "\n",
        "\n",
        "for learning_rate in learning_rates:\n",
        "    model = NeuralNetworkClassificationModel(input_dim, output_dim)\n",
        "    optimizer = torch.optim.Adam(model.parameters(), lr=learning_rate)\n",
        "\n",
        "    train_losses, test_losses, train_accuracies, test_accuracies = train_network(model, optimizer, criterion, x_train, y_train, x_test, y_test, num_epochs)\n",
        "\n",
        "    # Obtener la precisión final\n",
        "    final_train_accuracy = train_accuracies[-1]\n",
        "    final_test_accuracy = test_accuracies[-1]\n",
        "\n",
        "    accuracies_train.append(final_train_accuracy)\n",
        "    accuracies_test.append(final_test_accuracy)\n",
        "\n",
        "    print(f\"Learning Rate: {learning_rate}\")\n",
        "    print(f\"Final Training Accuracy: {round(final_train_accuracy * 100, 3)}%\")\n",
        "    print(f\"Final Test Accuracy: {round(final_test_accuracy * 100, 3)}%\")\n",
        "\n",
        "# Imprimir las precisiones finales para cada learning rate\n",
        "print(\"Final Train Accuracies:\", accuracies_train)\n",
        "print(\"Final Test Accuracies:\", accuracies_test)\n",
        "\n",
        "# Entrenar y graficar para cada learning rate\n",
        "for learning_rate in learning_rates:\n",
        "    model = NeuralNetworkClassificationModel(input_dim, output_dim)\n",
        "    optimizer = torch.optim.Adam(model.parameters(), lr=learning_rate)\n",
        "\n",
        "    train_losses, test_losses, train_accuracies, test_accuracies = train_network(model, optimizer, criterion, x_train, y_train, x_test, y_test, num_epochs)\n",
        "\n",
        "    # Graficar las pérdidas y accuracies\n",
        "    # plt.figure(figsize=(12, 5))\n",
        "\n",
        "    # plt.subplot(1, 2, 1)\n",
        "    # plt.plot(range(1, num_epochs + 1), train_losses, label='Train Loss')\n",
        "    # plt.plot(range(1, num_epochs + 1), test_losses, label='Test Loss')\n",
        "    # plt.xlabel('Epochs')\n",
        "    # plt.ylabel('Loss')\n",
        "    # plt.title(f'Train and Test Losses for Learning Rate = {learning_rate}')\n",
        "    # plt.legend()\n",
        "\n",
        "    # plt.subplot(1, 2, 2)\n",
        "    # plt.plot(range(1, num_epochs + 1), train_accuracies, label='Train Accuracy')\n",
        "    # plt.plot(range(1, num_epochs + 1), test_accuracies, label='Test Accuracy')\n",
        "    # plt.xlabel('Epochs')\n",
        "    # plt.ylabel('Accuracy')\n",
        "    # plt.title(f'Train and Test Accuracies for Learning Rate = {learning_rate}')\n",
        "    # plt.legend()\n",
        "\n",
        "    # plt.tight_layout()\n",
        "    # plt.show()\n",
        "\n",
        "\n",
        "#LEARNING RATE DE 0.1\n",
        "# 100 ÉPOCAS ES LA MEJOR CONFIGURACIÓN  (con 200 epocas va similar pero tarda más (0.9 y 0.86 en pruebas y 0.96 en train))\n",
        "\n",
        "#Final Train Accuracies: 0.8375  // 0.82\n",
        "#Final Test Accuracies: 0.81    //  0.80\n",
        "\n",
        "# 200 ÉPOCAS ES LA MEJOR CONFIGURACIÓN YA QUE LUEGO EL SISTEMA NO MEJORA PARA LOS LEARNING RATES DE 0.01 Y 0.02\n",
        "\n",
        "#Final Train Accuracies: [0.7833333333333333, 0.8166666666666667] con 200\n",
        "#Final Test Accuracies: [0.8133333333333333, 0.8233333333333333] con 200\n",
        "\n",
        "# 600-700 ÉPOCAS ES LA MEJOR CONFIGURACIÓN YA QUE LUEGO EL SISTEMA NO MEJORA PARA EL LEARNING RATE DE 0.001\n",
        "\n",
        "#Final Train Accuracies: 0.78 con 600\n",
        "#Final Test Accuracies: 0.83 con 600\n",
        "\n",
        "#Final Train Accuracies: 0.8 con 700\n",
        "#Final Test Accuracies: 0.85 con 700\n"
      ]
    },
    {
      "cell_type": "markdown",
      "metadata": {
        "id": "jWUF5k4uKXhO"
      },
      "source": [
        "### CLASIFICADOR CLÁSICO"
      ]
    },
    {
      "cell_type": "markdown",
      "metadata": {
        "id": "aGyED5pssI95"
      },
      "source": [
        "SE PRUEBAN DISTINTOS MODELOS CON DISTINTAS CONFIGURACIONES"
      ]
    },
    {
      "cell_type": "markdown",
      "source": [
        "Además se muestra la precisión de nuestros clasificadores clásicos con los datos de train"
      ],
      "metadata": {
        "id": "HxHJTHyJVxKW"
      }
    },
    {
      "cell_type": "code",
      "execution_count": 99,
      "metadata": {
        "colab": {
          "base_uri": "https://localhost:8080/"
        },
        "id": "pHU4U6zkx3K4",
        "outputId": "82fc9409-c6fd-40a7-d13c-9511cd6d1e6f"
      },
      "outputs": [
        {
          "output_type": "stream",
          "name": "stdout",
          "text": [
            "LogisticRegression - Precisión: 0.7958333333333333\n",
            "SVM - Precisión: 0.8208333333333333\n",
            "SGDClassifier - Precisión: 0.75\n",
            "DecisionTreeClassifier - Precisión: 0.7875\n",
            "Random Forest Classifier - Precisión: 0.8375\n",
            "Gradient Boosting Classifier - Precisión: 0.8875\n",
            "Ada Boost Classifier - Precisión: 0.8875\n"
          ]
        }
      ],
      "source": [
        "clf = LogisticRegression(C=1.0, penalty='l1', solver='liblinear', multi_class='auto')\n",
        "\n",
        "clf2 = SVC(kernel='rbf', random_state=1, C=1, probability=True)\n",
        "\n",
        "clf3 = SGDClassifier(loss='modified_huber') #loss='hinge' precisión 0.7, log_loss 0.66, perceptron 0.65,\n",
        "#modified_huber 0.8 (a veces más bajo), epsilon_insensitive 0.55, squared_error 0.6, huber 0.38, squared_hinge 0.7\n",
        "#'log_loss', 'modified_huber'\n",
        "\n",
        "clf4 = DecisionTreeClassifier(criterion='entropy', max_depth=5, min_samples_split=10, random_state=42)\n",
        "\n",
        "# Random Forest Classifier\n",
        "clf5 = RandomForestClassifier(n_estimators=100, max_depth=5, random_state=42)\n",
        "\n",
        "# Gradient Boosting Classifier\n",
        "clf6 = GradientBoostingClassifier(n_estimators=100, learning_rate=0.1, max_depth=3, random_state=42)\n",
        "\n",
        "# Ada Boost Classifier\n",
        "clf7 = AdaBoostClassifier(n_estimators=100, random_state=42)\n",
        "\n",
        "clf.fit(x_train, y_train)\n",
        "clf2.fit(x_train, y_train)\n",
        "clf3.fit(x_train, y_train)\n",
        "clf4.fit(x_train, y_train)\n",
        "clf5.fit(x_train, y_train)\n",
        "clf6.fit(x_train, y_train)\n",
        "clf7.fit(x_train, y_train)\n",
        "\n",
        "# Predecir etiquetas usando los modelos entrenados en los datos de entrenamiento\n",
        "predict_clf_clasico_train = clf.predict(x_train)\n",
        "predict_clf_clasico2_train = clf2.predict(x_train)\n",
        "predict_clf_clasico3_train = clf3.predict(x_train)\n",
        "predict_clf_clasico4_train = clf4.predict(x_train)\n",
        "predict_clf_clasico5_train = clf5.predict(x_train)\n",
        "predict_clf_clasico6_train = clf6.predict(x_train)\n",
        "predict_clf_clasico7_train = clf7.predict(x_train)\n",
        "\n",
        "# Calcular la precisión en los datos de entrenamiento\n",
        "accuracy_clc_clasico_train = accuracy_score(y_train, predict_clf_clasico_train)\n",
        "accuracy_clc_clasico2_train = accuracy_score(y_train, predict_clf_clasico2_train)\n",
        "accuracy_clc_clasico3_train = accuracy_score(y_train, predict_clf_clasico3_train)\n",
        "accuracy_clc_clasico4_train = accuracy_score(y_train, predict_clf_clasico4_train)\n",
        "accuracy_clc_clasico5_train = accuracy_score(y_train, predict_clf_clasico5_train)\n",
        "accuracy_clc_clasico6_train = accuracy_score(y_train, predict_clf_clasico6_train)\n",
        "accuracy_clc_clasico7_train = accuracy_score(y_train, predict_clf_clasico6_train)\n",
        "\n",
        "# Imprimir la precisión en los datos de entrenamiento\n",
        "print(\"LogisticRegression - Precisión:\", accuracy_clc_clasico_train)\n",
        "print(\"SVM - Precisión:\", accuracy_clc_clasico2_train)\n",
        "print(\"SGDClassifier - Precisión:\", accuracy_clc_clasico3_train)\n",
        "print(\"DecisionTreeClassifier - Precisión:\", accuracy_clc_clasico4_train)\n",
        "print(\"Random Forest Classifier - Precisión:\", accuracy_clc_clasico5_train)\n",
        "print(\"Gradient Boosting Classifier - Precisión:\", accuracy_clc_clasico6_train)\n",
        "print(\"Ada Boost Classifier - Precisión:\", accuracy_clc_clasico7_train)"
      ]
    },
    {
      "cell_type": "markdown",
      "source": [
        "Se muestra la precisión de nuestros clasificadores clásicos con los datos de test"
      ],
      "metadata": {
        "id": "EIbeligMVrQO"
      }
    },
    {
      "cell_type": "code",
      "execution_count": 100,
      "metadata": {
        "colab": {
          "base_uri": "https://localhost:8080/"
        },
        "id": "IKsXqTxprLQd",
        "outputId": "d8fb802a-cefc-440d-ed1a-934fb5fee4c7"
      },
      "outputs": [
        {
          "output_type": "stream",
          "name": "stdout",
          "text": [
            "LogisticRegression - Precisión 0.75\n",
            "SVM - Precisión 0.7333333333333333\n",
            "SGDClassifier - Precisión: 0.6666666666666666\n",
            "DecisionTreeClassifier - Precisión: 0.6833333333333333\n",
            "Random Forest Classifier - Precisión: 0.75\n",
            "Gradient Boosting Classifier - Precisión: 0.7333333333333333\n",
            "Ada Boost Classifier - Precisión: 0.7333333333333333\n"
          ]
        }
      ],
      "source": [
        "predict_clf_clasico=clf.predict(x_test)\n",
        "predict_clf_clasico2=clf2.predict(x_test)\n",
        "predict_clf_clasico3=clf3.predict(x_test)\n",
        "predict_clf_clasico4 = clf4.predict(x_test)\n",
        "predict_clf_clasico5 = clf5.predict(x_test)\n",
        "predict_clf_clasico6 = clf6.predict(x_test)\n",
        "predict_clf_clasico7 = clf7.predict(x_test)\n",
        "\n",
        "accuracy_clc_clasico = accuracy_score(y_test, predict_clf_clasico)\n",
        "accuracy_clc_clasico2 = accuracy_score(y_test, predict_clf_clasico2)\n",
        "accuracy_clc_clasico3 = accuracy_score(y_test, predict_clf_clasico3)\n",
        "accuracy_clc_clasico4 = accuracy_score(y_test, predict_clf_clasico4)\n",
        "accuracy_clc_clasico5 = accuracy_score(y_test, predict_clf_clasico5)\n",
        "accuracy_clc_clasico6 = accuracy_score(y_test, predict_clf_clasico6)\n",
        "accuracy_clc_clasico7 = accuracy_score(y_test, predict_clf_clasico7)\n",
        "\n",
        "print(\"LogisticRegression - Precisión\", accuracy_clc_clasico)\n",
        "print(\"SVM - Precisión\", accuracy_clc_clasico2)\n",
        "print(\"SGDClassifier - Precisión:\", accuracy_clc_clasico3)\n",
        "print(\"DecisionTreeClassifier - Precisión:\", accuracy_clc_clasico4)\n",
        "print(\"Random Forest Classifier - Precisión:\", accuracy_clc_clasico5)\n",
        "print(\"Gradient Boosting Classifier - Precisión:\", accuracy_clc_clasico6)\n",
        "print(\"Ada Boost Classifier - Precisión:\", accuracy_clc_clasico7)"
      ]
    },
    {
      "cell_type": "markdown",
      "metadata": {
        "id": "Es5q_jhH1EsN"
      },
      "source": [
        "MATRICES DE CONFUSIÓN"
      ]
    },
    {
      "cell_type": "code",
      "execution_count": 101,
      "metadata": {
        "colab": {
          "base_uri": "https://localhost:8080/"
        },
        "id": "fiyvo2yEMCTv",
        "outputId": "45405ca6-c916-40f7-e4a9-dd28cee5212b"
      },
      "outputs": [
        {
          "output_type": "execute_result",
          "data": {
            "text/plain": [
              "(array([[25,  7],\n",
              "        [ 8, 20]]),\n",
              " array([[28,  4],\n",
              "        [12, 16]]),\n",
              " array([[29,  3],\n",
              "        [17, 11]]),\n",
              " array([[24,  8],\n",
              "        [11, 17]]),\n",
              " array([[24,  8],\n",
              "        [ 7, 21]]),\n",
              " array([[22, 10],\n",
              "        [ 6, 22]]),\n",
              " array([[21, 11],\n",
              "        [ 5, 23]]))"
            ]
          },
          "metadata": {},
          "execution_count": 101
        }
      ],
      "source": [
        "confusion = confusion_matrix(y_test, predict_clf_clasico)\n",
        "confusion2 = confusion_matrix(y_test, predict_clf_clasico2)\n",
        "confusion3 = confusion_matrix(y_test, predict_clf_clasico3)\n",
        "confusion4 = confusion_matrix(y_test, predict_clf_clasico4)\n",
        "confusion5 = confusion_matrix(y_test, predict_clf_clasico5)\n",
        "confusion6 = confusion_matrix(y_test, predict_clf_clasico6)\n",
        "confusion7 = confusion_matrix(y_test, predict_clf_clasico7)\n",
        "\n",
        "confusion, confusion2, confusion3, confusion4, confusion5, confusion6, confusion7"
      ]
    },
    {
      "cell_type": "markdown",
      "metadata": {
        "id": "sET4gKQnsUv8"
      },
      "source": [
        "### CC LogisticRegression MEJORADO\n"
      ]
    },
    {
      "cell_type": "markdown",
      "metadata": {
        "id": "cka7aukxA8-E"
      },
      "source": [
        "El modelo clásico que peor ha funcionado ha sido LogisticRegression, ver si se puede mejorar la precisión de esta cogiendo 'los mejores' parámetros"
      ]
    },
    {
      "cell_type": "code",
      "execution_count": 26,
      "metadata": {
        "colab": {
          "base_uri": "https://localhost:8080/"
        },
        "id": "egX0jc4868UB",
        "outputId": "915e5909-d97c-43e6-bce5-5961cb5f55c5"
      },
      "outputs": [
        {
          "output_type": "stream",
          "name": "stdout",
          "text": [
            "verano: 1.8925895999402018\n",
            "insurance: 1.43465362811877\n",
            "car_belt: 1.2708669060782385\n",
            "air_bag: 1.1477088055645623\n",
            "county_road_area: 1.0866025811262816\n",
            "complaint_of_pain_injury_count: 1.077196012220126\n",
            "Dia: 0.9887374941062445\n",
            "peaton_incumplimiento: 0.3768040596446124\n",
            "party_count: 0.3437169202434649\n",
            "victimas_heridas: 0.3357930599192848\n",
            "alcohol: 0.2700965291624498\n",
            "notchp: 0.2219538485781571\n",
            "alta_vel: 0.19666955087079588\n",
            "conductor_victima: 0.00015352860057121895\n",
            "pasajero_victima: 0.0\n"
          ]
        }
      ],
      "source": [
        "from sklearn.linear_model import LogisticRegression\n",
        "\n",
        "# Entrenar el modelo de regresión logística\n",
        "model = LogisticRegression()\n",
        "model.fit(X, Y)\n",
        "\n",
        "# Obtener los coeficientes del modelo\n",
        "coefficients = model.coef_[0]\n",
        "\n",
        "# Obtener las características\n",
        "features = X.columns\n",
        "\n",
        "# Crear un diccionario para almacenar la importancia de las características\n",
        "importances = {}\n",
        "\n",
        "# Asignar los coeficientes a las características correspondientes\n",
        "for feature, coef in zip(features, coefficients):\n",
        "    importances[feature] = abs(coef)\n",
        "\n",
        "# Ordenar las características por importancia\n",
        "importances_sorted = sorted(importances.items(), key=lambda x: x[1], reverse=True)\n",
        "\n",
        "# Imprimir las características ordenadas por importancia\n",
        "for feature, importance in importances_sorted:\n",
        "    print(f\"{feature}: {importance}\")\n"
      ]
    },
    {
      "cell_type": "markdown",
      "source": [
        "Seleccionar las 15 características con las importancias más altas"
      ],
      "metadata": {
        "id": "_6Z8ire0_VVe"
      }
    },
    {
      "cell_type": "code",
      "execution_count": 27,
      "metadata": {
        "id": "W8xi2C2Rvh81"
      },
      "outputs": [],
      "source": [
        "top_15_feature_names = [feature for feature, _ in importances_sorted[:15]]\n",
        "\n",
        "train_data_final_q1 = data[top_15_feature_names]\n",
        "train_data_final_q1 = data.sample(n=300, random_state=42)"
      ]
    },
    {
      "cell_type": "code",
      "execution_count": 28,
      "metadata": {
        "id": "HhLzufpbuzWn"
      },
      "outputs": [],
      "source": [
        "X_q1 = train_data_final_q1.drop('muertos', axis=1)\n",
        "Y_q1 = train_data_final_q1['muertos']"
      ]
    },
    {
      "cell_type": "code",
      "execution_count": 29,
      "metadata": {
        "id": "6NQokeRbutVj"
      },
      "outputs": [],
      "source": [
        "X_train_q1, X_test_q1, Y_train_q1, Y_test_q1 = train_test_split(X_q1, Y_q1, test_size=0.2, random_state=42)"
      ]
    },
    {
      "cell_type": "code",
      "execution_count": 30,
      "metadata": {
        "id": "ong1qY2E-OT2",
        "colab": {
          "base_uri": "https://localhost:8080/"
        },
        "outputId": "e5ab559f-f2e0-45e9-80cc-48156deb4283"
      },
      "outputs": [
        {
          "output_type": "stream",
          "name": "stdout",
          "text": [
            "Fitting 10 folds for each of 12 candidates, totalling 120 fits\n"
          ]
        },
        {
          "output_type": "stream",
          "name": "stderr",
          "text": [
            "/usr/local/lib/python3.10/dist-packages/joblib/externals/loky/backend/fork_exec.py:38: RuntimeWarning: os.fork() was called. os.fork() is incompatible with multithreaded code, and JAX is multithreaded, so this will likely lead to a deadlock.\n",
            "  pid = os.fork()\n",
            "/usr/local/lib/python3.10/dist-packages/joblib/externals/loky/backend/fork_exec.py:38: RuntimeWarning: os.fork() was called. os.fork() is incompatible with multithreaded code, and JAX is multithreaded, so this will likely lead to a deadlock.\n",
            "  pid = os.fork()\n"
          ]
        },
        {
          "output_type": "stream",
          "name": "stdout",
          "text": [
            "Mejores hiperparámetros: {'C': 100, 'penalty': 'l2'}\n",
            "Mejor score de precisión: 0.7933333333333333\n",
            "Precisión promedio con el mejor modelo: 0.7933333333333333\n"
          ]
        },
        {
          "output_type": "stream",
          "name": "stderr",
          "text": [
            "/usr/local/lib/python3.10/dist-packages/sklearn/model_selection/_validation.py:378: FitFailedWarning: \n",
            "60 fits failed out of a total of 120.\n",
            "The score on these train-test partitions for these parameters will be set to nan.\n",
            "If these failures are not expected, you can try to debug them by setting error_score='raise'.\n",
            "\n",
            "Below are more details about the failures:\n",
            "--------------------------------------------------------------------------------\n",
            "60 fits failed with the following error:\n",
            "Traceback (most recent call last):\n",
            "  File \"/usr/local/lib/python3.10/dist-packages/sklearn/model_selection/_validation.py\", line 686, in _fit_and_score\n",
            "    estimator.fit(X_train, y_train, **fit_params)\n",
            "  File \"/usr/local/lib/python3.10/dist-packages/sklearn/linear_model/_logistic.py\", line 1162, in fit\n",
            "    solver = _check_solver(self.solver, self.penalty, self.dual)\n",
            "  File \"/usr/local/lib/python3.10/dist-packages/sklearn/linear_model/_logistic.py\", line 54, in _check_solver\n",
            "    raise ValueError(\n",
            "ValueError: Solver lbfgs supports only 'l2' or 'none' penalties, got l1 penalty.\n",
            "\n",
            "  warnings.warn(some_fits_failed_message, FitFailedWarning)\n",
            "/usr/local/lib/python3.10/dist-packages/sklearn/model_selection/_search.py:952: UserWarning: One or more of the test scores are non-finite: [       nan 0.68666667        nan 0.74666667        nan 0.76333333\n",
            "        nan 0.78666667        nan 0.79              nan 0.79333333]\n",
            "  warnings.warn(\n"
          ]
        }
      ],
      "source": [
        "from sklearn.linear_model import LogisticRegression\n",
        "from sklearn.model_selection import GridSearchCV\n",
        "from sklearn.model_selection import cross_val_score\n",
        "import numpy as np\n",
        "\n",
        "# Definir el modelo base\n",
        "model_lr = LogisticRegression(max_iter=1000, random_state=42)\n",
        "\n",
        "# Definir el grid de hiperparámetros a probar\n",
        "param_grid_lr = {\n",
        "    'C': [0.001, 0.01, 0.1, 1, 10, 100],  # Parámetro de regularización\n",
        "    'penalty': ['l1', 'l2']  # Tipo de penalización\n",
        "}\n",
        "\n",
        "# Configurar GridSearchCV\n",
        "grid_search_lr = GridSearchCV(estimator=model_lr, param_grid=param_grid_lr, cv=10, n_jobs=-1, verbose=2, scoring='accuracy')\n",
        "\n",
        "# Ejecutar grid search\n",
        "grid_search_lr.fit(X_q1, Y_q1)\n",
        "\n",
        "# Mejores hiperparámetros encontrados\n",
        "print(\"Mejores hiperparámetros:\", grid_search_lr.best_params_)\n",
        "\n",
        "# Mejor score encontrado\n",
        "print(\"Mejor score de precisión:\", grid_search_lr.best_score_)\n",
        "\n",
        "# Configurar el modelo con los mejores hiperparámetros\n",
        "best_model_lr = grid_search_lr.best_estimator_\n",
        "\n",
        "# Realizar validación cruzada con el modelo final para confirmar los resultados\n",
        "scores_lr = cross_val_score(best_model_lr, X_q1, Y_q1, cv=10, scoring='accuracy')\n",
        "print(f'Precisión promedio con el mejor modelo: {np.mean(scores_lr)}')\n"
      ]
    },
    {
      "cell_type": "markdown",
      "metadata": {
        "id": "jlxXBfI3BbQo"
      },
      "source": [
        "Se puede observar como escogiendo los mejores hiperparámetros el modelo aumenta un 2% (mejora notable), aunque sigue siendo baja respecta a otros modelos clásicos"
      ]
    },
    {
      "cell_type": "markdown",
      "source": [
        "### CC SVM MEJORADO"
      ],
      "metadata": {
        "id": "1MYMdn6UCELm"
      }
    },
    {
      "cell_type": "code",
      "source": [
        "from sklearn.model_selection import GridSearchCV\n",
        "from sklearn.svm import SVC\n",
        "from sklearn.metrics import accuracy_score\n",
        "\n",
        "# Define los parámetros que deseas optimizar\n",
        "parametros = {'C': [0.1, 1, 1.5, 10, 100], 'gamma': [0.001, 0.01, 0.1, 1, 1.5, 2], 'kernel': ['linear', 'rbf', 'sigmoid', 'poly']}\n",
        "\n",
        "# Inicializa el clasificador SVM con probability=True\n",
        "svm = SVC(probability=True)\n",
        "\n",
        "# Inicializa la búsqueda de cuadrícula\n",
        "grid_search = GridSearchCV(svm, parametros, cv=5)\n",
        "\n",
        "# Realiza la búsqueda de cuadrícula para encontrar los mejores parámetros\n",
        "grid_search.fit(X_q1, Y_q1)\n",
        "\n",
        "# Muestra los mejores parámetros encontrados\n",
        "print(\"Mejores parámetros:\", grid_search.best_params_)\n",
        "\n",
        "# Utiliza los mejores parámetros para el SVM\n",
        "svm_optimo = SVC(**grid_search.best_params_, probability=True)\n",
        "\n",
        "# Entrena el modelo SVM con los mejores parámetros encontrados\n",
        "svm_optimo.fit(X_q1, Y_q1)\n",
        "\n",
        "# Obtener las predicciones en el conjunto de prueba\n",
        "predicciones = svm_optimo.predict(X_test_q1)\n",
        "\n",
        "# Calcular y mostrar la precisión del modelo con los mejores parámetros\n",
        "precision = accuracy_score(Y_test_q1, predicciones)\n",
        "print(\"Precisión del mejor modelo SVM:\", precision)\n",
        "\n",
        "# Realizar validación cruzada con el modelo final para confirmar los resultados\n",
        "scores_sv = cross_val_score(svm_optimo, X_q1, Y_q1, cv=10, scoring='accuracy')\n",
        "print(f'Precisión promedio con el mejor modelo SVM: {np.mean(scores_sv)}')"
      ],
      "metadata": {
        "colab": {
          "base_uri": "https://localhost:8080/"
        },
        "id": "eZvgGnpqDwhR",
        "outputId": "02b778f4-61e6-4eea-eef0-aae95fdc1dbd"
      },
      "execution_count": 31,
      "outputs": [
        {
          "output_type": "stream",
          "name": "stdout",
          "text": [
            "Mejores parámetros: {'C': 1, 'gamma': 1, 'kernel': 'rbf'}\n",
            "Precisión del mejor modelo SVM: 0.9\n",
            "Precisión promedio con el mejor modelo SVM: 0.7733333333333332\n"
          ]
        }
      ]
    },
    {
      "cell_type": "markdown",
      "source": [
        "### CURVA ROC DISTINTOS MODELOS CLÁSICOS"
      ],
      "metadata": {
        "id": "NIfEhrh1D_Y5"
      }
    },
    {
      "cell_type": "code",
      "source": [
        "import numpy as np\n",
        "import matplotlib.pyplot as plt\n",
        "from sklearn.metrics import accuracy_score\n",
        "from sklearn.ensemble import AdaBoostClassifier\n",
        "from sklearn.linear_model import LogisticRegression\n",
        "from sklearn.svm import SVC\n",
        "from sklearn.model_selection import train_test_split\n",
        "from sklearn.datasets import make_classification\n",
        "\n",
        "# Crear un conjunto de datos de ejemplo (reemplazar con tu propio conjunto de datos)\n",
        "X, y = make_classification(n_samples=1000, n_features=20, random_state=42)\n",
        "X_q1, X_test_q1, Y_q1, Y_test_q1 = train_test_split(X, y, test_size=0.3, random_state=42)\n",
        "\n",
        "# Tamaños de entrenamiento\n",
        "train_sizes = [20, 50, 80, 120, 150, 180, 200, 230]\n",
        "\n",
        "# Listas para almacenar las precisiones\n",
        "accuracies_ada = []\n",
        "accuracies_lr = []\n",
        "accuracies_svm = []\n",
        "\n",
        "# Mejores hiperparámetros previamente encontrados\n",
        "best_params_lr = {'C': 10, 'penalty': 'l2', 'max_iter': 1000, 'random_state': 42}\n",
        "best_params_svm = {'C': 1, 'gamma': 0.01, 'kernel': 'rbf', 'probability': True, 'random_state': 42}\n",
        "\n",
        "for size in train_sizes:\n",
        "    # Subconjunto de entrenamiento\n",
        "    idx = np.random.choice(range(len(X_q1)), size, replace=False)\n",
        "    X_subset, Y_subset = X_q1[idx], Y_q1[idx]\n",
        "\n",
        "    # Entrenar AdaBoost\n",
        "    clf_ada = AdaBoostClassifier(n_estimators=100, random_state=42)\n",
        "    clf_ada.fit(X_subset, Y_subset)\n",
        "    Y_pred_ada = clf_ada.predict(X_test_q1)\n",
        "    accuracies_ada.append(accuracy_score(Y_test_q1, Y_pred_ada))\n",
        "\n",
        "    # Entrenar Logistic Regression con mejores hiperparámetros\n",
        "    clf_lr = LogisticRegression(**best_params_lr)\n",
        "    clf_lr.fit(X_subset, Y_subset)\n",
        "    Y_pred_lr = clf_lr.predict(X_test_q1)\n",
        "    accuracies_lr.append(accuracy_score(Y_test_q1, Y_pred_lr))\n",
        "\n",
        "    # Entrenar SVM con mejores hiperparámetros\n",
        "    clf_svm = SVC(**best_params_svm)\n",
        "    clf_svm.fit(X_subset, Y_subset)\n",
        "    Y_pred_svm = clf_svm.predict(X_test_q1)\n",
        "    accuracies_svm.append(accuracy_score(Y_test_q1, Y_pred_svm))\n",
        "\n",
        "# Plotear las precisiones\n",
        "plt.figure(figsize=(10, 6))\n",
        "plt.plot(train_sizes, accuracies_ada, label='AdaBoost', marker='o')\n",
        "plt.plot(train_sizes, accuracies_lr, label='Logistic Regression', marker='o')\n",
        "plt.plot(train_sizes, accuracies_svm, label='SVM', marker='o')\n",
        "plt.xlabel('Tamaño del conjunto de entrenamiento')\n",
        "plt.ylabel('Precisión')\n",
        "plt.title('Precisión de los modelos vs Tamaño del conjunto de entrenamiento')\n",
        "plt.legend()\n",
        "plt.grid(True)\n",
        "plt.show()\n"
      ],
      "metadata": {
        "colab": {
          "base_uri": "https://localhost:8080/",
          "height": 541
        },
        "id": "DbgsWSeLGjMx",
        "outputId": "e3720463-800d-431c-d583-3c29edc4d82f"
      },
      "execution_count": null,
      "outputs": [
        {
          "output_type": "display_data",
          "data": {
            "text/plain": [
              "<Figure size 1000x600 with 1 Axes>"
            ],
            "image/png": "[encoded data removed]"
          },
          "metadata": {}
        }
      ]
    },
    {
      "cell_type": "code",
      "source": [
        "import numpy as np\n",
        "import matplotlib.pyplot as plt\n",
        "from sklearn.metrics import roc_curve, auc\n",
        "from sklearn.ensemble import AdaBoostClassifier\n",
        "from sklearn.linear_model import LogisticRegression\n",
        "from sklearn.svm import SVC\n",
        "from sklearn.model_selection import train_test_split\n",
        "from sklearn.datasets import make_classification\n",
        "\n",
        "# Crear un conjunto de datos de ejemplo (reemplazar con tu propio conjunto de datos)\n",
        "X, y = make_classification(n_samples=1000, n_features=20, random_state=42)\n",
        "X_q1, X_test_q1, Y_q1, Y_test_q1 = train_test_split(X, y, test_size=0.3, random_state=42)\n",
        "\n",
        "# Modelo 1: AdaBoostClassifier\n",
        "clf7 = AdaBoostClassifier(n_estimators=100, random_state=42)\n",
        "clf7.fit(X_q1, Y_q1)\n",
        "probas_ada = clf7.predict_proba(X_test_q1)[:, 1]\n",
        "\n",
        "# Modelo 2: Logistic Regression con mejores hiperparámetros\n",
        "best_model_lr = LogisticRegression(C=10, penalty='l2', max_iter=1000, random_state=42)  # Reemplaza con tus mejores hiperparámetros\n",
        "best_model_lr.fit(X_q1, Y_q1)\n",
        "probas_lr = best_model_lr.predict_proba(X_test_q1)[:, 1]\n",
        "\n",
        "# Modelo 3: SVC con mejores hiperparámetros\n",
        "svm_optimo = SVC(C=1, gamma=0.01, kernel='rbf', probability=True, random_state=42)  # Reemplaza con tus mejores hiperparámetros\n",
        "svm_optimo.fit(X_q1, Y_q1)\n",
        "probas_svm = svm_optimo.predict_proba(X_test_q1)[:, 1]\n",
        "\n",
        "# Calcular las curvas ROC y AUC\n",
        "fpr_ada, tpr_ada, _ = roc_curve(Y_test_q1, probas_ada)\n",
        "roc_auc_ada = auc(fpr_ada, tpr_ada)\n",
        "\n",
        "fpr_lr, tpr_lr, _ = roc_curve(Y_test_q1, probas_lr)\n",
        "roc_auc_lr = auc(fpr_lr, tpr_lr)\n",
        "\n",
        "fpr_svm, tpr_svm, _ = roc_curve(Y_test_q1, probas_svm)\n",
        "roc_auc_svm = auc(fpr_svm, tpr_svm)\n",
        "\n",
        "# Plotear las curvas\n",
        "plt.figure()\n",
        "plt.plot(fpr_ada, tpr_ada, color='blue', lw=2, label=f'AdaBoost (AUC = {roc_auc_ada:.2f})')\n",
        "plt.plot(fpr_lr, tpr_lr, color='red', lw=2, label=f'Logistic Regression (AUC = {roc_auc_lr:.2f})')\n",
        "plt.plot(fpr_svm, tpr_svm, color='green', lw=2, label=f'SVM (AUC = {roc_auc_svm:.2f})')\n",
        "plt.plot([0, 1], [0, 1], color='navy', lw=2, linestyle='--')\n",
        "plt.xlim([0.0, 1.0])\n",
        "plt.ylim([0.0, 1.05])\n",
        "plt.xlabel('False Positive Rate')\n",
        "plt.ylabel('True Positive Rate')\n",
        "plt.title('Receiver Operating Characteristic (ROC) Curve')\n",
        "plt.legend(loc=\"lower right\")\n",
        "plt.show()\n",
        "\n",
        "# Imprimir las precisiones de los modelos\n",
        "precision_ada = clf7.score(X_test_q1, Y_test_q1)\n",
        "precision_lr = best_model_lr.score(X_test_q1, Y_test_q1)\n",
        "precision_svm = svm_optimo.score(X_test_q1, Y_test_q1)\n",
        "\n",
        "print(f\"Precisión del modelo AdaBoost: {precision_ada}\")\n",
        "print(f\"Precisión del mejor modelo Logistic Regression: {precision_lr}\")\n",
        "print(f\"Precisión del mejor modelo SVM: {precision_svm}\")"
      ],
      "metadata": {
        "colab": {
          "base_uri": "https://localhost:8080/",
          "height": 527
        },
        "id": "9m5rGFE-GMS0",
        "outputId": "5629fa17-2ca4-428f-db7f-1a3b9e33c83d"
      },
      "execution_count": null,
      "outputs": [
        {
          "output_type": "display_data",
          "data": {
            "text/plain": [
              "<Figure size 640x480 with 1 Axes>"
            ],
            "image/png": "[encoded data removed]"
          },
          "metadata": {}
        },
        {
          "output_type": "stream",
          "name": "stdout",
          "text": [
            "Precisión del modelo AdaBoost: 0.82\n",
            "Precisión del mejor modelo Logistic Regression: 0.8466666666666667\n",
            "Precisión del mejor modelo SVM: 0.8466666666666667\n"
          ]
        }
      ]
    },
    {
      "cell_type": "code",
      "source": [
        "import numpy as np\n",
        "import matplotlib.pyplot as plt\n",
        "import seaborn as sns\n",
        "from sklearn.metrics import confusion_matrix\n",
        "from sklearn.ensemble import AdaBoostClassifier\n",
        "from sklearn.linear_model import LogisticRegression\n",
        "from sklearn.svm import SVC\n",
        "from sklearn.model_selection import train_test_split\n",
        "from sklearn.datasets import make_classification\n",
        "\n",
        "# Crear un conjunto de datos de ejemplo (reemplazar con tu propio conjunto de datos)\n",
        "X, y = make_classification(n_samples=1000, n_features=20, random_state=42)\n",
        "X_q1, X_test_q1, Y_q1, Y_test_q1 = train_test_split(X, y, test_size=0.3, random_state=42)\n",
        "\n",
        "# Tamaño del conjunto de entrenamiento\n",
        "size = 300\n",
        "\n",
        "# Subconjunto de entrenamiento\n",
        "idx = np.random.choice(range(len(X_q1)), size, replace=False)\n",
        "X_subset, Y_subset = X_q1[idx], Y_q1[idx]\n",
        "\n",
        "# Mejores hiperparámetros previamente encontrados\n",
        "best_params_lr = {'C': 10, 'penalty': 'l2', 'max_iter': 1000, 'random_state': 42}\n",
        "best_params_svm = {'C': 1, 'gamma': 0.01, 'kernel': 'rbf', 'probability': True, 'random_state': 42}\n",
        "\n",
        "# Entrenar AdaBoost\n",
        "clf_ada = AdaBoostClassifier(n_estimators=100, random_state=42)\n",
        "clf_ada.fit(X_subset, Y_subset)\n",
        "Y_pred_ada = clf_ada.predict(X_test_q1)\n",
        "\n",
        "# Entrenar Logistic Regression con mejores hiperparámetros\n",
        "clf_lr = LogisticRegression(**best_params_lr)\n",
        "clf_lr.fit(X_subset, Y_subset)\n",
        "Y_pred_lr = clf_lr.predict(X_test_q1)\n",
        "\n",
        "# Entrenar SVM con mejores hiperparámetros\n",
        "clf_svm = SVC(**best_params_svm)\n",
        "clf_svm.fit(X_subset, Y_subset)\n",
        "Y_pred_svm = clf_svm.predict(X_test_q1)\n",
        "\n",
        "# Obtener matrices de confusión de los modelos\n",
        "conf_matrix_ada = confusion_matrix(Y_test_q1, Y_pred_ada)\n",
        "conf_matrix_lr = confusion_matrix(Y_test_q1, Y_pred_lr)\n",
        "conf_matrix_svm = confusion_matrix(Y_test_q1, Y_pred_svm)\n",
        "\n",
        "# Plotear matrices de confusión usando Seaborn\n",
        "plt.figure(figsize=(15, 5))\n",
        "\n",
        "plt.subplot(1, 3, 1)\n",
        "sns.heatmap(conf_matrix_ada, annot=True, fmt='d', cmap='Blues', cbar=False)\n",
        "plt.title('Matriz de confusión de AdaBoost')\n",
        "\n",
        "plt.subplot(1, 3, 2)\n",
        "sns.heatmap(conf_matrix_lr, annot=True, fmt='d', cmap='Blues', cbar=False)\n",
        "plt.title('Matriz de confusión de Logistic Regression')\n",
        "\n",
        "plt.subplot(1, 3, 3)\n",
        "sns.heatmap(conf_matrix_svm, annot=True, fmt='d', cmap='Blues', cbar=False)\n",
        "plt.title('Matriz de confusión de SVM')\n",
        "\n",
        "plt.tight_layout()\n",
        "plt.show()\n"
      ],
      "metadata": {
        "colab": {
          "base_uri": "https://localhost:8080/",
          "height": 286
        },
        "id": "2n9OshBEkSv5",
        "outputId": "4ea83c7c-a671-4038-f071-4380182ca5ab"
      },
      "execution_count": null,
      "outputs": [
        {
          "output_type": "display_data",
          "data": {
            "text/plain": [
              "<Figure size 1500x500 with 3 Axes>"
            ],
            "image/png": "[encoded data removed]"
          },
          "metadata": {}
        }
      ]
    },
    {
      "cell_type": "markdown",
      "metadata": {
        "id": "NDgFgNoM80-F"
      },
      "source": [
        "# MODELO CUÁNTICO"
      ]
    },
    {
      "cell_type": "markdown",
      "source": [
        "### QSVM"
      ],
      "metadata": {
        "id": "dNCH52R0Yp27"
      }
    },
    {
      "cell_type": "code",
      "source": [
        "!pip install qiskit\n",
        "!pip install qiskit_machine_learning\n",
        "!pip install qiskit_algorithms"
      ],
      "metadata": {
        "colab": {
          "base_uri": "https://localhost:8080/"
        },
        "id": "il8GtbTefrf7",
        "outputId": "4dde50d0-0dd6-4a81-ec8a-d8f1d3bc4bc5"
      },
      "execution_count": null,
      "outputs": [
        {
          "output_type": "stream",
          "name": "stdout",
          "text": [
            "Collecting qiskit\n",
            "  Downloading qiskit-1.1.0-cp38-abi3-manylinux_2_17_x86_64.manylinux2014_x86_64.whl (4.3 MB)\n",
            "\u001b[2K     \u001b[90m━━━━━━━━━━━━━━━━━━━━━━━━━━━━━━━━━━━━━━━━\u001b[0m \u001b[32m4.3/4.3 MB\u001b[0m \u001b[31m13.8 MB/s\u001b[0m eta \u001b[36m0:00:00\u001b[0m\n",
            "\u001b[?25hCollecting rustworkx>=0.14.0 (from qiskit)\n",
            "  Downloading rustworkx-0.14.2-cp310-cp310-manylinux_2_17_x86_64.manylinux2014_x86_64.whl (2.1 MB)\n",
            "\u001b[2K     \u001b[90m━━━━━━━━━━━━━━━━━━━━━━━━━━━━━━━━━━━━━━━━\u001b[0m \u001b[32m2.1/2.1 MB\u001b[0m \u001b[31m72.6 MB/s\u001b[0m eta \u001b[36m0:00:00\u001b[0m\n",
            "\u001b[?25hRequirement already satisfied: numpy<3,>=1.17 in /usr/local/lib/python3.10/dist-packages (from qiskit) (1.25.2)\n",
            "Requirement already satisfied: scipy>=1.5 in /usr/local/lib/python3.10/dist-packages (from qiskit) (1.11.4)\n",
            "Requirement already satisfied: sympy>=1.3 in /usr/local/lib/python3.10/dist-packages (from qiskit) (1.12)\n",
            "Collecting dill>=0.3 (from qiskit)\n",
            "  Downloading dill-0.3.8-py3-none-any.whl (116 kB)\n",
            "\u001b[2K     \u001b[90m━━━━━━━━━━━━━━━━━━━━━━━━━━━━━━━━━━━━━━━━\u001b[0m \u001b[32m116.3/116.3 kB\u001b[0m \u001b[31m13.7 MB/s\u001b[0m eta \u001b[36m0:00:00\u001b[0m\n",
            "\u001b[?25hRequirement already satisfied: python-dateutil>=2.8.0 in /usr/local/lib/python3.10/dist-packages (from qiskit) (2.8.2)\n",
            "Collecting stevedore>=3.0.0 (from qiskit)\n",
            "  Downloading stevedore-5.2.0-py3-none-any.whl (49 kB)\n",
            "\u001b[2K     \u001b[90m━━━━━━━━━━━━━━━━━━━━━━━━━━━━━━━━━━━━━━━━\u001b[0m \u001b[32m49.7/49.7 kB\u001b[0m \u001b[31m5.5 MB/s\u001b[0m eta \u001b[36m0:00:00\u001b[0m\n",
            "\u001b[?25hRequirement already satisfied: typing-extensions in /usr/local/lib/python3.10/dist-packages (from qiskit) (4.11.0)\n",
            "Collecting symengine>=0.11 (from qiskit)\n",
            "  Downloading symengine-0.11.0-cp310-cp310-manylinux_2_12_x86_64.manylinux2010_x86_64.whl (39.4 MB)\n",
            "\u001b[2K     \u001b[90m━━━━━━━━━━━━━━━━━━━━━━━━━━━━━━━━━━━━━━━━\u001b[0m \u001b[32m39.4/39.4 MB\u001b[0m \u001b[31m15.4 MB/s\u001b[0m eta \u001b[36m0:00:00\u001b[0m\n",
            "\u001b[?25hRequirement already satisfied: six>=1.5 in /usr/local/lib/python3.10/dist-packages (from python-dateutil>=2.8.0->qiskit) (1.16.0)\n",
            "Collecting pbr!=2.1.0,>=2.0.0 (from stevedore>=3.0.0->qiskit)\n",
            "  Downloading pbr-6.0.0-py2.py3-none-any.whl (107 kB)\n",
            "\u001b[2K     \u001b[90m━━━━━━━━━━━━━━━━━━━━━━━━━━━━━━━━━━━━━━━━\u001b[0m \u001b[32m107.5/107.5 kB\u001b[0m \u001b[31m12.3 MB/s\u001b[0m eta \u001b[36m0:00:00\u001b[0m\n",
            "\u001b[?25hRequirement already satisfied: mpmath>=0.19 in /usr/local/lib/python3.10/dist-packages (from sympy>=1.3->qiskit) (1.3.0)\n",
            "Installing collected packages: symengine, rustworkx, pbr, dill, stevedore, qiskit\n",
            "Successfully installed dill-0.3.8 pbr-6.0.0 qiskit-1.1.0 rustworkx-0.14.2 stevedore-5.2.0 symengine-0.11.0\n",
            "Collecting qiskit_machine_learning\n",
            "  Downloading qiskit_machine_learning-0.7.2-py3-none-any.whl (97 kB)\n",
            "\u001b[2K     \u001b[90m━━━━━━━━━━━━━━━━━━━━━━━━━━━━━━━━━━━━━━━━\u001b[0m \u001b[32m97.8/97.8 kB\u001b[0m \u001b[31m1.1 MB/s\u001b[0m eta \u001b[36m0:00:00\u001b[0m\n",
            "\u001b[?25hRequirement already satisfied: qiskit>=0.44 in /usr/local/lib/python3.10/dist-packages (from qiskit_machine_learning) (1.1.0)\n",
            "Collecting qiskit-algorithms>=0.2.0 (from qiskit_machine_learning)\n",
            "  Downloading qiskit_algorithms-0.3.0-py3-none-any.whl (308 kB)\n",
            "\u001b[2K     \u001b[90m━━━━━━━━━━━━━━━━━━━━━━━━━━━━━━━━━━━━━━━━\u001b[0m \u001b[32m308.6/308.6 kB\u001b[0m \u001b[31m5.3 MB/s\u001b[0m eta \u001b[36m0:00:00\u001b[0m\n",
            "\u001b[?25hRequirement already satisfied: scipy>=1.4 in /usr/local/lib/python3.10/dist-packages (from qiskit_machine_learning) (1.11.4)\n",
            "Requirement already satisfied: numpy>=1.17 in /usr/local/lib/python3.10/dist-packages (from qiskit_machine_learning) (1.25.2)\n",
            "Requirement already satisfied: psutil>=5 in /usr/local/lib/python3.10/dist-packages (from qiskit_machine_learning) (5.9.5)\n",
            "Requirement already satisfied: scikit-learn>=1.2.0 in /usr/local/lib/python3.10/dist-packages (from qiskit_machine_learning) (1.2.2)\n",
            "Collecting fastdtw (from qiskit_machine_learning)\n",
            "  Downloading fastdtw-0.3.4.tar.gz (133 kB)\n",
            "\u001b[2K     \u001b[90m━━━━━━━━━━━━━━━━━━━━━━━━━━━━━━━━━━━━━━━━\u001b[0m \u001b[32m133.4/133.4 kB\u001b[0m \u001b[31m13.2 MB/s\u001b[0m eta \u001b[36m0:00:00\u001b[0m\n",
            "\u001b[?25h  Preparing metadata (setup.py) ... \u001b[?25l\u001b[?25hdone\n",
            "Requirement already satisfied: setuptools>=40.1.0 in /usr/local/lib/python3.10/dist-packages (from qiskit_machine_learning) (67.7.2)\n",
            "Requirement already satisfied: dill>=0.3.4 in /usr/local/lib/python3.10/dist-packages (from qiskit_machine_learning) (0.3.8)\n",
            "Requirement already satisfied: rustworkx>=0.14.0 in /usr/local/lib/python3.10/dist-packages (from qiskit>=0.44->qiskit_machine_learning) (0.14.2)\n",
            "Requirement already satisfied: sympy>=1.3 in /usr/local/lib/python3.10/dist-packages (from qiskit>=0.44->qiskit_machine_learning) (1.12)\n",
            "Requirement already satisfied: python-dateutil>=2.8.0 in /usr/local/lib/python3.10/dist-packages (from qiskit>=0.44->qiskit_machine_learning) (2.8.2)\n",
            "Requirement already satisfied: stevedore>=3.0.0 in /usr/local/lib/python3.10/dist-packages (from qiskit>=0.44->qiskit_machine_learning) (5.2.0)\n",
            "Requirement already satisfied: typing-extensions in /usr/local/lib/python3.10/dist-packages (from qiskit>=0.44->qiskit_machine_learning) (4.11.0)\n",
            "Requirement already satisfied: symengine>=0.11 in /usr/local/lib/python3.10/dist-packages (from qiskit>=0.44->qiskit_machine_learning) (0.11.0)\n",
            "Requirement already satisfied: joblib>=1.1.1 in /usr/local/lib/python3.10/dist-packages (from scikit-learn>=1.2.0->qiskit_machine_learning) (1.4.2)\n",
            "Requirement already satisfied: threadpoolctl>=2.0.0 in /usr/local/lib/python3.10/dist-packages (from scikit-learn>=1.2.0->qiskit_machine_learning) (3.5.0)\n",
            "Requirement already satisfied: six>=1.5 in /usr/local/lib/python3.10/dist-packages (from python-dateutil>=2.8.0->qiskit>=0.44->qiskit_machine_learning) (1.16.0)\n",
            "Requirement already satisfied: pbr!=2.1.0,>=2.0.0 in /usr/local/lib/python3.10/dist-packages (from stevedore>=3.0.0->qiskit>=0.44->qiskit_machine_learning) (6.0.0)\n",
            "Requirement already satisfied: mpmath>=0.19 in /usr/local/lib/python3.10/dist-packages (from sympy>=1.3->qiskit>=0.44->qiskit_machine_learning) (1.3.0)\n",
            "Building wheels for collected packages: fastdtw\n",
            "  Building wheel for fastdtw (setup.py) ... \u001b[?25l\u001b[?25hdone\n",
            "  Created wheel for fastdtw: filename=fastdtw-0.3.4-cp310-cp310-linux_x86_64.whl size=512614 sha256=da0f5420ac919ada14784894fdc5a0f50cd8d5a02aef246a3189ce0ee9cf862d\n",
            "  Stored in directory: /root/.cache/pip/wheels/73/c8/f7/c25448dab74c3acf4848bc25d513c736bb93910277e1528ef4\n",
            "Successfully built fastdtw\n",
            "Installing collected packages: fastdtw, qiskit-algorithms, qiskit_machine_learning\n",
            "Successfully installed fastdtw-0.3.4 qiskit-algorithms-0.3.0 qiskit_machine_learning-0.7.2\n",
            "Requirement already satisfied: qiskit_algorithms in /usr/local/lib/python3.10/dist-packages (0.3.0)\n",
            "Requirement already satisfied: qiskit>=0.44 in /usr/local/lib/python3.10/dist-packages (from qiskit_algorithms) (1.1.0)\n",
            "Requirement already satisfied: scipy>=1.4 in /usr/local/lib/python3.10/dist-packages (from qiskit_algorithms) (1.11.4)\n",
            "Requirement already satisfied: numpy>=1.17 in /usr/local/lib/python3.10/dist-packages (from qiskit_algorithms) (1.25.2)\n",
            "Requirement already satisfied: rustworkx>=0.14.0 in /usr/local/lib/python3.10/dist-packages (from qiskit>=0.44->qiskit_algorithms) (0.14.2)\n",
            "Requirement already satisfied: sympy>=1.3 in /usr/local/lib/python3.10/dist-packages (from qiskit>=0.44->qiskit_algorithms) (1.12)\n",
            "Requirement already satisfied: dill>=0.3 in /usr/local/lib/python3.10/dist-packages (from qiskit>=0.44->qiskit_algorithms) (0.3.8)\n",
            "Requirement already satisfied: python-dateutil>=2.8.0 in /usr/local/lib/python3.10/dist-packages (from qiskit>=0.44->qiskit_algorithms) (2.8.2)\n",
            "Requirement already satisfied: stevedore>=3.0.0 in /usr/local/lib/python3.10/dist-packages (from qiskit>=0.44->qiskit_algorithms) (5.2.0)\n",
            "Requirement already satisfied: typing-extensions in /usr/local/lib/python3.10/dist-packages (from qiskit>=0.44->qiskit_algorithms) (4.11.0)\n",
            "Requirement already satisfied: symengine>=0.11 in /usr/local/lib/python3.10/dist-packages (from qiskit>=0.44->qiskit_algorithms) (0.11.0)\n",
            "Requirement already satisfied: six>=1.5 in /usr/local/lib/python3.10/dist-packages (from python-dateutil>=2.8.0->qiskit>=0.44->qiskit_algorithms) (1.16.0)\n",
            "Requirement already satisfied: pbr!=2.1.0,>=2.0.0 in /usr/local/lib/python3.10/dist-packages (from stevedore>=3.0.0->qiskit>=0.44->qiskit_algorithms) (6.0.0)\n",
            "Requirement already satisfied: mpmath>=0.19 in /usr/local/lib/python3.10/dist-packages (from sympy>=1.3->qiskit>=0.44->qiskit_algorithms) (1.3.0)\n"
          ]
        }
      ]
    },
    {
      "cell_type": "code",
      "source": [
        "from qiskit.circuit.library import ZZFeatureMap\n",
        "from qiskit.primitives import Sampler\n",
        "from qiskit_algorithms.state_fidelities import ComputeUncompute\n",
        "from qiskit_machine_learning.kernels import FidelityQuantumKernel\n",
        "\n",
        "feature_map = ZZFeatureMap(feature_dimension=15, reps=1, entanglement=\"linear\")\n",
        "\n",
        "sampler = Sampler()\n",
        "\n",
        "fidelity = ComputeUncompute(sampler=sampler)\n",
        "\n",
        "kernel = FidelityQuantumKernel(fidelity=fidelity, feature_map=feature_map)"
      ],
      "metadata": {
        "id": "YM4ALnqZYsHR"
      },
      "execution_count": null,
      "outputs": []
    },
    {
      "cell_type": "code",
      "source": [
        "# Crear un modelo SVM con el kernel cuántico\n",
        "svm = SVC(kernel=kernel.evaluate)\n",
        "svm.fit(x_train,y_train)"
      ],
      "metadata": {
        "colab": {
          "base_uri": "https://localhost:8080/",
          "height": 94
        },
        "id": "O33uy-lcYsIS",
        "outputId": "16c818b8-36b1-467b-a2db-294c3dd3a787"
      },
      "execution_count": null,
      "outputs": [
        {
          "output_type": "execute_result",
          "data": {
            "text/plain": [
              "SVC(kernel=<bound method FidelityQuantumKernel.evaluate of <qiskit_machine_learning.kernels.fidelity_quantum_kernel.FidelityQuantumKernel object at 0x7d26dc372b60>>)"
            ],
            "text/html": [
              "<style>#sk-container-id-1 {color: black;background-color: white;}#sk-container-id-1 pre{padding: 0;}#sk-container-id-1 div.sk-toggleable {background-color: white;}#sk-container-id-1 label.sk-toggleable__label {cursor: pointer;display: block;width: 100%;margin-bottom: 0;padding: 0.3em;box-sizing: border-box;text-align: center;}#sk-container-id-1 label.sk-toggleable__label-arrow:before {content: \"▸\";float: left;margin-right: 0.25em;color: #696969;}#sk-container-id-1 label.sk-toggleable__label-arrow:hover:before {color: black;}#sk-container-id-1 div.sk-estimator:hover label.sk-toggleable__label-arrow:before {color: black;}#sk-container-id-1 div.sk-toggleable__content {max-height: 0;max-width: 0;overflow: hidden;text-align: left;background-color: #f0f8ff;}#sk-container-id-1 div.sk-toggleable__content pre {margin: 0.2em;color: black;border-radius: 0.25em;background-color: #f0f8ff;}#sk-container-id-1 input.sk-toggleable__control:checked~div.sk-toggleable__content {max-height: 200px;max-width: 100%;overflow: auto;}#sk-container-id-1 input.sk-toggleable__control:checked~label.sk-toggleable__label-arrow:before {content: \"▾\";}#sk-container-id-1 div.sk-estimator input.sk-toggleable__control:checked~label.sk-toggleable__label {background-color: #d4ebff;}#sk-container-id-1 div.sk-label input.sk-toggleable__control:checked~label.sk-toggleable__label {background-color: #d4ebff;}#sk-container-id-1 input.sk-hidden--visually {border: 0;clip: rect(1px 1px 1px 1px);clip: rect(1px, 1px, 1px, 1px);height: 1px;margin: -1px;overflow: hidden;padding: 0;position: absolute;width: 1px;}#sk-container-id-1 div.sk-estimator {font-family: monospace;background-color: #f0f8ff;border: 1px dotted black;border-radius: 0.25em;box-sizing: border-box;margin-bottom: 0.5em;}#sk-container-id-1 div.sk-estimator:hover {background-color: #d4ebff;}#sk-container-id-1 div.sk-parallel-item::after {content: \"\";width: 100%;border-bottom: 1px solid gray;flex-grow: 1;}#sk-container-id-1 div.sk-label:hover label.sk-toggleable__label {background-color: #d4ebff;}#sk-container-id-1 div.sk-serial::before {content: \"\";position: absolute;border-left: 1px solid gray;box-sizing: border-box;top: 0;bottom: 0;left: 50%;z-index: 0;}#sk-container-id-1 div.sk-serial {display: flex;flex-direction: column;align-items: center;background-color: white;padding-right: 0.2em;padding-left: 0.2em;position: relative;}#sk-container-id-1 div.sk-item {position: relative;z-index: 1;}#sk-container-id-1 div.sk-parallel {display: flex;align-items: stretch;justify-content: center;background-color: white;position: relative;}#sk-container-id-1 div.sk-item::before, #sk-container-id-1 div.sk-parallel-item::before {content: \"\";position: absolute;border-left: 1px solid gray;box-sizing: border-box;top: 0;bottom: 0;left: 50%;z-index: -1;}#sk-container-id-1 div.sk-parallel-item {display: flex;flex-direction: column;z-index: 1;position: relative;background-color: white;}#sk-container-id-1 div.sk-parallel-item:first-child::after {align-self: flex-end;width: 50%;}#sk-container-id-1 div.sk-parallel-item:last-child::after {align-self: flex-start;width: 50%;}#sk-container-id-1 div.sk-parallel-item:only-child::after {width: 0;}#sk-container-id-1 div.sk-dashed-wrapped {border: 1px dashed gray;margin: 0 0.4em 0.5em 0.4em;box-sizing: border-box;padding-bottom: 0.4em;background-color: white;}#sk-container-id-1 div.sk-label label {font-family: monospace;font-weight: bold;display: inline-block;line-height: 1.2em;}#sk-container-id-1 div.sk-label-container {text-align: center;}#sk-container-id-1 div.sk-container {/* jupyter's `normalize.less` sets `[hidden] { display: none; }` but bootstrap.min.css set `[hidden] { display: none !important; }` so we also need the `!important` here to be able to override the default hidden behavior on the sphinx rendered scikit-learn.org. See: https://github.com/scikit-learn/scikit-learn/issues/21755 */display: inline-block !important;position: relative;}#sk-container-id-1 div.sk-text-repr-fallback {display: none;}</style><div id=\"sk-container-id-1\" class=\"sk-top-container\"><div class=\"sk-text-repr-fallback\"><pre>SVC(kernel=&lt;bound method FidelityQuantumKernel.evaluate of &lt;qiskit_machine_learning.kernels.fidelity_quantum_kernel.FidelityQuantumKernel object at 0x7d26dc372b60&gt;&gt;)</pre><b>In a Jupyter environment, please rerun this cell to show the HTML representation or trust the notebook. <br />On GitHub, the HTML representation is unable to render, please try loading this page with nbviewer.org.</b></div><div class=\"sk-container\" hidden><div class=\"sk-item\"><div class=\"sk-estimator sk-toggleable\"><input class=\"sk-toggleable__control sk-hidden--visually\" id=\"sk-estimator-id-1\" type=\"checkbox\" checked><label for=\"sk-estimator-id-1\" class=\"sk-toggleable__label sk-toggleable__label-arrow\">SVC</label><div class=\"sk-toggleable__content\"><pre>SVC(kernel=&lt;bound method FidelityQuantumKernel.evaluate of &lt;qiskit_machine_learning.kernels.fidelity_quantum_kernel.FidelityQuantumKernel object at 0x7d26dc372b60&gt;&gt;)</pre></div></div></div></div></div>"
            ]
          },
          "metadata": {},
          "execution_count": 26
        }
      ]
    },
    {
      "cell_type": "code",
      "source": [
        "predict_clf_cuantico=svm.predict(x_test)\n",
        "accuracy_clc_cuantico=accuracy_score(y_test, predict_clf_cuantico)\n",
        "print(f'Accuracy: {accuracy_clc_cuantico}')"
      ],
      "metadata": {
        "colab": {
          "base_uri": "https://localhost:8080/"
        },
        "id": "nOyBGFw2YsJ3",
        "outputId": "5584b1cd-d4bb-43bb-a696-0838ba2552ce"
      },
      "execution_count": null,
      "outputs": [
        {
          "output_type": "stream",
          "name": "stdout",
          "text": [
            "Accuracy: 0.7333333333333333\n"
          ]
        }
      ]
    },
    {
      "cell_type": "code",
      "source": [
        "matrix_train = kernel.evaluate(x_vec=x_train)\n",
        "matrix_test = kernel.evaluate(x_vec=x_test, y_vec=x_train)\n",
        "\n",
        "fig, axs = plt.subplots(1, 2, figsize=(10, 5))\n",
        "\n",
        "axs[0].imshow(np.asmatrix(matrix_train), interpolation=\"nearest\", origin=\"upper\", cmap=\"Blues\")\n",
        "axs[0].set_title(\"Training kernel matrix\")\n",
        "\n",
        "axs[1].imshow(np.asmatrix(matrix_test), interpolation=\"nearest\", origin=\"upper\", cmap=\"Reds\")\n",
        "axs[1].set_title(\"Testing kernel matrix\")\n",
        "\n",
        "plt.show()"
      ],
      "metadata": {
        "colab": {
          "base_uri": "https://localhost:8080/",
          "height": 428
        },
        "id": "FJqKIhj9YsMz",
        "outputId": "3e2aff96-2f0b-444c-bd5d-4d878522cd80"
      },
      "execution_count": null,
      "outputs": [
        {
          "output_type": "display_data",
          "data": {
            "text/plain": [
              "<Figure size 1000x500 with 2 Axes>"
            ],
            "image/png": "[encoded data removed]"
          },
          "metadata": {}
        }
      ]
    },
    {
      "cell_type": "code",
      "source": [
        "print(feature_map.decompose())"
      ],
      "metadata": {
        "colab": {
          "base_uri": "https://localhost:8080/"
        },
        "id": "t1qsPbjJY79H",
        "outputId": "0143466f-cb22-4d6f-8fc1-d3fc4c0cba9e"
      },
      "execution_count": null,
      "outputs": [
        {
          "output_type": "stream",
          "name": "stdout",
          "text": [
            "      ┌───┐┌─────────────┐                                                »\n",
            " q_0: ┤ H ├┤ P(2.0*x[0]) ├───■────────────────────────────────────■───────»\n",
            "      ├───┤├─────────────┤ ┌─┴─┐┌──────────────────────────────┐┌─┴─┐     »\n",
            " q_1: ┤ H ├┤ P(2.0*x[1]) ├─┤ X ├┤ P(2.0*(π - x[0])*(π - x[1])) ├┤ X ├──■──»\n",
            "      ├───┤├─────────────┤ └───┘└──────────────────────────────┘└───┘┌─┴─┐»\n",
            " q_2: ┤ H ├┤ P(2.0*x[2]) ├───────────────────────────────────────────┤ X ├»\n",
            "      ├───┤├─────────────┤                                           └───┘»\n",
            " q_3: ┤ H ├┤ P(2.0*x[3]) ├────────────────────────────────────────────────»\n",
            "      ├───┤├─────────────┤                                                »\n",
            " q_4: ┤ H ├┤ P(2.0*x[4]) ├────────────────────────────────────────────────»\n",
            "      ├───┤├─────────────┤                                                »\n",
            " q_5: ┤ H ├┤ P(2.0*x[5]) ├────────────────────────────────────────────────»\n",
            "      ├───┤├─────────────┤                                                »\n",
            " q_6: ┤ H ├┤ P(2.0*x[6]) ├────────────────────────────────────────────────»\n",
            "      ├───┤├─────────────┤                                                »\n",
            " q_7: ┤ H ├┤ P(2.0*x[7]) ├────────────────────────────────────────────────»\n",
            "      ├───┤├─────────────┤                                                »\n",
            " q_8: ┤ H ├┤ P(2.0*x[8]) ├────────────────────────────────────────────────»\n",
            "      ├───┤├─────────────┤                                                »\n",
            " q_9: ┤ H ├┤ P(2.0*x[9]) ├────────────────────────────────────────────────»\n",
            "      ├───┤├─────────────┴┐                                               »\n",
            "q_10: ┤ H ├┤ P(2.0*x[10]) ├───────────────────────────────────────────────»\n",
            "      ├───┤├──────────────┤                                               »\n",
            "q_11: ┤ H ├┤ P(2.0*x[11]) ├───────────────────────────────────────────────»\n",
            "      ├───┤├──────────────┤                                               »\n",
            "q_12: ┤ H ├┤ P(2.0*x[12]) ├───────────────────────────────────────────────»\n",
            "      ├───┤├──────────────┤                                               »\n",
            "q_13: ┤ H ├┤ P(2.0*x[13]) ├───────────────────────────────────────────────»\n",
            "      ├───┤├──────────────┤                                               »\n",
            "q_14: ┤ H ├┤ P(2.0*x[14]) ├───────────────────────────────────────────────»\n",
            "      └───┘└──────────────┘                                               »\n",
            "«                                                »\n",
            "« q_0: ──────────────────────────────────────────»\n",
            "«                                                »\n",
            "« q_1: ──────────────────────────────────■───────»\n",
            "«      ┌──────────────────────────────┐┌─┴─┐     »\n",
            "« q_2: ┤ P(2.0*(π - x[1])*(π - x[2])) ├┤ X ├──■──»\n",
            "«      └──────────────────────────────┘└───┘┌─┴─┐»\n",
            "« q_3: ─────────────────────────────────────┤ X ├»\n",
            "«                                           └───┘»\n",
            "« q_4: ──────────────────────────────────────────»\n",
            "«                                                »\n",
            "« q_5: ──────────────────────────────────────────»\n",
            "«                                                »\n",
            "« q_6: ──────────────────────────────────────────»\n",
            "«                                                »\n",
            "« q_7: ──────────────────────────────────────────»\n",
            "«                                                »\n",
            "« q_8: ──────────────────────────────────────────»\n",
            "«                                                »\n",
            "« q_9: ──────────────────────────────────────────»\n",
            "«                                                »\n",
            "«q_10: ──────────────────────────────────────────»\n",
            "«                                                »\n",
            "«q_11: ──────────────────────────────────────────»\n",
            "«                                                »\n",
            "«q_12: ──────────────────────────────────────────»\n",
            "«                                                »\n",
            "«q_13: ──────────────────────────────────────────»\n",
            "«                                                »\n",
            "«q_14: ──────────────────────────────────────────»\n",
            "«                                                »\n",
            "«                                                »\n",
            "« q_0: ──────────────────────────────────────────»\n",
            "«                                                »\n",
            "« q_1: ──────────────────────────────────────────»\n",
            "«                                                »\n",
            "« q_2: ──────────────────────────────────■───────»\n",
            "«      ┌──────────────────────────────┐┌─┴─┐     »\n",
            "« q_3: ┤ P(2.0*(π - x[2])*(π - x[3])) ├┤ X ├──■──»\n",
            "«      └──────────────────────────────┘└───┘┌─┴─┐»\n",
            "« q_4: ─────────────────────────────────────┤ X ├»\n",
            "«                                           └───┘»\n",
            "« q_5: ──────────────────────────────────────────»\n",
            "«                                                »\n",
            "« q_6: ──────────────────────────────────────────»\n",
            "«                                                »\n",
            "« q_7: ──────────────────────────────────────────»\n",
            "«                                                »\n",
            "« q_8: ──────────────────────────────────────────»\n",
            "«                                                »\n",
            "« q_9: ──────────────────────────────────────────»\n",
            "«                                                »\n",
            "«q_10: ──────────────────────────────────────────»\n",
            "«                                                »\n",
            "«q_11: ──────────────────────────────────────────»\n",
            "«                                                »\n",
            "«q_12: ──────────────────────────────────────────»\n",
            "«                                                »\n",
            "«q_13: ──────────────────────────────────────────»\n",
            "«                                                »\n",
            "«q_14: ──────────────────────────────────────────»\n",
            "«                                                »\n",
            "«                                                »\n",
            "« q_0: ──────────────────────────────────────────»\n",
            "«                                                »\n",
            "« q_1: ──────────────────────────────────────────»\n",
            "«                                                »\n",
            "« q_2: ──────────────────────────────────────────»\n",
            "«                                                »\n",
            "« q_3: ──────────────────────────────────■───────»\n",
            "«      ┌──────────────────────────────┐┌─┴─┐     »\n",
            "« q_4: ┤ P(2.0*(π - x[3])*(π - x[4])) ├┤ X ├──■──»\n",
            "«      └──────────────────────────────┘└───┘┌─┴─┐»\n",
            "« q_5: ─────────────────────────────────────┤ X ├»\n",
            "«                                           └───┘»\n",
            "« q_6: ──────────────────────────────────────────»\n",
            "«                                                »\n",
            "« q_7: ──────────────────────────────────────────»\n",
            "«                                                »\n",
            "« q_8: ──────────────────────────────────────────»\n",
            "«                                                »\n",
            "« q_9: ──────────────────────────────────────────»\n",
            "«                                                »\n",
            "«q_10: ──────────────────────────────────────────»\n",
            "«                                                »\n",
            "«q_11: ──────────────────────────────────────────»\n",
            "«                                                »\n",
            "«q_12: ──────────────────────────────────────────»\n",
            "«                                                »\n",
            "«q_13: ──────────────────────────────────────────»\n",
            "«                                                »\n",
            "«q_14: ──────────────────────────────────────────»\n",
            "«                                                »\n",
            "«                                                »\n",
            "« q_0: ──────────────────────────────────────────»\n",
            "«                                                »\n",
            "« q_1: ──────────────────────────────────────────»\n",
            "«                                                »\n",
            "« q_2: ──────────────────────────────────────────»\n",
            "«                                                »\n",
            "« q_3: ──────────────────────────────────────────»\n",
            "«                                                »\n",
            "« q_4: ──────────────────────────────────■───────»\n",
            "«      ┌──────────────────────────────┐┌─┴─┐     »\n",
            "« q_5: ┤ P(2.0*(π - x[4])*(π - x[5])) ├┤ X ├──■──»\n",
            "«      └──────────────────────────────┘└───┘┌─┴─┐»\n",
            "« q_6: ─────────────────────────────────────┤ X ├»\n",
            "«                                           └───┘»\n",
            "« q_7: ──────────────────────────────────────────»\n",
            "«                                                »\n",
            "« q_8: ──────────────────────────────────────────»\n",
            "«                                                »\n",
            "« q_9: ──────────────────────────────────────────»\n",
            "«                                                »\n",
            "«q_10: ──────────────────────────────────────────»\n",
            "«                                                »\n",
            "«q_11: ──────────────────────────────────────────»\n",
            "«                                                »\n",
            "«q_12: ──────────────────────────────────────────»\n",
            "«                                                »\n",
            "«q_13: ──────────────────────────────────────────»\n",
            "«                                                »\n",
            "«q_14: ──────────────────────────────────────────»\n",
            "«                                                »\n",
            "«                                                »\n",
            "« q_0: ──────────────────────────────────────────»\n",
            "«                                                »\n",
            "« q_1: ──────────────────────────────────────────»\n",
            "«                                                »\n",
            "« q_2: ──────────────────────────────────────────»\n",
            "«                                                »\n",
            "« q_3: ──────────────────────────────────────────»\n",
            "«                                                »\n",
            "« q_4: ──────────────────────────────────────────»\n",
            "«                                                »\n",
            "« q_5: ──────────────────────────────────■───────»\n",
            "«      ┌──────────────────────────────┐┌─┴─┐     »\n",
            "« q_6: ┤ P(2.0*(π - x[5])*(π - x[6])) ├┤ X ├──■──»\n",
            "«      └──────────────────────────────┘└───┘┌─┴─┐»\n",
            "« q_7: ─────────────────────────────────────┤ X ├»\n",
            "«                                           └───┘»\n",
            "« q_8: ──────────────────────────────────────────»\n",
            "«                                                »\n",
            "« q_9: ──────────────────────────────────────────»\n",
            "«                                                »\n",
            "«q_10: ──────────────────────────────────────────»\n",
            "«                                                »\n",
            "«q_11: ──────────────────────────────────────────»\n",
            "«                                                »\n",
            "«q_12: ──────────────────────────────────────────»\n",
            "«                                                »\n",
            "«q_13: ──────────────────────────────────────────»\n",
            "«                                                »\n",
            "«q_14: ──────────────────────────────────────────»\n",
            "«                                                »\n",
            "«                                                »\n",
            "« q_0: ──────────────────────────────────────────»\n",
            "«                                                »\n",
            "« q_1: ──────────────────────────────────────────»\n",
            "«                                                »\n",
            "« q_2: ──────────────────────────────────────────»\n",
            "«                                                »\n",
            "« q_3: ──────────────────────────────────────────»\n",
            "«                                                »\n",
            "« q_4: ──────────────────────────────────────────»\n",
            "«                                                »\n",
            "« q_5: ──────────────────────────────────────────»\n",
            "«                                                »\n",
            "« q_6: ──────────────────────────────────■───────»\n",
            "«      ┌──────────────────────────────┐┌─┴─┐     »\n",
            "« q_7: ┤ P(2.0*(π - x[6])*(π - x[7])) ├┤ X ├──■──»\n",
            "«      └──────────────────────────────┘└───┘┌─┴─┐»\n",
            "« q_8: ─────────────────────────────────────┤ X ├»\n",
            "«                                           └───┘»\n",
            "« q_9: ──────────────────────────────────────────»\n",
            "«                                                »\n",
            "«q_10: ──────────────────────────────────────────»\n",
            "«                                                »\n",
            "«q_11: ──────────────────────────────────────────»\n",
            "«                                                »\n",
            "«q_12: ──────────────────────────────────────────»\n",
            "«                                                »\n",
            "«q_13: ──────────────────────────────────────────»\n",
            "«                                                »\n",
            "«q_14: ──────────────────────────────────────────»\n",
            "«                                                »\n",
            "«                                                »\n",
            "« q_0: ──────────────────────────────────────────»\n",
            "«                                                »\n",
            "« q_1: ──────────────────────────────────────────»\n",
            "«                                                »\n",
            "« q_2: ──────────────────────────────────────────»\n",
            "«                                                »\n",
            "« q_3: ──────────────────────────────────────────»\n",
            "«                                                »\n",
            "« q_4: ──────────────────────────────────────────»\n",
            "«                                                »\n",
            "« q_5: ──────────────────────────────────────────»\n",
            "«                                                »\n",
            "« q_6: ──────────────────────────────────────────»\n",
            "«                                                »\n",
            "« q_7: ──────────────────────────────────■───────»\n",
            "«      ┌──────────────────────────────┐┌─┴─┐     »\n",
            "« q_8: ┤ P(2.0*(π - x[7])*(π - x[8])) ├┤ X ├──■──»\n",
            "«      └──────────────────────────────┘└───┘┌─┴─┐»\n",
            "« q_9: ─────────────────────────────────────┤ X ├»\n",
            "«                                           └───┘»\n",
            "«q_10: ──────────────────────────────────────────»\n",
            "«                                                »\n",
            "«q_11: ──────────────────────────────────────────»\n",
            "«                                                »\n",
            "«q_12: ──────────────────────────────────────────»\n",
            "«                                                »\n",
            "«q_13: ──────────────────────────────────────────»\n",
            "«                                                »\n",
            "«q_14: ──────────────────────────────────────────»\n",
            "«                                                »\n",
            "«                                                »\n",
            "« q_0: ──────────────────────────────────────────»\n",
            "«                                                »\n",
            "« q_1: ──────────────────────────────────────────»\n",
            "«                                                »\n",
            "« q_2: ──────────────────────────────────────────»\n",
            "«                                                »\n",
            "« q_3: ──────────────────────────────────────────»\n",
            "«                                                »\n",
            "« q_4: ──────────────────────────────────────────»\n",
            "«                                                »\n",
            "« q_5: ──────────────────────────────────────────»\n",
            "«                                                »\n",
            "« q_6: ──────────────────────────────────────────»\n",
            "«                                                »\n",
            "« q_7: ──────────────────────────────────────────»\n",
            "«                                                »\n",
            "« q_8: ──────────────────────────────────■───────»\n",
            "«      ┌──────────────────────────────┐┌─┴─┐     »\n",
            "« q_9: ┤ P(2.0*(π - x[8])*(π - x[9])) ├┤ X ├──■──»\n",
            "«      └──────────────────────────────┘└───┘┌─┴─┐»\n",
            "«q_10: ─────────────────────────────────────┤ X ├»\n",
            "«                                           └───┘»\n",
            "«q_11: ──────────────────────────────────────────»\n",
            "«                                                »\n",
            "«q_12: ──────────────────────────────────────────»\n",
            "«                                                »\n",
            "«q_13: ──────────────────────────────────────────»\n",
            "«                                                »\n",
            "«q_14: ──────────────────────────────────────────»\n",
            "«                                                »\n",
            "«                                                 »\n",
            "« q_0: ───────────────────────────────────────────»\n",
            "«                                                 »\n",
            "« q_1: ───────────────────────────────────────────»\n",
            "«                                                 »\n",
            "« q_2: ───────────────────────────────────────────»\n",
            "«                                                 »\n",
            "« q_3: ───────────────────────────────────────────»\n",
            "«                                                 »\n",
            "« q_4: ───────────────────────────────────────────»\n",
            "«                                                 »\n",
            "« q_5: ───────────────────────────────────────────»\n",
            "«                                                 »\n",
            "« q_6: ───────────────────────────────────────────»\n",
            "«                                                 »\n",
            "« q_7: ───────────────────────────────────────────»\n",
            "«                                                 »\n",
            "« q_8: ───────────────────────────────────────────»\n",
            "«                                                 »\n",
            "« q_9: ───────────────────────────────────■───────»\n",
            "«      ┌───────────────────────────────┐┌─┴─┐     »\n",
            "«q_10: ┤ P(2.0*(π - x[10])*(π - x[9])) ├┤ X ├──■──»\n",
            "«      └───────────────────────────────┘└───┘┌─┴─┐»\n",
            "«q_11: ──────────────────────────────────────┤ X ├»\n",
            "«                                            └───┘»\n",
            "«q_12: ───────────────────────────────────────────»\n",
            "«                                                 »\n",
            "«q_13: ───────────────────────────────────────────»\n",
            "«                                                 »\n",
            "«q_14: ───────────────────────────────────────────»\n",
            "«                                                 »\n",
            "«                                                  »\n",
            "« q_0: ────────────────────────────────────────────»\n",
            "«                                                  »\n",
            "« q_1: ────────────────────────────────────────────»\n",
            "«                                                  »\n",
            "« q_2: ────────────────────────────────────────────»\n",
            "«                                                  »\n",
            "« q_3: ────────────────────────────────────────────»\n",
            "«                                                  »\n",
            "« q_4: ────────────────────────────────────────────»\n",
            "«                                                  »\n",
            "« q_5: ────────────────────────────────────────────»\n",
            "«                                                  »\n",
            "« q_6: ────────────────────────────────────────────»\n",
            "«                                                  »\n",
            "« q_7: ────────────────────────────────────────────»\n",
            "«                                                  »\n",
            "« q_8: ────────────────────────────────────────────»\n",
            "«                                                  »\n",
            "« q_9: ────────────────────────────────────────────»\n",
            "«                                                  »\n",
            "«q_10: ────────────────────────────────────■───────»\n",
            "«      ┌────────────────────────────────┐┌─┴─┐     »\n",
            "«q_11: ┤ P(2.0*(π - x[10])*(π - x[11])) ├┤ X ├──■──»\n",
            "«      └────────────────────────────────┘└───┘┌─┴─┐»\n",
            "«q_12: ───────────────────────────────────────┤ X ├»\n",
            "«                                             └───┘»\n",
            "«q_13: ────────────────────────────────────────────»\n",
            "«                                                  »\n",
            "«q_14: ────────────────────────────────────────────»\n",
            "«                                                  »\n",
            "«                                                  »\n",
            "« q_0: ────────────────────────────────────────────»\n",
            "«                                                  »\n",
            "« q_1: ────────────────────────────────────────────»\n",
            "«                                                  »\n",
            "« q_2: ────────────────────────────────────────────»\n",
            "«                                                  »\n",
            "« q_3: ────────────────────────────────────────────»\n",
            "«                                                  »\n",
            "« q_4: ────────────────────────────────────────────»\n",
            "«                                                  »\n",
            "« q_5: ────────────────────────────────────────────»\n",
            "«                                                  »\n",
            "« q_6: ────────────────────────────────────────────»\n",
            "«                                                  »\n",
            "« q_7: ────────────────────────────────────────────»\n",
            "«                                                  »\n",
            "« q_8: ────────────────────────────────────────────»\n",
            "«                                                  »\n",
            "« q_9: ────────────────────────────────────────────»\n",
            "«                                                  »\n",
            "«q_10: ────────────────────────────────────────────»\n",
            "«                                                  »\n",
            "«q_11: ────────────────────────────────────■───────»\n",
            "«      ┌────────────────────────────────┐┌─┴─┐     »\n",
            "«q_12: ┤ P(2.0*(π - x[11])*(π - x[12])) ├┤ X ├──■──»\n",
            "«      └────────────────────────────────┘└───┘┌─┴─┐»\n",
            "«q_13: ───────────────────────────────────────┤ X ├»\n",
            "«                                             └───┘»\n",
            "«q_14: ────────────────────────────────────────────»\n",
            "«                                                  »\n",
            "«                                                  »\n",
            "« q_0: ────────────────────────────────────────────»\n",
            "«                                                  »\n",
            "« q_1: ────────────────────────────────────────────»\n",
            "«                                                  »\n",
            "« q_2: ────────────────────────────────────────────»\n",
            "«                                                  »\n",
            "« q_3: ────────────────────────────────────────────»\n",
            "«                                                  »\n",
            "« q_4: ────────────────────────────────────────────»\n",
            "«                                                  »\n",
            "« q_5: ────────────────────────────────────────────»\n",
            "«                                                  »\n",
            "« q_6: ────────────────────────────────────────────»\n",
            "«                                                  »\n",
            "« q_7: ────────────────────────────────────────────»\n",
            "«                                                  »\n",
            "« q_8: ────────────────────────────────────────────»\n",
            "«                                                  »\n",
            "« q_9: ────────────────────────────────────────────»\n",
            "«                                                  »\n",
            "«q_10: ────────────────────────────────────────────»\n",
            "«                                                  »\n",
            "«q_11: ────────────────────────────────────────────»\n",
            "«                                                  »\n",
            "«q_12: ────────────────────────────────────■───────»\n",
            "«      ┌────────────────────────────────┐┌─┴─┐     »\n",
            "«q_13: ┤ P(2.0*(π - x[12])*(π - x[13])) ├┤ X ├──■──»\n",
            "«      └────────────────────────────────┘└───┘┌─┴─┐»\n",
            "«q_14: ───────────────────────────────────────┤ X ├»\n",
            "«                                             └───┘»\n",
            "«                                             \n",
            "« q_0: ───────────────────────────────────────\n",
            "«                                             \n",
            "« q_1: ───────────────────────────────────────\n",
            "«                                             \n",
            "« q_2: ───────────────────────────────────────\n",
            "«                                             \n",
            "« q_3: ───────────────────────────────────────\n",
            "«                                             \n",
            "« q_4: ───────────────────────────────────────\n",
            "«                                             \n",
            "« q_5: ───────────────────────────────────────\n",
            "«                                             \n",
            "« q_6: ───────────────────────────────────────\n",
            "«                                             \n",
            "« q_7: ───────────────────────────────────────\n",
            "«                                             \n",
            "« q_8: ───────────────────────────────────────\n",
            "«                                             \n",
            "« q_9: ───────────────────────────────────────\n",
            "«                                             \n",
            "«q_10: ───────────────────────────────────────\n",
            "«                                             \n",
            "«q_11: ───────────────────────────────────────\n",
            "«                                             \n",
            "«q_12: ───────────────────────────────────────\n",
            "«                                             \n",
            "«q_13: ────────────────────────────────────■──\n",
            "«      ┌────────────────────────────────┐┌─┴─┐\n",
            "«q_14: ┤ P(2.0*(π - x[13])*(π - x[14])) ├┤ X ├\n",
            "«      └────────────────────────────────┘└───┘\n"
          ]
        }
      ]
    },
    {
      "cell_type": "code",
      "source": [
        "confusion2 = confusion_matrix(y_test, predict_clf_cuantico)\n",
        "confusion2"
      ],
      "metadata": {
        "colab": {
          "base_uri": "https://localhost:8080/"
        },
        "id": "bb-NwHqYY7_f",
        "outputId": "25bf036b-a0e5-415b-d47c-0c2a9979a88a"
      },
      "execution_count": null,
      "outputs": [
        {
          "output_type": "execute_result",
          "data": {
            "text/plain": [
              "array([[26,  6],\n",
              "       [10, 18]])"
            ]
          },
          "metadata": {},
          "execution_count": 30
        }
      ]
    },
    {
      "cell_type": "markdown",
      "source": [
        "# MODELO CÚANTICO MALO"
      ],
      "metadata": {
        "id": "dMc3ZLewCKY3"
      }
    },
    {
      "cell_type": "code",
      "source": [
        "#!pip install qiskit\n",
        "#!pip install qiskit_machine_learning\n",
        "#!pip install qiskit_algorithms"
      ],
      "metadata": {
        "colab": {
          "base_uri": "https://localhost:8080/"
        },
        "id": "xfOxnlnDDHHi",
        "outputId": "23225fc8-04bb-4878-81eb-f0a900ea81a8"
      },
      "execution_count": null,
      "outputs": [
        {
          "output_type": "stream",
          "name": "stdout",
          "text": [
            "Collecting qiskit\n",
            "  Downloading qiskit-1.1.0-cp38-abi3-manylinux_2_17_x86_64.manylinux2014_x86_64.whl (4.3 MB)\n",
            "\u001b[2K     \u001b[90m━━━━━━━━━━━━━━━━━━━━━━━━━━━━━━━━━━━━━━━━\u001b[0m \u001b[32m4.3/4.3 MB\u001b[0m \u001b[31m20.1 MB/s\u001b[0m eta \u001b[36m0:00:00\u001b[0m\n",
            "\u001b[?25hCollecting rustworkx>=0.14.0 (from qiskit)\n",
            "  Downloading rustworkx-0.14.2-cp310-cp310-manylinux_2_17_x86_64.manylinux2014_x86_64.whl (2.1 MB)\n",
            "\u001b[2K     \u001b[90m━━━━━━━━━━━━━━━━━━━━━━━━━━━━━━━━━━━━━━━━\u001b[0m \u001b[32m2.1/2.1 MB\u001b[0m \u001b[31m26.5 MB/s\u001b[0m eta \u001b[36m0:00:00\u001b[0m\n",
            "\u001b[?25hRequirement already satisfied: numpy<3,>=1.17 in /usr/local/lib/python3.10/dist-packages (from qiskit) (1.25.2)\n",
            "Requirement already satisfied: scipy>=1.5 in /usr/local/lib/python3.10/dist-packages (from qiskit) (1.11.4)\n",
            "Requirement already satisfied: sympy>=1.3 in /usr/local/lib/python3.10/dist-packages (from qiskit) (1.12)\n",
            "Collecting dill>=0.3 (from qiskit)\n",
            "  Downloading dill-0.3.8-py3-none-any.whl (116 kB)\n",
            "\u001b[2K     \u001b[90m━━━━━━━━━━━━━━━━━━━━━━━━━━━━━━━━━━━━━━━━\u001b[0m \u001b[32m116.3/116.3 kB\u001b[0m \u001b[31m5.5 MB/s\u001b[0m eta \u001b[36m0:00:00\u001b[0m\n",
            "\u001b[?25hRequirement already satisfied: python-dateutil>=2.8.0 in /usr/local/lib/python3.10/dist-packages (from qiskit) (2.8.2)\n",
            "Collecting stevedore>=3.0.0 (from qiskit)\n",
            "  Downloading stevedore-5.2.0-py3-none-any.whl (49 kB)\n",
            "\u001b[2K     \u001b[90m━━━━━━━━━━━━━━━━━━━━━━━━━━━━━━━━━━━━━━━━\u001b[0m \u001b[32m49.7/49.7 kB\u001b[0m \u001b[31m3.0 MB/s\u001b[0m eta \u001b[36m0:00:00\u001b[0m\n",
            "\u001b[?25hRequirement already satisfied: typing-extensions in /usr/local/lib/python3.10/dist-packages (from qiskit) (4.11.0)\n",
            "Collecting symengine>=0.11 (from qiskit)\n",
            "  Downloading symengine-0.11.0-cp310-cp310-manylinux_2_12_x86_64.manylinux2010_x86_64.whl (39.4 MB)\n",
            "\u001b[2K     \u001b[90m━━━━━━━━━━━━━━━━━━━━━━━━━━━━━━━━━━━━━━━━\u001b[0m \u001b[32m39.4/39.4 MB\u001b[0m \u001b[31m12.2 MB/s\u001b[0m eta \u001b[36m0:00:00\u001b[0m\n",
            "\u001b[?25hRequirement already satisfied: six>=1.5 in /usr/local/lib/python3.10/dist-packages (from python-dateutil>=2.8.0->qiskit) (1.16.0)\n",
            "Collecting pbr!=2.1.0,>=2.0.0 (from stevedore>=3.0.0->qiskit)\n",
            "  Downloading pbr-6.0.0-py2.py3-none-any.whl (107 kB)\n",
            "\u001b[2K     \u001b[90m━━━━━━━━━━━━━━━━━━━━━━━━━━━━━━━━━━━━━━━━\u001b[0m \u001b[32m107.5/107.5 kB\u001b[0m \u001b[31m10.3 MB/s\u001b[0m eta \u001b[36m0:00:00\u001b[0m\n",
            "\u001b[?25hRequirement already satisfied: mpmath>=0.19 in /usr/local/lib/python3.10/dist-packages (from sympy>=1.3->qiskit) (1.3.0)\n",
            "Installing collected packages: symengine, rustworkx, pbr, dill, stevedore, qiskit\n",
            "Successfully installed dill-0.3.8 pbr-6.0.0 qiskit-1.1.0 rustworkx-0.14.2 stevedore-5.2.0 symengine-0.11.0\n",
            "Collecting qiskit_machine_learning\n",
            "  Downloading qiskit_machine_learning-0.7.2-py3-none-any.whl (97 kB)\n",
            "\u001b[2K     \u001b[90m━━━━━━━━━━━━━━━━━━━━━━━━━━━━━━━━━━━━━━━━\u001b[0m \u001b[32m97.8/97.8 kB\u001b[0m \u001b[31m2.9 MB/s\u001b[0m eta \u001b[36m0:00:00\u001b[0m\n",
            "\u001b[?25hRequirement already satisfied: qiskit>=0.44 in /usr/local/lib/python3.10/dist-packages (from qiskit_machine_learning) (1.1.0)\n",
            "Collecting qiskit-algorithms>=0.2.0 (from qiskit_machine_learning)\n",
            "  Downloading qiskit_algorithms-0.3.0-py3-none-any.whl (308 kB)\n",
            "\u001b[2K     \u001b[90m━━━━━━━━━━━━━━━━━━━━━━━━━━━━━━━━━━━━━━━━\u001b[0m \u001b[32m308.6/308.6 kB\u001b[0m \u001b[31m13.5 MB/s\u001b[0m eta \u001b[36m0:00:00\u001b[0m\n",
            "\u001b[?25hRequirement already satisfied: scipy>=1.4 in /usr/local/lib/python3.10/dist-packages (from qiskit_machine_learning) (1.11.4)\n",
            "Requirement already satisfied: numpy>=1.17 in /usr/local/lib/python3.10/dist-packages (from qiskit_machine_learning) (1.25.2)\n",
            "Requirement already satisfied: psutil>=5 in /usr/local/lib/python3.10/dist-packages (from qiskit_machine_learning) (5.9.5)\n",
            "Requirement already satisfied: scikit-learn>=1.2.0 in /usr/local/lib/python3.10/dist-packages (from qiskit_machine_learning) (1.2.2)\n",
            "Collecting fastdtw (from qiskit_machine_learning)\n",
            "  Downloading fastdtw-0.3.4.tar.gz (133 kB)\n",
            "\u001b[2K     \u001b[90m━━━━━━━━━━━━━━━━━━━━━━━━━━━━━━━━━━━━━━━━\u001b[0m \u001b[32m133.4/133.4 kB\u001b[0m \u001b[31m14.1 MB/s\u001b[0m eta \u001b[36m0:00:00\u001b[0m\n",
            "\u001b[?25h  Preparing metadata (setup.py) ... \u001b[?25l\u001b[?25hdone\n",
            "Requirement already satisfied: setuptools>=40.1.0 in /usr/local/lib/python3.10/dist-packages (from qiskit_machine_learning) (67.7.2)\n",
            "Requirement already satisfied: dill>=0.3.4 in /usr/local/lib/python3.10/dist-packages (from qiskit_machine_learning) (0.3.8)\n",
            "Requirement already satisfied: rustworkx>=0.14.0 in /usr/local/lib/python3.10/dist-packages (from qiskit>=0.44->qiskit_machine_learning) (0.14.2)\n",
            "Requirement already satisfied: sympy>=1.3 in /usr/local/lib/python3.10/dist-packages (from qiskit>=0.44->qiskit_machine_learning) (1.12)\n",
            "Requirement already satisfied: python-dateutil>=2.8.0 in /usr/local/lib/python3.10/dist-packages (from qiskit>=0.44->qiskit_machine_learning) (2.8.2)\n",
            "Requirement already satisfied: stevedore>=3.0.0 in /usr/local/lib/python3.10/dist-packages (from qiskit>=0.44->qiskit_machine_learning) (5.2.0)\n",
            "Requirement already satisfied: typing-extensions in /usr/local/lib/python3.10/dist-packages (from qiskit>=0.44->qiskit_machine_learning) (4.11.0)\n",
            "Requirement already satisfied: symengine>=0.11 in /usr/local/lib/python3.10/dist-packages (from qiskit>=0.44->qiskit_machine_learning) (0.11.0)\n",
            "Requirement already satisfied: joblib>=1.1.1 in /usr/local/lib/python3.10/dist-packages (from scikit-learn>=1.2.0->qiskit_machine_learning) (1.4.2)\n",
            "Requirement already satisfied: threadpoolctl>=2.0.0 in /usr/local/lib/python3.10/dist-packages (from scikit-learn>=1.2.0->qiskit_machine_learning) (3.5.0)\n",
            "Requirement already satisfied: six>=1.5 in /usr/local/lib/python3.10/dist-packages (from python-dateutil>=2.8.0->qiskit>=0.44->qiskit_machine_learning) (1.16.0)\n",
            "Requirement already satisfied: pbr!=2.1.0,>=2.0.0 in /usr/local/lib/python3.10/dist-packages (from stevedore>=3.0.0->qiskit>=0.44->qiskit_machine_learning) (6.0.0)\n",
            "Requirement already satisfied: mpmath>=0.19 in /usr/local/lib/python3.10/dist-packages (from sympy>=1.3->qiskit>=0.44->qiskit_machine_learning) (1.3.0)\n",
            "Building wheels for collected packages: fastdtw\n",
            "  Building wheel for fastdtw (setup.py) ... \u001b[?25l\u001b[?25hdone\n",
            "  Created wheel for fastdtw: filename=fastdtw-0.3.4-cp310-cp310-linux_x86_64.whl size=512612 sha256=ae4d1760483181799e55e639074915c3932ff6a5e52788b699487813576426a6\n",
            "  Stored in directory: /root/.cache/pip/wheels/73/c8/f7/c25448dab74c3acf4848bc25d513c736bb93910277e1528ef4\n",
            "Successfully built fastdtw\n",
            "Installing collected packages: fastdtw, qiskit-algorithms, qiskit_machine_learning\n",
            "Successfully installed fastdtw-0.3.4 qiskit-algorithms-0.3.0 qiskit_machine_learning-0.7.2\n",
            "Requirement already satisfied: qiskit_algorithms in /usr/local/lib/python3.10/dist-packages (0.3.0)\n",
            "Requirement already satisfied: qiskit>=0.44 in /usr/local/lib/python3.10/dist-packages (from qiskit_algorithms) (1.1.0)\n",
            "Requirement already satisfied: scipy>=1.4 in /usr/local/lib/python3.10/dist-packages (from qiskit_algorithms) (1.11.4)\n",
            "Requirement already satisfied: numpy>=1.17 in /usr/local/lib/python3.10/dist-packages (from qiskit_algorithms) (1.25.2)\n",
            "Requirement already satisfied: rustworkx>=0.14.0 in /usr/local/lib/python3.10/dist-packages (from qiskit>=0.44->qiskit_algorithms) (0.14.2)\n",
            "Requirement already satisfied: sympy>=1.3 in /usr/local/lib/python3.10/dist-packages (from qiskit>=0.44->qiskit_algorithms) (1.12)\n",
            "Requirement already satisfied: dill>=0.3 in /usr/local/lib/python3.10/dist-packages (from qiskit>=0.44->qiskit_algorithms) (0.3.8)\n",
            "Requirement already satisfied: python-dateutil>=2.8.0 in /usr/local/lib/python3.10/dist-packages (from qiskit>=0.44->qiskit_algorithms) (2.8.2)\n",
            "Requirement already satisfied: stevedore>=3.0.0 in /usr/local/lib/python3.10/dist-packages (from qiskit>=0.44->qiskit_algorithms) (5.2.0)\n",
            "Requirement already satisfied: typing-extensions in /usr/local/lib/python3.10/dist-packages (from qiskit>=0.44->qiskit_algorithms) (4.11.0)\n",
            "Requirement already satisfied: symengine>=0.11 in /usr/local/lib/python3.10/dist-packages (from qiskit>=0.44->qiskit_algorithms) (0.11.0)\n",
            "Requirement already satisfied: six>=1.5 in /usr/local/lib/python3.10/dist-packages (from python-dateutil>=2.8.0->qiskit>=0.44->qiskit_algorithms) (1.16.0)\n",
            "Requirement already satisfied: pbr!=2.1.0,>=2.0.0 in /usr/local/lib/python3.10/dist-packages (from stevedore>=3.0.0->qiskit>=0.44->qiskit_algorithms) (6.0.0)\n",
            "Requirement already satisfied: mpmath>=0.19 in /usr/local/lib/python3.10/dist-packages (from sympy>=1.3->qiskit>=0.44->qiskit_algorithms) (1.3.0)\n"
          ]
        }
      ]
    },
    {
      "cell_type": "code",
      "source": [
        "# Additional torch-related imports\n",
        "import torch\n",
        "from torch import cat, no_grad, manual_seed\n",
        "from torch.utils.data import DataLoader\n",
        "from torchvision import datasets, transforms\n",
        "import torch.optim as optim\n",
        "from torch.nn import ( Module,Conv2d,Linear,Dropout2d,NLLLoss,MaxPool2d, Flatten,Sequential,ReLU)\n",
        "import torch.nn.functional as F\n",
        "from qiskit_machine_learning.connectors import TorchConnector\n",
        "\n",
        "from qiskit_machine_learning.algorithms.classifiers import NeuralNetworkClassifier, VQC\n",
        "from qiskit_machine_learning.algorithms.regressors import NeuralNetworkRegressor, VQR\n",
        "from qiskit_machine_learning.neural_networks import SamplerQNN, EstimatorQNNfrom qiskit_machine_learning.circuit.library import QNNCircuit"
      ],
      "metadata": {
        "id": "CEpG916sCVdL"
      },
      "execution_count": null,
      "outputs": []
    },
    {
      "cell_type": "code",
      "source": [
        "from qiskit.circuit import Parameter\n",
        "from qiskit import QuantumCircuit\n",
        "from qiskit.circuit import ParameterVector\n",
        "algorithm_globals.random_seed = 42"
      ],
      "metadata": {
        "id": "hMFCpdZYESQn"
      },
      "execution_count": null,
      "outputs": []
    },
    {
      "cell_type": "code",
      "source": [
        "inputs2 = ParameterVector(\"input\", 4)\n",
        "weights2 = ParameterVector(\"weight\", 2)\n",
        "print(f\"input parameters: {[str(item) for item in inputs2.params]}\")\n",
        "print(f\"weight parameters: {[str(item) for item in weights2.params]}\")\n",
        "\n",
        "qc2 = QuantumCircuit(2)\n",
        "qc2.rx(inputs2[0], 0)\n",
        "qc2.ry(inputs2[1], 1)\n",
        "qc2.rz(inputs2[2], 0)\n",
        "qc2.rz(inputs2[3], 1)\n",
        "qc2.cx(0, 1) #CNOT\n",
        "qc2.rx(weights2[0], 0)\n",
        "qc2.rx(weights2[1], 1)\n",
        "\n",
        "\n",
        "qc2.draw()"
      ],
      "metadata": {
        "colab": {
          "base_uri": "https://localhost:8080/",
          "height": 131
        },
        "id": "iPz4K2fxEAVX",
        "outputId": "2251aa71-ff49-4142-982a-8eaf6c15ca13"
      },
      "execution_count": null,
      "outputs": [
        {
          "output_type": "stream",
          "name": "stdout",
          "text": [
            "input parameters: ['input[0]', 'input[1]', 'input[2]', 'input[3]']\n",
            "weight parameters: ['weight[0]', 'weight[1]']\n"
          ]
        },
        {
          "output_type": "execute_result",
          "data": {
            "text/plain": [
              "     ┌──────────────┐┌──────────────┐     ┌───────────────┐\n",
              "q_0: ┤ Rx(input[0]) ├┤ Rz(input[2]) ├──■──┤ Rx(weight[0]) ├\n",
              "     ├──────────────┤├──────────────┤┌─┴─┐├───────────────┤\n",
              "q_1: ┤ Ry(input[1]) ├┤ Rz(input[3]) ├┤ X ├┤ Rx(weight[1]) ├\n",
              "     └──────────────┘└──────────────┘└───┘└───────────────┘"
            ],
            "text/html": [
              "<pre style=\"word-wrap: normal;white-space: pre;background: #fff0;line-height: 1.1;font-family: &quot;Courier New&quot;,Courier,monospace\">     ┌──────────────┐┌──────────────┐     ┌───────────────┐\n",
              "q_0: ┤ Rx(input[0]) ├┤ Rz(input[2]) ├──■──┤ Rx(weight[0]) ├\n",
              "     ├──────────────┤├──────────────┤┌─┴─┐├───────────────┤\n",
              "q_1: ┤ Ry(input[1]) ├┤ Rz(input[3]) ├┤ X ├┤ Rx(weight[1]) ├\n",
              "     └──────────────┘└──────────────┘└───┘└───────────────┘</pre>"
            ]
          },
          "metadata": {},
          "execution_count": 43
        }
      ]
    },
    {
      "cell_type": "code",
      "source": [
        "from qiskit.quantum_info import SparsePauliOp\n",
        "\n",
        "observable1 = SparsePauliOp.from_list([(\"Y\" * qc2.num_qubits, 1)])\n",
        "observable2 = SparsePauliOp.from_list([(\"Z\" * qc2.num_qubits, 1)])\n",
        "# el 1 es el peso que se aplica\n",
        "observables = [observable1, observable2]"
      ],
      "metadata": {
        "id": "j_ox2_94EblZ"
      },
      "execution_count": null,
      "outputs": []
    },
    {
      "cell_type": "code",
      "source": [
        "estimator_qnn = EstimatorQNN(\n",
        "    circuit=qc2, observables=observables, input_params=inputs2, weight_params=weights2\n",
        ")\n",
        "estimator_qnn"
      ],
      "metadata": {
        "colab": {
          "base_uri": "https://localhost:8080/"
        },
        "id": "8UdQvBJ_D7_s",
        "outputId": "0a555b01-7884-4ab1-8949-97f5d55d9b1a"
      },
      "execution_count": null,
      "outputs": [
        {
          "output_type": "execute_result",
          "data": {
            "text/plain": [
              "<qiskit_machine_learning.neural_networks.estimator_qnn.EstimatorQNN at 0x782676c8ebf0>"
            ]
          },
          "metadata": {},
          "execution_count": 46
        }
      ]
    },
    {
      "cell_type": "code",
      "source": [
        "import matplotlib.pyplot as plt\n",
        "import numpy as np\n",
        "from IPython.display import clear_output\n",
        "from qiskit import QuantumCircuit\n",
        "from qiskit.circuit import Parameter\n",
        "from qiskit.circuit.library import RealAmplitudes, ZZFeatureMap\n",
        "\n",
        "# Define and create QNN\n",
        "def create_qnn():\n",
        "     feature_map = ZZFeatureMap(2)\n",
        "     ansatz = RealAmplitudes(2, reps=1)\n",
        "     qc = QuantumCircuit(2)\n",
        "     qc.compose(feature_map, inplace=True)\n",
        "     qc.compose(ansatz, inplace=True)\n",
        "\n",
        "     # REMEMBER TO SET input_gradients=True FOR ENABLING HYBRID GRADIENT BACKPROP\n",
        "     qnn = EstimatorQNN(\n",
        "         circuit=qc,\n",
        "         input_params=feature_map.parameters,\n",
        "         weight_params=ansatz.parameters,\n",
        "         input_gradients=True,\n",
        "     )\n",
        "     return qnn\n",
        "\n",
        "qnn4 = create_qnn()"
      ],
      "metadata": {
        "id": "UHc-utpQCVf1"
      },
      "execution_count": null,
      "outputs": []
    },
    {
      "cell_type": "code",
      "source": [
        "input_dim  = 14\n",
        "output_dim = 2"
      ],
      "metadata": {
        "id": "d5XYnzkBEl_l"
      },
      "execution_count": null,
      "outputs": []
    },
    {
      "cell_type": "code",
      "source": [
        "class Net(nn.Module):\n",
        "    def __init__(self, estimator_qnn):\n",
        "        super().__init__()\n",
        "        self.input_layer    = nn.Linear(input_dim,15)\n",
        "        self.hidden_layer1  = nn.Linear(15,2)\n",
        "        self.hidden_layer2  = nn.Linear(2,15)\n",
        "        self.qnn_layer = TorchConnector(estimator_qnn)  # Apply torch connector\n",
        "        self.output_layer   = nn.Linear(1,output_dim)\n",
        "        self.relu = nn.ReLU()\n",
        "\n",
        "\n",
        "    def forward(self,x):\n",
        "        out =  self.relu(self.input_layer(x))\n",
        "        out =  self.relu(self.hidden_layer1(out))\n",
        "        out =  self.relu(self.hidden_layer2(out))\n",
        "        out = self.qnn_layer(out)  # apply QNN\n",
        "        out =  self.output_layer(out)\n",
        "        return out\n",
        "\n",
        "model4 = Net(estimator_qnn)"
      ],
      "metadata": {
        "id": "YJ01b9c7CfZZ"
      },
      "execution_count": null,
      "outputs": []
    },
    {
      "cell_type": "code",
      "source": [
        "from torch.utils.data import Dataset, DataLoader\n",
        "batch_size = 1\n",
        "\n",
        "# Definir un conjunto de datos train\n",
        "class MiDataset(Dataset):\n",
        "    def __init__(self):\n",
        "        self.datos = x_train\n",
        "        self.etiquetas = y_train\n",
        "\n",
        "    def __len__(self):\n",
        "        return len(self.datos)\n",
        "\n",
        "    def __getitem__(self, idx):\n",
        "        return self.datos[idx], self.etiquetas[idx]\n",
        "\n",
        "# Crear una instancia del conjunto de datos y un DataLoader\n",
        "mi_dataset = MiDataset()\n",
        "train_loader = DataLoader(mi_dataset, batch_size=batch_size, shuffle=True)\n",
        "test_loader = DataLoader(mi_dataset, batch_size=batch_size, shuffle=True)"
      ],
      "metadata": {
        "id": "i8Oe1RwRCfdU"
      },
      "execution_count": null,
      "outputs": []
    },
    {
      "cell_type": "code",
      "source": [
        "# creating our optimizer and loss function object\n",
        "learning_rate = 0.001\n",
        "optimizer = torch.optim.Adam(model4.parameters(),lr=learning_rate)\n",
        "loss_func = NLLLoss()\n",
        "\n",
        "# Start training\n",
        "epochs = 30  # Set number of epochs\n",
        "loss_list = []  # Store loss history\n",
        "model4.train()  # Set model to training mode\n",
        "\n",
        "for epoch in range(epochs):\n",
        "    total_loss = []\n",
        "    for batch_idx, (data, target) in enumerate(train_loader):\n",
        "        optimizer.zero_grad(set_to_none=True)  # Initialize gradient\n",
        "        output = model4(data)  # Forward pass\n",
        "        loss = loss_func(output, target)  # Calculate loss\n",
        "        loss.backward()  # Backward pass\n",
        "        optimizer.step()  # Optimize weights\n",
        "        total_loss.append(loss.item())  # Store loss\n",
        "    loss_list.append(sum(total_loss) / len(total_loss))\n",
        "    print(\"Training [{:.0f}%]\\tLoss: {:.4f}\".format(100.0 * (epoch + 1) / epochs, loss_list[-1]))"
      ],
      "metadata": {
        "colab": {
          "base_uri": "https://localhost:8080/",
          "height": 499
        },
        "id": "AkJKA8TTCfgt",
        "outputId": "a251bfc0-31d6-4b68-c1f2-9f100cb5911d"
      },
      "execution_count": null,
      "outputs": [
        {
          "output_type": "error",
          "ename": "KeyError",
          "evalue": "112",
          "traceback": [
            "\u001b[0;31m---------------------------------------------------------------------------\u001b[0m",
            "\u001b[0;31mKeyError\u001b[0m                                  Traceback (most recent call last)",
            "\u001b[0;32m/usr/local/lib/python3.10/dist-packages/pandas/core/indexes/base.py\u001b[0m in \u001b[0;36mget_loc\u001b[0;34m(self, key)\u001b[0m\n\u001b[1;32m   3652\u001b[0m         \u001b[0;32mtry\u001b[0m\u001b[0;34m:\u001b[0m\u001b[0;34m\u001b[0m\u001b[0;34m\u001b[0m\u001b[0m\n\u001b[0;32m-> 3653\u001b[0;31m             \u001b[0;32mreturn\u001b[0m \u001b[0mself\u001b[0m\u001b[0;34m.\u001b[0m\u001b[0m_engine\u001b[0m\u001b[0;34m.\u001b[0m\u001b[0mget_loc\u001b[0m\u001b[0;34m(\u001b[0m\u001b[0mcasted_key\u001b[0m\u001b[0;34m)\u001b[0m\u001b[0;34m\u001b[0m\u001b[0;34m\u001b[0m\u001b[0m\n\u001b[0m\u001b[1;32m   3654\u001b[0m         \u001b[0;32mexcept\u001b[0m \u001b[0mKeyError\u001b[0m \u001b[0;32mas\u001b[0m \u001b[0merr\u001b[0m\u001b[0;34m:\u001b[0m\u001b[0;34m\u001b[0m\u001b[0;34m\u001b[0m\u001b[0m\n",
            "\u001b[0;32m/usr/local/lib/python3.10/dist-packages/pandas/_libs/index.pyx\u001b[0m in \u001b[0;36mpandas._libs.index.IndexEngine.get_loc\u001b[0;34m()\u001b[0m\n",
            "\u001b[0;32m/usr/local/lib/python3.10/dist-packages/pandas/_libs/index.pyx\u001b[0m in \u001b[0;36mpandas._libs.index.IndexEngine.get_loc\u001b[0;34m()\u001b[0m\n",
            "\u001b[0;32mpandas/_libs/hashtable_class_helper.pxi\u001b[0m in \u001b[0;36mpandas._libs.hashtable.Int64HashTable.get_item\u001b[0;34m()\u001b[0m\n",
            "\u001b[0;32mpandas/_libs/hashtable_class_helper.pxi\u001b[0m in \u001b[0;36mpandas._libs.hashtable.Int64HashTable.get_item\u001b[0;34m()\u001b[0m\n",
            "\u001b[0;31mKeyError\u001b[0m: 112",
            "\nThe above exception was the direct cause of the following exception:\n",
            "\u001b[0;31mKeyError\u001b[0m                                  Traceback (most recent call last)",
            "\u001b[0;32m<ipython-input-52-68aa06d40f5c>\u001b[0m in \u001b[0;36m<cell line: 11>\u001b[0;34m()\u001b[0m\n\u001b[1;32m     11\u001b[0m \u001b[0;32mfor\u001b[0m \u001b[0mepoch\u001b[0m \u001b[0;32min\u001b[0m \u001b[0mrange\u001b[0m\u001b[0;34m(\u001b[0m\u001b[0mepochs\u001b[0m\u001b[0;34m)\u001b[0m\u001b[0;34m:\u001b[0m\u001b[0;34m\u001b[0m\u001b[0;34m\u001b[0m\u001b[0m\n\u001b[1;32m     12\u001b[0m     \u001b[0mtotal_loss\u001b[0m \u001b[0;34m=\u001b[0m \u001b[0;34m[\u001b[0m\u001b[0;34m]\u001b[0m\u001b[0;34m\u001b[0m\u001b[0;34m\u001b[0m\u001b[0m\n\u001b[0;32m---> 13\u001b[0;31m     \u001b[0;32mfor\u001b[0m \u001b[0mbatch_idx\u001b[0m\u001b[0;34m,\u001b[0m \u001b[0;34m(\u001b[0m\u001b[0mdata\u001b[0m\u001b[0;34m,\u001b[0m \u001b[0mtarget\u001b[0m\u001b[0;34m)\u001b[0m \u001b[0;32min\u001b[0m \u001b[0menumerate\u001b[0m\u001b[0;34m(\u001b[0m\u001b[0mtrain_loader\u001b[0m\u001b[0;34m)\u001b[0m\u001b[0;34m:\u001b[0m\u001b[0;34m\u001b[0m\u001b[0;34m\u001b[0m\u001b[0m\n\u001b[0m\u001b[1;32m     14\u001b[0m         \u001b[0moptimizer\u001b[0m\u001b[0;34m.\u001b[0m\u001b[0mzero_grad\u001b[0m\u001b[0;34m(\u001b[0m\u001b[0mset_to_none\u001b[0m\u001b[0;34m=\u001b[0m\u001b[0;32mTrue\u001b[0m\u001b[0;34m)\u001b[0m  \u001b[0;31m# Initialize gradient\u001b[0m\u001b[0;34m\u001b[0m\u001b[0;34m\u001b[0m\u001b[0m\n\u001b[1;32m     15\u001b[0m         \u001b[0moutput\u001b[0m \u001b[0;34m=\u001b[0m \u001b[0mmodel4\u001b[0m\u001b[0;34m(\u001b[0m\u001b[0mdata\u001b[0m\u001b[0;34m)\u001b[0m  \u001b[0;31m# Forward pass\u001b[0m\u001b[0;34m\u001b[0m\u001b[0;34m\u001b[0m\u001b[0m\n",
            "\u001b[0;32m/usr/local/lib/python3.10/dist-packages/torch/utils/data/dataloader.py\u001b[0m in \u001b[0;36m__next__\u001b[0;34m(self)\u001b[0m\n\u001b[1;32m    629\u001b[0m                 \u001b[0;31m# TODO(https://github.com/pytorch/pytorch/issues/76750)\u001b[0m\u001b[0;34m\u001b[0m\u001b[0;34m\u001b[0m\u001b[0m\n\u001b[1;32m    630\u001b[0m                 \u001b[0mself\u001b[0m\u001b[0;34m.\u001b[0m\u001b[0m_reset\u001b[0m\u001b[0;34m(\u001b[0m\u001b[0;34m)\u001b[0m  \u001b[0;31m# type: ignore[call-arg]\u001b[0m\u001b[0;34m\u001b[0m\u001b[0;34m\u001b[0m\u001b[0m\n\u001b[0;32m--> 631\u001b[0;31m             \u001b[0mdata\u001b[0m \u001b[0;34m=\u001b[0m \u001b[0mself\u001b[0m\u001b[0;34m.\u001b[0m\u001b[0m_next_data\u001b[0m\u001b[0;34m(\u001b[0m\u001b[0;34m)\u001b[0m\u001b[0;34m\u001b[0m\u001b[0;34m\u001b[0m\u001b[0m\n\u001b[0m\u001b[1;32m    632\u001b[0m             \u001b[0mself\u001b[0m\u001b[0;34m.\u001b[0m\u001b[0m_num_yielded\u001b[0m \u001b[0;34m+=\u001b[0m \u001b[0;36m1\u001b[0m\u001b[0;34m\u001b[0m\u001b[0;34m\u001b[0m\u001b[0m\n\u001b[1;32m    633\u001b[0m             \u001b[0;32mif\u001b[0m \u001b[0mself\u001b[0m\u001b[0;34m.\u001b[0m\u001b[0m_dataset_kind\u001b[0m \u001b[0;34m==\u001b[0m \u001b[0m_DatasetKind\u001b[0m\u001b[0;34m.\u001b[0m\u001b[0mIterable\u001b[0m \u001b[0;32mand\u001b[0m\u001b[0;31m \u001b[0m\u001b[0;31m\\\u001b[0m\u001b[0;34m\u001b[0m\u001b[0;34m\u001b[0m\u001b[0m\n",
            "\u001b[0;32m/usr/local/lib/python3.10/dist-packages/torch/utils/data/dataloader.py\u001b[0m in \u001b[0;36m_next_data\u001b[0;34m(self)\u001b[0m\n\u001b[1;32m    673\u001b[0m     \u001b[0;32mdef\u001b[0m \u001b[0m_next_data\u001b[0m\u001b[0;34m(\u001b[0m\u001b[0mself\u001b[0m\u001b[0;34m)\u001b[0m\u001b[0;34m:\u001b[0m\u001b[0;34m\u001b[0m\u001b[0;34m\u001b[0m\u001b[0m\n\u001b[1;32m    674\u001b[0m         \u001b[0mindex\u001b[0m \u001b[0;34m=\u001b[0m \u001b[0mself\u001b[0m\u001b[0;34m.\u001b[0m\u001b[0m_next_index\u001b[0m\u001b[0;34m(\u001b[0m\u001b[0;34m)\u001b[0m  \u001b[0;31m# may raise StopIteration\u001b[0m\u001b[0;34m\u001b[0m\u001b[0;34m\u001b[0m\u001b[0m\n\u001b[0;32m--> 675\u001b[0;31m         \u001b[0mdata\u001b[0m \u001b[0;34m=\u001b[0m \u001b[0mself\u001b[0m\u001b[0;34m.\u001b[0m\u001b[0m_dataset_fetcher\u001b[0m\u001b[0;34m.\u001b[0m\u001b[0mfetch\u001b[0m\u001b[0;34m(\u001b[0m\u001b[0mindex\u001b[0m\u001b[0;34m)\u001b[0m  \u001b[0;31m# may raise StopIteration\u001b[0m\u001b[0;34m\u001b[0m\u001b[0;34m\u001b[0m\u001b[0m\n\u001b[0m\u001b[1;32m    676\u001b[0m         \u001b[0;32mif\u001b[0m \u001b[0mself\u001b[0m\u001b[0;34m.\u001b[0m\u001b[0m_pin_memory\u001b[0m\u001b[0;34m:\u001b[0m\u001b[0;34m\u001b[0m\u001b[0;34m\u001b[0m\u001b[0m\n\u001b[1;32m    677\u001b[0m             \u001b[0mdata\u001b[0m \u001b[0;34m=\u001b[0m \u001b[0m_utils\u001b[0m\u001b[0;34m.\u001b[0m\u001b[0mpin_memory\u001b[0m\u001b[0;34m.\u001b[0m\u001b[0mpin_memory\u001b[0m\u001b[0;34m(\u001b[0m\u001b[0mdata\u001b[0m\u001b[0;34m,\u001b[0m \u001b[0mself\u001b[0m\u001b[0;34m.\u001b[0m\u001b[0m_pin_memory_device\u001b[0m\u001b[0;34m)\u001b[0m\u001b[0;34m\u001b[0m\u001b[0;34m\u001b[0m\u001b[0m\n",
            "\u001b[0;32m/usr/local/lib/python3.10/dist-packages/torch/utils/data/_utils/fetch.py\u001b[0m in \u001b[0;36mfetch\u001b[0;34m(self, possibly_batched_index)\u001b[0m\n\u001b[1;32m     49\u001b[0m                 \u001b[0mdata\u001b[0m \u001b[0;34m=\u001b[0m \u001b[0mself\u001b[0m\u001b[0;34m.\u001b[0m\u001b[0mdataset\u001b[0m\u001b[0;34m.\u001b[0m\u001b[0m__getitems__\u001b[0m\u001b[0;34m(\u001b[0m\u001b[0mpossibly_batched_index\u001b[0m\u001b[0;34m)\u001b[0m\u001b[0;34m\u001b[0m\u001b[0;34m\u001b[0m\u001b[0m\n\u001b[1;32m     50\u001b[0m             \u001b[0;32melse\u001b[0m\u001b[0;34m:\u001b[0m\u001b[0;34m\u001b[0m\u001b[0;34m\u001b[0m\u001b[0m\n\u001b[0;32m---> 51\u001b[0;31m                 \u001b[0mdata\u001b[0m \u001b[0;34m=\u001b[0m \u001b[0;34m[\u001b[0m\u001b[0mself\u001b[0m\u001b[0;34m.\u001b[0m\u001b[0mdataset\u001b[0m\u001b[0;34m[\u001b[0m\u001b[0midx\u001b[0m\u001b[0;34m]\u001b[0m \u001b[0;32mfor\u001b[0m \u001b[0midx\u001b[0m \u001b[0;32min\u001b[0m \u001b[0mpossibly_batched_index\u001b[0m\u001b[0;34m]\u001b[0m\u001b[0;34m\u001b[0m\u001b[0;34m\u001b[0m\u001b[0m\n\u001b[0m\u001b[1;32m     52\u001b[0m         \u001b[0;32melse\u001b[0m\u001b[0;34m:\u001b[0m\u001b[0;34m\u001b[0m\u001b[0;34m\u001b[0m\u001b[0m\n\u001b[1;32m     53\u001b[0m             \u001b[0mdata\u001b[0m \u001b[0;34m=\u001b[0m \u001b[0mself\u001b[0m\u001b[0;34m.\u001b[0m\u001b[0mdataset\u001b[0m\u001b[0;34m[\u001b[0m\u001b[0mpossibly_batched_index\u001b[0m\u001b[0;34m]\u001b[0m\u001b[0;34m\u001b[0m\u001b[0;34m\u001b[0m\u001b[0m\n",
            "\u001b[0;32m/usr/local/lib/python3.10/dist-packages/torch/utils/data/_utils/fetch.py\u001b[0m in \u001b[0;36m<listcomp>\u001b[0;34m(.0)\u001b[0m\n\u001b[1;32m     49\u001b[0m                 \u001b[0mdata\u001b[0m \u001b[0;34m=\u001b[0m \u001b[0mself\u001b[0m\u001b[0;34m.\u001b[0m\u001b[0mdataset\u001b[0m\u001b[0;34m.\u001b[0m\u001b[0m__getitems__\u001b[0m\u001b[0;34m(\u001b[0m\u001b[0mpossibly_batched_index\u001b[0m\u001b[0;34m)\u001b[0m\u001b[0;34m\u001b[0m\u001b[0;34m\u001b[0m\u001b[0m\n\u001b[1;32m     50\u001b[0m             \u001b[0;32melse\u001b[0m\u001b[0;34m:\u001b[0m\u001b[0;34m\u001b[0m\u001b[0;34m\u001b[0m\u001b[0m\n\u001b[0;32m---> 51\u001b[0;31m                 \u001b[0mdata\u001b[0m \u001b[0;34m=\u001b[0m \u001b[0;34m[\u001b[0m\u001b[0mself\u001b[0m\u001b[0;34m.\u001b[0m\u001b[0mdataset\u001b[0m\u001b[0;34m[\u001b[0m\u001b[0midx\u001b[0m\u001b[0;34m]\u001b[0m \u001b[0;32mfor\u001b[0m \u001b[0midx\u001b[0m \u001b[0;32min\u001b[0m \u001b[0mpossibly_batched_index\u001b[0m\u001b[0;34m]\u001b[0m\u001b[0;34m\u001b[0m\u001b[0;34m\u001b[0m\u001b[0m\n\u001b[0m\u001b[1;32m     52\u001b[0m         \u001b[0;32melse\u001b[0m\u001b[0;34m:\u001b[0m\u001b[0;34m\u001b[0m\u001b[0;34m\u001b[0m\u001b[0m\n\u001b[1;32m     53\u001b[0m             \u001b[0mdata\u001b[0m \u001b[0;34m=\u001b[0m \u001b[0mself\u001b[0m\u001b[0;34m.\u001b[0m\u001b[0mdataset\u001b[0m\u001b[0;34m[\u001b[0m\u001b[0mpossibly_batched_index\u001b[0m\u001b[0;34m]\u001b[0m\u001b[0;34m\u001b[0m\u001b[0;34m\u001b[0m\u001b[0m\n",
            "\u001b[0;32m<ipython-input-51-6b3cd2be364b>\u001b[0m in \u001b[0;36m__getitem__\u001b[0;34m(self, idx)\u001b[0m\n\u001b[1;32m     12\u001b[0m \u001b[0;34m\u001b[0m\u001b[0m\n\u001b[1;32m     13\u001b[0m     \u001b[0;32mdef\u001b[0m \u001b[0m__getitem__\u001b[0m\u001b[0;34m(\u001b[0m\u001b[0mself\u001b[0m\u001b[0;34m,\u001b[0m \u001b[0midx\u001b[0m\u001b[0;34m)\u001b[0m\u001b[0;34m:\u001b[0m\u001b[0;34m\u001b[0m\u001b[0;34m\u001b[0m\u001b[0m\n\u001b[0;32m---> 14\u001b[0;31m         \u001b[0;32mreturn\u001b[0m \u001b[0mself\u001b[0m\u001b[0;34m.\u001b[0m\u001b[0mdatos\u001b[0m\u001b[0;34m[\u001b[0m\u001b[0midx\u001b[0m\u001b[0;34m]\u001b[0m\u001b[0;34m,\u001b[0m \u001b[0mself\u001b[0m\u001b[0;34m.\u001b[0m\u001b[0metiquetas\u001b[0m\u001b[0;34m[\u001b[0m\u001b[0midx\u001b[0m\u001b[0;34m]\u001b[0m\u001b[0;34m\u001b[0m\u001b[0;34m\u001b[0m\u001b[0m\n\u001b[0m\u001b[1;32m     15\u001b[0m \u001b[0;34m\u001b[0m\u001b[0m\n\u001b[1;32m     16\u001b[0m \u001b[0;31m# Crear una instancia del conjunto de datos y un DataLoader\u001b[0m\u001b[0;34m\u001b[0m\u001b[0;34m\u001b[0m\u001b[0m\n",
            "\u001b[0;32m/usr/local/lib/python3.10/dist-packages/pandas/core/series.py\u001b[0m in \u001b[0;36m__getitem__\u001b[0;34m(self, key)\u001b[0m\n\u001b[1;32m   1005\u001b[0m \u001b[0;34m\u001b[0m\u001b[0m\n\u001b[1;32m   1006\u001b[0m         \u001b[0;32melif\u001b[0m \u001b[0mkey_is_scalar\u001b[0m\u001b[0;34m:\u001b[0m\u001b[0;34m\u001b[0m\u001b[0;34m\u001b[0m\u001b[0m\n\u001b[0;32m-> 1007\u001b[0;31m             \u001b[0;32mreturn\u001b[0m \u001b[0mself\u001b[0m\u001b[0;34m.\u001b[0m\u001b[0m_get_value\u001b[0m\u001b[0;34m(\u001b[0m\u001b[0mkey\u001b[0m\u001b[0;34m)\u001b[0m\u001b[0;34m\u001b[0m\u001b[0;34m\u001b[0m\u001b[0m\n\u001b[0m\u001b[1;32m   1008\u001b[0m \u001b[0;34m\u001b[0m\u001b[0m\n\u001b[1;32m   1009\u001b[0m         \u001b[0;32mif\u001b[0m \u001b[0mis_hashable\u001b[0m\u001b[0;34m(\u001b[0m\u001b[0mkey\u001b[0m\u001b[0;34m)\u001b[0m\u001b[0;34m:\u001b[0m\u001b[0;34m\u001b[0m\u001b[0;34m\u001b[0m\u001b[0m\n",
            "\u001b[0;32m/usr/local/lib/python3.10/dist-packages/pandas/core/series.py\u001b[0m in \u001b[0;36m_get_value\u001b[0;34m(self, label, takeable)\u001b[0m\n\u001b[1;32m   1114\u001b[0m \u001b[0;34m\u001b[0m\u001b[0m\n\u001b[1;32m   1115\u001b[0m         \u001b[0;31m# Similar to Index.get_value, but we do not fall back to positional\u001b[0m\u001b[0;34m\u001b[0m\u001b[0;34m\u001b[0m\u001b[0m\n\u001b[0;32m-> 1116\u001b[0;31m         \u001b[0mloc\u001b[0m \u001b[0;34m=\u001b[0m \u001b[0mself\u001b[0m\u001b[0;34m.\u001b[0m\u001b[0mindex\u001b[0m\u001b[0;34m.\u001b[0m\u001b[0mget_loc\u001b[0m\u001b[0;34m(\u001b[0m\u001b[0mlabel\u001b[0m\u001b[0;34m)\u001b[0m\u001b[0;34m\u001b[0m\u001b[0;34m\u001b[0m\u001b[0m\n\u001b[0m\u001b[1;32m   1117\u001b[0m \u001b[0;34m\u001b[0m\u001b[0m\n\u001b[1;32m   1118\u001b[0m         \u001b[0;32mif\u001b[0m \u001b[0mis_integer\u001b[0m\u001b[0;34m(\u001b[0m\u001b[0mloc\u001b[0m\u001b[0;34m)\u001b[0m\u001b[0;34m:\u001b[0m\u001b[0;34m\u001b[0m\u001b[0;34m\u001b[0m\u001b[0m\n",
            "\u001b[0;32m/usr/local/lib/python3.10/dist-packages/pandas/core/indexes/base.py\u001b[0m in \u001b[0;36mget_loc\u001b[0;34m(self, key)\u001b[0m\n\u001b[1;32m   3653\u001b[0m             \u001b[0;32mreturn\u001b[0m \u001b[0mself\u001b[0m\u001b[0;34m.\u001b[0m\u001b[0m_engine\u001b[0m\u001b[0;34m.\u001b[0m\u001b[0mget_loc\u001b[0m\u001b[0;34m(\u001b[0m\u001b[0mcasted_key\u001b[0m\u001b[0;34m)\u001b[0m\u001b[0;34m\u001b[0m\u001b[0;34m\u001b[0m\u001b[0m\n\u001b[1;32m   3654\u001b[0m         \u001b[0;32mexcept\u001b[0m \u001b[0mKeyError\u001b[0m \u001b[0;32mas\u001b[0m \u001b[0merr\u001b[0m\u001b[0;34m:\u001b[0m\u001b[0;34m\u001b[0m\u001b[0;34m\u001b[0m\u001b[0m\n\u001b[0;32m-> 3655\u001b[0;31m             \u001b[0;32mraise\u001b[0m \u001b[0mKeyError\u001b[0m\u001b[0;34m(\u001b[0m\u001b[0mkey\u001b[0m\u001b[0;34m)\u001b[0m \u001b[0;32mfrom\u001b[0m \u001b[0merr\u001b[0m\u001b[0;34m\u001b[0m\u001b[0;34m\u001b[0m\u001b[0m\n\u001b[0m\u001b[1;32m   3656\u001b[0m         \u001b[0;32mexcept\u001b[0m \u001b[0mTypeError\u001b[0m\u001b[0;34m:\u001b[0m\u001b[0;34m\u001b[0m\u001b[0;34m\u001b[0m\u001b[0m\n\u001b[1;32m   3657\u001b[0m             \u001b[0;31m# If we have a listlike key, _check_indexing_error will raise\u001b[0m\u001b[0;34m\u001b[0m\u001b[0;34m\u001b[0m\u001b[0m\n",
            "\u001b[0;31mKeyError\u001b[0m: 112"
          ]
        }
      ]
    }
  ],
  "metadata": {
    "accelerator": "GPU",
    "colab": {
      "collapsed_sections": [
        "XdIh2Kfd1VGc",
        "t1k1n2sH_wzA",
        "0oQdED9wxL6Y",
        "QFfVaGZ5x9Er",
        "DrZMBVRBySJv",
        "nVDy2djy8YiF",
        "LWy2cDk8CDMq",
        "Lg8fqJdkbt_D",
        "jWUF5k4uKXhO",
        "sET4gKQnsUv8",
        "TxY2XecpCcAd",
        "RbLRDckx2ww0",
        "fXldix1YRYq5"
      ],
      "gpuType": "T4",
      "provenance": []
    },
    "kernelspec": {
      "display_name": "Python 3",
      "name": "python3"
    },
    "language_info": {
      "name": "python"
    }
  },
  "nbformat": 4,
  "nbformat_minor": 0
}